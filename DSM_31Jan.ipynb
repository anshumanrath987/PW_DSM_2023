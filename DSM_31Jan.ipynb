{
 "cells": [
  {
   "cell_type": "markdown",
   "id": "e2836bd8-f3c5-46ca-8cf1-4b0e0da306d8",
   "metadata": {},
   "source": [
    "# DSM Class 31st Jan, 2023\n",
    "## Quick Coding Notes\n",
    "### Written by: Anshuman Rath# DSM_31 Jan"
   ]
  },
  {
   "cell_type": "markdown",
   "id": "f83f4185-9b4f-4fee-a42d-6402b8e9ac1f",
   "metadata": {},
   "source": [
    "# LOGICAL OPERATORS\n",
    "1. AND\n",
    "2. OR\n",
    "3. NOT"
   ]
  },
  {
   "cell_type": "code",
   "execution_count": 3,
   "id": "55d9a37f-5d77-4095-87c3-31398960d910",
   "metadata": {},
   "outputs": [
    {
     "data": {
      "text/plain": [
       "True"
      ]
     },
     "execution_count": 3,
     "metadata": {},
     "output_type": "execute_result"
    }
   ],
   "source": [
    "not bool(0)    # not gives output as True/False"
   ]
  },
  {
   "cell_type": "code",
   "execution_count": 4,
   "id": "940d947d-aa1d-47e8-b84d-82ed9ef491e1",
   "metadata": {},
   "outputs": [
    {
     "data": {
      "text/plain": [
       "0"
      ]
     },
     "execution_count": 4,
     "metadata": {},
     "output_type": "execute_result"
    }
   ],
   "source": [
    "int(bool(0))"
   ]
  },
  {
   "cell_type": "code",
   "execution_count": 7,
   "id": "605af166-6f06-4575-a593-366ae0d5935b",
   "metadata": {},
   "outputs": [
    {
     "data": {
      "text/plain": [
       "False"
      ]
     },
     "execution_count": 7,
     "metadata": {},
     "output_type": "execute_result"
    }
   ],
   "source": [
    "not 1000   # boolean value of any number other than 0 is True, not True = False"
   ]
  },
  {
   "cell_type": "code",
   "execution_count": 8,
   "id": "ac533d23-09c8-4b5e-88c2-c3df69ddb42e",
   "metadata": {},
   "outputs": [
    {
     "data": {
      "text/plain": [
       "False"
      ]
     },
     "execution_count": 8,
     "metadata": {},
     "output_type": "execute_result"
    }
   ],
   "source": [
    "not -5.23"
   ]
  },
  {
   "cell_type": "code",
   "execution_count": 9,
   "id": "d073f405-bd6a-40d7-998b-04f72b560435",
   "metadata": {},
   "outputs": [
    {
     "data": {
      "text/plain": [
       "0"
      ]
     },
     "execution_count": 9,
     "metadata": {},
     "output_type": "execute_result"
    }
   ],
   "source": [
    "True * False  # 1 * 0 = 0"
   ]
  },
  {
   "cell_type": "code",
   "execution_count": 10,
   "id": "33e696e6-4ac2-4e73-88f6-fb942990c371",
   "metadata": {},
   "outputs": [
    {
     "data": {
      "text/plain": [
       "True"
      ]
     },
     "execution_count": 10,
     "metadata": {},
     "output_type": "execute_result"
    }
   ],
   "source": [
    "not False * True   # first it evaluates, False * True = 0 and then not 0 = True"
   ]
  },
  {
   "cell_type": "code",
   "execution_count": 11,
   "id": "b56edefc-0b47-46fd-93b6-28b22ac1758d",
   "metadata": {},
   "outputs": [
    {
     "data": {
      "text/plain": [
       "True"
      ]
     },
     "execution_count": 11,
     "metadata": {},
     "output_type": "execute_result"
    }
   ],
   "source": [
    "not (False) * True   # same as above"
   ]
  },
  {
   "cell_type": "code",
   "execution_count": 13,
   "id": "d732a3e4-87c4-4ee7-8c17-3660b0cc0f5c",
   "metadata": {},
   "outputs": [
    {
     "data": {
      "text/plain": [
       "1"
      ]
     },
     "execution_count": 13,
     "metadata": {},
     "output_type": "execute_result"
    }
   ],
   "source": [
    "(not(False)) * True  # first it evaluates not False = True (coz of brackets), and then True * True = 1"
   ]
  },
  {
   "cell_type": "code",
   "execution_count": 14,
   "id": "36b95cce-8b0d-4e21-b755-cf867ec433c0",
   "metadata": {},
   "outputs": [
    {
     "data": {
      "text/plain": [
       "False"
      ]
     },
     "execution_count": 14,
     "metadata": {},
     "output_type": "execute_result"
    }
   ],
   "source": [
    "False * False == True"
   ]
  },
  {
   "cell_type": "code",
   "execution_count": 15,
   "id": "8abc335a-9fd0-4798-8452-6cb5ff16a97c",
   "metadata": {},
   "outputs": [
    {
     "data": {
      "text/plain": [
       "True"
      ]
     },
     "execution_count": 15,
     "metadata": {},
     "output_type": "execute_result"
    }
   ],
   "source": [
    "not False * True == True   # first it evaluates False * True = 0, then not 0 = True, True == True gives True as output"
   ]
  },
  {
   "cell_type": "markdown",
   "id": "1cf2b23f-a587-4ef7-9670-fc560d3cbaec",
   "metadata": {},
   "source": [
    "# EQUALITY OPERATORS"
   ]
  },
  {
   "cell_type": "code",
   "execution_count": 20,
   "id": "95c44eb6-b75b-40d1-b681-1c0b6843dc99",
   "metadata": {},
   "outputs": [
    {
     "name": "stdout",
     "output_type": "stream",
     "text": [
      "140702359873728\n",
      "140702354955008\n",
      "False\n",
      "True\n"
     ]
    }
   ],
   "source": [
    "lst_a = [1,2,3,4]\n",
    "lst_b = [1,2,3,4]\n",
    "\n",
    "print(id(lst_a))  # gives memory address (identity) of lst_a\n",
    "print(id(lst_b))  # gives memory address of lst_b\n",
    "\n",
    "print(lst_a is lst_b) # is operator checks memory address, since lst_a and lst_b have different addresses, output is False\n",
    "print(lst_a is not lst_b) # since both have different addresses, is not statement will return True"
   ]
  },
  {
   "cell_type": "code",
   "execution_count": 21,
   "id": "dd452548-b4de-4e80-a926-fd4a8cfb08c4",
   "metadata": {},
   "outputs": [
    {
     "name": "stdout",
     "output_type": "stream",
     "text": [
      "140702359873728\n",
      "140702359873728\n",
      "True\n"
     ]
    }
   ],
   "source": [
    "lst_b = lst_a\n",
    "print(id(lst_a))  \n",
    "print(id(lst_b))\n",
    "# now both lists will have the same memory address\n",
    "\n",
    "print(lst_a is lst_b) # hence now the output will be True"
   ]
  },
  {
   "cell_type": "code",
   "execution_count": 22,
   "id": "5364f539-a1a3-459e-bdd1-25bc57ee122c",
   "metadata": {},
   "outputs": [
    {
     "data": {
      "text/plain": [
       "True"
      ]
     },
     "execution_count": 22,
     "metadata": {},
     "output_type": "execute_result"
    }
   ],
   "source": [
    "lst_c = [5,6,7,8]\n",
    "lst_d = [5,6,7,8]\n",
    "lst_c == lst_d   # == operator just checks the value stored and not the memory address"
   ]
  },
  {
   "cell_type": "code",
   "execution_count": 25,
   "id": "ba5b6801-9a2a-43e9-b7cd-ffc3d4fac64f",
   "metadata": {},
   "outputs": [
    {
     "name": "stdout",
     "output_type": "stream",
     "text": [
      "Address of lst_a is 140702353225472\n",
      "Address of lst_b is 140702352176832\n",
      "Address of a is 140702844076400\n",
      "Address of b is 140702844076400\n",
      "Address of c is 140702357244592\n",
      "Address of d is 140702357244592\n"
     ]
    }
   ],
   "source": [
    "lst_a = [1,2,3,4]\n",
    "lst_b = [1,2,3,4]\n",
    "a = 5\n",
    "b = 5\n",
    "c = \"car\"\n",
    "d = \"car\"\n",
    "print(f\"Address of lst_a is {id(lst_a)}\") \n",
    "print(f\"Address of lst_b is {id(lst_b)}\")\n",
    "print(f\"Address of a is {id(a)}\")\n",
    "print(f\"Address of b is {id(b)}\") \n",
    "print(f\"Address of c is {id(c)}\")\n",
    "print(f\"Address of d is {id(d)}\") \n",
    "# in case of lists, even though values are same they are assigned different addresses\n",
    "# in case of int/float/strings etc, when values are same they are given the same address"
   ]
  },
  {
   "cell_type": "code",
   "execution_count": 33,
   "id": "8970e865-38e9-4745-abf3-237f74ce5ec3",
   "metadata": {},
   "outputs": [
    {
     "name": "stdout",
     "output_type": "stream",
     "text": [
      "[10, 2, 3, 4]\n"
     ]
    }
   ],
   "source": [
    "# MUTABILITY\n",
    "\n",
    "list_a = [1,2,3,4]\n",
    "\n",
    "# we can easily replace any element from a list with another element\n",
    "list_a[0] = 10  # this replaces 0th index of list_a (which is 1) with the value 10\n",
    "print(list_a) # the list_a will now have 10,2,3,4\n",
    "# hence lists are mutable (changeable)"
   ]
  },
  {
   "cell_type": "code",
   "execution_count": 28,
   "id": "1b3efcd5-d22b-4bdc-85af-4a138bc24bbd",
   "metadata": {},
   "outputs": [
    {
     "name": "stdout",
     "output_type": "stream",
     "text": [
      "A\n"
     ]
    }
   ],
   "source": [
    "string_a = \"Anshuman\" # String is a collection of characters\n",
    "print(string_a[0]) # Will return the character at 0th index which is A"
   ]
  },
  {
   "cell_type": "code",
   "execution_count": 29,
   "id": "c60bd06b-4ed6-4a1e-9e2c-6b22a94ebeca",
   "metadata": {},
   "outputs": [
    {
     "ename": "TypeError",
     "evalue": "'str' object does not support item assignment",
     "output_type": "error",
     "traceback": [
      "\u001b[0;31m---------------------------------------------------------------------------\u001b[0m",
      "\u001b[0;31mTypeError\u001b[0m                                 Traceback (most recent call last)",
      "Cell \u001b[0;32mIn[29], line 1\u001b[0m\n\u001b[0;32m----> 1\u001b[0m \u001b[43mstring_a\u001b[49m\u001b[43m[\u001b[49m\u001b[38;5;241;43m0\u001b[39;49m\u001b[43m]\u001b[49m \u001b[38;5;241m=\u001b[39m \u001b[38;5;124m\"\u001b[39m\u001b[38;5;124mI\u001b[39m\u001b[38;5;124m\"\u001b[39m\n\u001b[1;32m      2\u001b[0m \u001b[38;5;66;03m# Since Strings are IMMUTABLE, we cannot replace the characters (elements) like we did in list\u001b[39;00m\n\u001b[1;32m      3\u001b[0m \u001b[38;5;66;03m# hence it will produce an error\u001b[39;00m\n",
      "\u001b[0;31mTypeError\u001b[0m: 'str' object does not support item assignment"
     ]
    }
   ],
   "source": [
    "string_a[0] = \"I\"\n",
    "# Since Strings are IMMUTABLE, we cannot replace the characters (elements) like we did in list\n",
    "# hence it will produce an error"
   ]
  },
  {
   "cell_type": "code",
   "execution_count": 30,
   "id": "fea0ac5d-17df-451e-8efa-5a8199cd810c",
   "metadata": {},
   "outputs": [],
   "source": [
    "# Summarising,\n",
    "# Lists are MUTABLE\n",
    "# Strings are not MUTABLE (or IMMUTABLE)"
   ]
  },
  {
   "cell_type": "code",
   "execution_count": 32,
   "id": "191bbbe3-9547-41c1-9c80-acf7cd6e076a",
   "metadata": {},
   "outputs": [
    {
     "name": "stdout",
     "output_type": "stream",
     "text": [
      "Krish\n"
     ]
    }
   ],
   "source": [
    "# However we can replace the String as a whole\n",
    "string_a = \"Anshuman\"\n",
    "string_a = \"Krish\"\n",
    "print(string_a)"
   ]
  },
  {
   "cell_type": "code",
   "execution_count": 46,
   "id": "ab987673-19a8-4854-9470-2ac3219657a6",
   "metadata": {},
   "outputs": [],
   "source": [
    "a = 100\n",
    "b = 64"
   ]
  },
  {
   "cell_type": "code",
   "execution_count": 62,
   "id": "a7605cfe-14b7-4f2d-8a56-aa2f0a475704",
   "metadata": {},
   "outputs": [
    {
     "name": "stdout",
     "output_type": "stream",
     "text": [
      "False\n",
      "True\n",
      "True\n",
      "False\n",
      "False\n",
      "True\n",
      "True\n",
      "True\n",
      "False\n"
     ]
    }
   ],
   "source": [
    "# COMPARISION OPERATORS\n",
    "\n",
    "A = 25\n",
    "B = 36\n",
    "C = 25\n",
    "print(A > B) # returns False\n",
    "print(A < B) # returns True\n",
    "print(A <= B) # <= means less than or equal to, hence result is True\n",
    "print(A >= B) # >= means greater than or equal to, hence result is False\n",
    "print(A == B) # returns False\n",
    "print(A != B) # != means not equal to, hence result is True\n",
    "print(A == C) # returns True\n",
    "print(A >= C) # returns True\n",
    "print(A != C) # returns False"
   ]
  },
  {
   "cell_type": "markdown",
   "id": "b697741d-722b-467e-b6d2-04a30996e696",
   "metadata": {},
   "source": [
    "# ARITHEMTIC OPERATORS"
   ]
  },
  {
   "cell_type": "code",
   "execution_count": 39,
   "id": "915068a7-9499-4d85-9da7-5b25889078b3",
   "metadata": {},
   "outputs": [
    {
     "data": {
      "text/plain": [
       "164"
      ]
     },
     "execution_count": 39,
     "metadata": {},
     "output_type": "execute_result"
    }
   ],
   "source": [
    "a+b # addition"
   ]
  },
  {
   "cell_type": "code",
   "execution_count": 40,
   "id": "12f47c8d-e972-4867-84e9-966def9ad121",
   "metadata": {},
   "outputs": [
    {
     "data": {
      "text/plain": [
       "36"
      ]
     },
     "execution_count": 40,
     "metadata": {},
     "output_type": "execute_result"
    }
   ],
   "source": [
    "a-b # subtraction"
   ]
  },
  {
   "cell_type": "code",
   "execution_count": 41,
   "id": "400c5b20-73a0-465e-968a-971808d841b4",
   "metadata": {},
   "outputs": [
    {
     "data": {
      "text/plain": [
       "6400"
      ]
     },
     "execution_count": 41,
     "metadata": {},
     "output_type": "execute_result"
    }
   ],
   "source": [
    "a*b # multiplication"
   ]
  },
  {
   "cell_type": "code",
   "execution_count": 42,
   "id": "eb0f0480-7551-42f2-b117-077c0a5fd389",
   "metadata": {},
   "outputs": [
    {
     "data": {
      "text/plain": [
       "1.5625"
      ]
     },
     "execution_count": 42,
     "metadata": {},
     "output_type": "execute_result"
    }
   ],
   "source": [
    "a/b # division"
   ]
  },
  {
   "cell_type": "code",
   "execution_count": 45,
   "id": "61fbb40b-8537-448f-9f8b-b7faeb1f83b7",
   "metadata": {},
   "outputs": [
    {
     "data": {
      "text/plain": [
       "1"
      ]
     },
     "execution_count": 45,
     "metadata": {},
     "output_type": "execute_result"
    }
   ],
   "source": [
    "a//b # // = integer division, it returns the quotient"
   ]
  },
  {
   "cell_type": "code",
   "execution_count": 44,
   "id": "bb019fcc-1c14-4f1e-b6d0-3137b3f4b7a0",
   "metadata": {},
   "outputs": [
    {
     "data": {
      "text/plain": [
       "36"
      ]
     },
     "execution_count": 44,
     "metadata": {},
     "output_type": "execute_result"
    }
   ],
   "source": [
    "a%b # % = modulo operator, it returns the remainder"
   ]
  },
  {
   "cell_type": "code",
   "execution_count": 48,
   "id": "ea17bd0a-8332-468f-b7e1-cdc46059fe0e",
   "metadata": {},
   "outputs": [
    {
     "data": {
      "text/plain": [
       "'0b1010'"
      ]
     },
     "execution_count": 48,
     "metadata": {},
     "output_type": "execute_result"
    }
   ],
   "source": [
    "# Printing Binary Values -\n",
    "var = 10\n",
    "bin(var)  #0b1010 -->0b means binary format, rest 1010 is the binary value of 10"
   ]
  },
  {
   "cell_type": "code",
   "execution_count": 49,
   "id": "a18c00fb-513a-4827-957f-8c8553e6d310",
   "metadata": {},
   "outputs": [
    {
     "data": {
      "text/plain": [
       "'0b101'"
      ]
     },
     "execution_count": 49,
     "metadata": {},
     "output_type": "execute_result"
    }
   ],
   "source": [
    "var2 = 5\n",
    "bin(var2)"
   ]
  },
  {
   "cell_type": "markdown",
   "id": "45bd4820-68a6-49e8-aadd-31c3f5b6ad66",
   "metadata": {},
   "source": [
    "# STRINGS"
   ]
  },
  {
   "cell_type": "code",
   "execution_count": 51,
   "id": "95514e26-a67c-47ab-a067-63055bcf8ffa",
   "metadata": {},
   "outputs": [
    {
     "data": {
      "text/plain": [
       "str"
      ]
     },
     "execution_count": 51,
     "metadata": {},
     "output_type": "execute_result"
    }
   ],
   "source": [
    "msg = \"Welcome to data science masters\"\n",
    "type(msg) # str (String) type"
   ]
  },
  {
   "cell_type": "code",
   "execution_count": 53,
   "id": "cbf5cab8-5f22-4e96-9867-3d12f113f121",
   "metadata": {},
   "outputs": [
    {
     "data": {
      "text/plain": [
       "'W'"
      ]
     },
     "execution_count": 53,
     "metadata": {},
     "output_type": "execute_result"
    }
   ],
   "source": [
    "msg[0]  # Returns the 0th index character - W"
   ]
  },
  {
   "cell_type": "code",
   "execution_count": 54,
   "id": "47acf183-8805-4d3e-a48b-1f73d6045695",
   "metadata": {},
   "outputs": [
    {
     "ename": "TypeError",
     "evalue": "'str' object does not support item assignment",
     "output_type": "error",
     "traceback": [
      "\u001b[0;31m---------------------------------------------------------------------------\u001b[0m",
      "\u001b[0;31mTypeError\u001b[0m                                 Traceback (most recent call last)",
      "Cell \u001b[0;32mIn[54], line 1\u001b[0m\n\u001b[0;32m----> 1\u001b[0m \u001b[43mmsg\u001b[49m\u001b[43m[\u001b[49m\u001b[38;5;241;43m0\u001b[39;49m\u001b[43m]\u001b[49m \u001b[38;5;241m=\u001b[39m \u001b[38;5;124m\"\u001b[39m\u001b[38;5;124mK\u001b[39m\u001b[38;5;124m\"\u001b[39m  \u001b[38;5;66;03m# Since strings are immutable, you cannot replace a character\u001b[39;00m\n",
      "\u001b[0;31mTypeError\u001b[0m: 'str' object does not support item assignment"
     ]
    }
   ],
   "source": [
    "msg[0] = \"K\"  # Since strings are immutable, you cannot replace a character"
   ]
  },
  {
   "cell_type": "code",
   "execution_count": 55,
   "id": "64e47a52-bced-47a0-9f9f-c3ab1e1823c4",
   "metadata": {},
   "outputs": [
    {
     "name": "stdout",
     "output_type": "stream",
     "text": [
      "Welcome to web development course\n"
     ]
    }
   ],
   "source": [
    "msg = \"Welcome to web development course\"\n",
    "print(msg)\n",
    "# You can change the String as a whole"
   ]
  },
  {
   "cell_type": "code",
   "execution_count": 56,
   "id": "e269576a-9ea8-4f0a-bb87-ef8ed8ad5bdb",
   "metadata": {},
   "outputs": [
    {
     "data": {
      "text/plain": [
       "['__add__',\n",
       " '__class__',\n",
       " '__contains__',\n",
       " '__delattr__',\n",
       " '__dir__',\n",
       " '__doc__',\n",
       " '__eq__',\n",
       " '__format__',\n",
       " '__ge__',\n",
       " '__getattribute__',\n",
       " '__getitem__',\n",
       " '__getnewargs__',\n",
       " '__gt__',\n",
       " '__hash__',\n",
       " '__init__',\n",
       " '__init_subclass__',\n",
       " '__iter__',\n",
       " '__le__',\n",
       " '__len__',\n",
       " '__lt__',\n",
       " '__mod__',\n",
       " '__mul__',\n",
       " '__ne__',\n",
       " '__new__',\n",
       " '__reduce__',\n",
       " '__reduce_ex__',\n",
       " '__repr__',\n",
       " '__rmod__',\n",
       " '__rmul__',\n",
       " '__setattr__',\n",
       " '__sizeof__',\n",
       " '__str__',\n",
       " '__subclasshook__',\n",
       " 'capitalize',\n",
       " 'casefold',\n",
       " 'center',\n",
       " 'count',\n",
       " 'encode',\n",
       " 'endswith',\n",
       " 'expandtabs',\n",
       " 'find',\n",
       " 'format',\n",
       " 'format_map',\n",
       " 'index',\n",
       " 'isalnum',\n",
       " 'isalpha',\n",
       " 'isascii',\n",
       " 'isdecimal',\n",
       " 'isdigit',\n",
       " 'isidentifier',\n",
       " 'islower',\n",
       " 'isnumeric',\n",
       " 'isprintable',\n",
       " 'isspace',\n",
       " 'istitle',\n",
       " 'isupper',\n",
       " 'join',\n",
       " 'ljust',\n",
       " 'lower',\n",
       " 'lstrip',\n",
       " 'maketrans',\n",
       " 'partition',\n",
       " 'removeprefix',\n",
       " 'removesuffix',\n",
       " 'replace',\n",
       " 'rfind',\n",
       " 'rindex',\n",
       " 'rjust',\n",
       " 'rpartition',\n",
       " 'rsplit',\n",
       " 'rstrip',\n",
       " 'split',\n",
       " 'splitlines',\n",
       " 'startswith',\n",
       " 'strip',\n",
       " 'swapcase',\n",
       " 'title',\n",
       " 'translate',\n",
       " 'upper',\n",
       " 'zfill']"
      ]
     },
     "execution_count": 56,
     "metadata": {},
     "output_type": "execute_result"
    }
   ],
   "source": [
    "# To check inbuilt functions for a String -\n",
    "dir(msg)"
   ]
  },
  {
   "cell_type": "code",
   "execution_count": 57,
   "id": "6106d1c6-5dc2-4dd3-924b-66bf61c327ce",
   "metadata": {},
   "outputs": [],
   "source": [
    "msg1 = \"Pw Skills Data Science\""
   ]
  },
  {
   "cell_type": "code",
   "execution_count": 58,
   "id": "8c1b9042-6e33-4b04-90ff-a59e7a0e6ce0",
   "metadata": {},
   "outputs": [
    {
     "data": {
      "text/plain": [
       "'w'"
      ]
     },
     "execution_count": 58,
     "metadata": {},
     "output_type": "execute_result"
    }
   ],
   "source": [
    "# To access the letter 'w' \n",
    "msg1[1]  # w has index position 1 (P has index position 0)"
   ]
  },
  {
   "cell_type": "code",
   "execution_count": 68,
   "id": "6b30423f-fec0-4d6d-a8bd-cd931b3de52f",
   "metadata": {},
   "outputs": [
    {
     "data": {
      "text/plain": [
       "'w Skills Data Science'"
      ]
     },
     "execution_count": 68,
     "metadata": {},
     "output_type": "execute_result"
    }
   ],
   "source": [
    "msg1[1:]  # extracts all characters starting from index pos 1 till last"
   ]
  },
  {
   "cell_type": "code",
   "execution_count": 61,
   "id": "8f2b2b93-7b00-4598-9d4d-d4222d91521a",
   "metadata": {},
   "outputs": [
    {
     "data": {
      "text/plain": [
       "'w Skills '"
      ]
     },
     "execution_count": 61,
     "metadata": {},
     "output_type": "execute_result"
    }
   ],
   "source": [
    "msg1[1:10] # extracts characters from index pos 1 till index pos 10-1 (9)\n",
    "# spaces are also included as characters and assigned index positions"
   ]
  },
  {
   "cell_type": "code",
   "execution_count": 65,
   "id": "6811c71d-b2ae-41db-a815-c8cfd7745678",
   "metadata": {},
   "outputs": [
    {
     "data": {
      "text/plain": [
       "'e'"
      ]
     },
     "execution_count": 65,
     "metadata": {},
     "output_type": "execute_result"
    }
   ],
   "source": [
    "msg1[-1] # extracts the last character"
   ]
  },
  {
   "cell_type": "code",
   "execution_count": 66,
   "id": "f5ac4358-3846-4df3-a1de-4b46663f00a9",
   "metadata": {},
   "outputs": [
    {
     "data": {
      "text/plain": [
       "'c'"
      ]
     },
     "execution_count": 66,
     "metadata": {},
     "output_type": "execute_result"
    }
   ],
   "source": [
    "msg1[-2] # extracts 2nd last character"
   ]
  },
  {
   "cell_type": "code",
   "execution_count": 67,
   "id": "64d070ff-9ac3-4fa5-b82b-ec1b41e54139",
   "metadata": {},
   "outputs": [
    {
     "data": {
      "text/plain": [
       "'nce'"
      ]
     },
     "execution_count": 67,
     "metadata": {},
     "output_type": "execute_result"
    }
   ],
   "source": [
    "msg1[-3:] # extracts last 3 characters"
   ]
  },
  {
   "cell_type": "code",
   "execution_count": 69,
   "id": "1d7dc937-9515-409f-b909-63fdcce8d9f5",
   "metadata": {},
   "outputs": [
    {
     "data": {
      "text/plain": [
       "'Pw Skills Data Science'"
      ]
     },
     "execution_count": 69,
     "metadata": {},
     "output_type": "execute_result"
    }
   ],
   "source": [
    "msg1[:] # extracts all characters"
   ]
  },
  {
   "cell_type": "code",
   "execution_count": 71,
   "id": "41363526-5b7d-4b59-b77f-a88be7367324",
   "metadata": {},
   "outputs": [
    {
     "data": {
      "text/plain": [
       "'rt'"
      ]
     },
     "execution_count": 71,
     "metadata": {},
     "output_type": "execute_result"
    }
   ],
   "source": [
    "name = \"Karthik\"\n",
    "name[-5:4]  # element with index pos -5 = r and element with index pos 4 = h\n",
    "# hence all characters from r till the character (just before h) is extracted"
   ]
  },
  {
   "cell_type": "code",
   "execution_count": 72,
   "id": "27dfb56c-4431-4ba9-8a55-0f1c76aca14c",
   "metadata": {},
   "outputs": [],
   "source": [
    "word = \"Computer\""
   ]
  },
  {
   "cell_type": "code",
   "execution_count": 81,
   "id": "d284b2a5-6560-4af3-a5f9-ca3981d4f488",
   "metadata": {},
   "outputs": [
    {
     "data": {
      "text/plain": [
       "'retupmoC'"
      ]
     },
     "execution_count": 81,
     "metadata": {},
     "output_type": "execute_result"
    }
   ],
   "source": [
    "word[::-1] # reverses the String\n",
    "# anything you write after '::' indicates step size\n",
    "# since step size is -1, all characters (one by one) are displayed (in reverse)"
   ]
  },
  {
   "cell_type": "code",
   "execution_count": 79,
   "id": "17f6aa40-5b56-45e3-a8b3-15d3e128f76a",
   "metadata": {},
   "outputs": [
    {
     "data": {
      "text/plain": [
       "'rtpo'"
      ]
     },
     "execution_count": 79,
     "metadata": {},
     "output_type": "execute_result"
    }
   ],
   "source": [
    "word[::-2] # every 2nd element (starting fron last element \"r\") is displayed in reverse"
   ]
  },
  {
   "cell_type": "code",
   "execution_count": 80,
   "id": "f01b5349-bd2d-475b-9ffd-0a0f8cb76ac5",
   "metadata": {},
   "outputs": [
    {
     "data": {
      "text/plain": [
       "'Cmue'"
      ]
     },
     "execution_count": 80,
     "metadata": {},
     "output_type": "execute_result"
    }
   ],
   "source": [
    "word[::2] # since step size is positive 2 here, the String won't be reversed\n",
    "# step size 2 means every second element (starting from first element \"C\") will be displayed"
   ]
  },
  {
   "cell_type": "code",
   "execution_count": 77,
   "id": "53103b20-08c1-4dc9-bf91-f62c7737e661",
   "metadata": {},
   "outputs": [
    {
     "data": {
      "text/plain": [
       "'pmoC'"
      ]
     },
     "execution_count": 77,
     "metadata": {},
     "output_type": "execute_result"
    }
   ],
   "source": [
    "word[3::-1]\n",
    "# first it will go to the letter at index position 3, which is p here (word = Computer)\n",
    "# then since the step size is -1 (negative), it will reverse the String starting from the letter 'p'"
   ]
  },
  {
   "cell_type": "code",
   "execution_count": 78,
   "id": "ab80fe52-2b50-494f-9fec-274a1ecda56e",
   "metadata": {},
   "outputs": [
    {
     "data": {
      "text/plain": [
       "'po'"
      ]
     },
     "execution_count": 78,
     "metadata": {},
     "output_type": "execute_result"
    }
   ],
   "source": [
    "word[3::-2]\n",
    "# first it will go to the letter at index position 3, which is p here (word = Computer)\n",
    "# then since the step size is -2 (negative), it will print every 2nd element starting from 'p' in reverse"
   ]
  },
  {
   "cell_type": "code",
   "execution_count": 82,
   "id": "c6b6d6dd-e6a8-491d-a56e-616eb9176aa7",
   "metadata": {},
   "outputs": [
    {
     "data": {
      "text/plain": [
       "'si'"
      ]
     },
     "execution_count": 82,
     "metadata": {},
     "output_type": "execute_result"
    }
   ],
   "source": [
    "word1 = \"Krish\"\n",
    "word1[3:1:-1]\n",
    "# first it will go to the letter at index position 3, which is 's' here\n",
    "# then it will go to the letter at index position 1, which is 'r' here\n",
    "# since step size is -1 (negative), it will reverse the String starting from 's' till 'r' and exclude 'r'"
   ]
  },
  {
   "cell_type": "raw",
   "id": "2d038e7d-a8ce-45c3-a053-b6d05c6863e1",
   "metadata": {},
   "source": [
    "QUESTION -\n",
    "Given a String - course_name = \"Data Science Masters\"\n",
    "Extract and print Science in forward and reverse order"
   ]
  },
  {
   "cell_type": "code",
   "execution_count": 87,
   "id": "a61366b4-1d7c-4da5-b6ee-433fc63d5a11",
   "metadata": {},
   "outputs": [
    {
     "name": "stdout",
     "output_type": "stream",
     "text": [
      "Science\n",
      "ecneicS\n"
     ]
    }
   ],
   "source": [
    "# ANSWER -\n",
    "\n",
    "course_name = \"Data Science Masters\"\n",
    "print(course_name[5:12]) # to extract and print Science\n",
    "print(course_name[11:4:-1]) # to extract and print Science in reverse"
   ]
  },
  {
   "cell_type": "code",
   "execution_count": 88,
   "id": "c5acd921-2102-48c2-84b1-0613a68850f7",
   "metadata": {},
   "outputs": [
    {
     "data": {
      "text/plain": [
       "'Data Science MastersCourse'"
      ]
     },
     "execution_count": 88,
     "metadata": {},
     "output_type": "execute_result"
    }
   ],
   "source": [
    "course_name + \"Course\" # concatenation"
   ]
  },
  {
   "cell_type": "code",
   "execution_count": 89,
   "id": "e30549a2-4ef3-4d69-a817-e61fc8b237a4",
   "metadata": {},
   "outputs": [
    {
     "data": {
      "text/plain": [
       "'carscarscarscarscars'"
      ]
     },
     "execution_count": 89,
     "metadata": {},
     "output_type": "execute_result"
    }
   ],
   "source": [
    "\"cars\" * 5 # prints cars for 5 times"
   ]
  },
  {
   "cell_type": "code",
   "execution_count": 90,
   "id": "c05d88b2-ef9a-45a0-97cc-1a214029bf6e",
   "metadata": {},
   "outputs": [
    {
     "data": {
      "text/plain": [
       "5"
      ]
     },
     "execution_count": 90,
     "metadata": {},
     "output_type": "execute_result"
    }
   ],
   "source": [
    "word = \"apple\"\n",
    "len(word)  # to display length of String"
   ]
  },
  {
   "cell_type": "code",
   "execution_count": 2,
   "id": "5762aa11-2b0a-4478-9916-eb1cf9dedeef",
   "metadata": {},
   "outputs": [
    {
     "data": {
      "text/plain": [
       "9"
      ]
     },
     "execution_count": 2,
     "metadata": {},
     "output_type": "execute_result"
    }
   ],
   "source": [
    "course_name = \"Data Science Masters\"\n",
    "course_name.find(\"n\")  # displays index position of the FIRST \"n\""
   ]
  },
  {
   "cell_type": "code",
   "execution_count": 92,
   "id": "5ec75212-b8e2-45f5-a75f-5c20f349a75a",
   "metadata": {},
   "outputs": [
    {
     "data": {
      "text/plain": [
       "1"
      ]
     },
     "execution_count": 92,
     "metadata": {},
     "output_type": "execute_result"
    }
   ],
   "source": [
    "course_name.find(\"a\")"
   ]
  },
  {
   "cell_type": "code",
   "execution_count": 96,
   "id": "59c81cec-ad95-4300-b6e9-0870b9898f1f",
   "metadata": {},
   "outputs": [
    {
     "data": {
      "text/plain": [
       "2"
      ]
     },
     "execution_count": 96,
     "metadata": {},
     "output_type": "execute_result"
    }
   ],
   "source": [
    "course_name.find(\"t\",2,10) # displays index position of the First \"a\" starting from characters with index position 2 till index position 10-1 (9)"
   ]
  },
  {
   "cell_type": "code",
   "execution_count": 98,
   "id": "a2d117a0-6ab6-4ca8-8b62-d37560a502df",
   "metadata": {},
   "outputs": [
    {
     "data": {
      "text/plain": [
       "-1"
      ]
     },
     "execution_count": 98,
     "metadata": {},
     "output_type": "execute_result"
    }
   ],
   "source": [
    "course_name.find(\"z\") # since \"z\" is not present, it prints -1"
   ]
  },
  {
   "cell_type": "code",
   "execution_count": 3,
   "id": "0e9d153a-d75b-4f0d-afe9-4708729d8f6d",
   "metadata": {},
   "outputs": [
    {
     "data": {
      "text/plain": [
       "3"
      ]
     },
     "execution_count": 3,
     "metadata": {},
     "output_type": "execute_result"
    }
   ],
   "source": [
    "course_name.count(\"a\") # finds the number of times \"a\" is present in the String"
   ]
  },
  {
   "cell_type": "code",
   "execution_count": 4,
   "id": "60b75cc0-1e7a-4df8-a8b9-f67bd314e191",
   "metadata": {},
   "outputs": [
    {
     "data": {
      "text/plain": [
       "2"
      ]
     },
     "execution_count": 4,
     "metadata": {},
     "output_type": "execute_result"
    }
   ],
   "source": [
    "course_name.count(\" \") # find the number of spaces \" \" present in the String"
   ]
  },
  {
   "cell_type": "code",
   "execution_count": 8,
   "id": "1f0e65c4-fea4-4e02-b045-f3b043b8bdbd",
   "metadata": {},
   "outputs": [
    {
     "data": {
      "text/plain": [
       "1"
      ]
     },
     "execution_count": 8,
     "metadata": {},
     "output_type": "execute_result"
    }
   ],
   "source": [
    "course_name.count(\"a\",1,3) # finds the number of times \"a\" is present in the String from index pos. to index pos. 3-1 (2)"
   ]
  },
  {
   "cell_type": "code",
   "execution_count": 10,
   "id": "4af5208c-0f6e-4136-92e2-9b79a5e749c5",
   "metadata": {},
   "outputs": [
    {
     "data": {
      "text/plain": [
       "['Data', 'Science', 'Masters']"
      ]
     },
     "execution_count": 10,
     "metadata": {},
     "output_type": "execute_result"
    }
   ],
   "source": [
    "# STRING SPLIT FUNCTION\n",
    "course_name = \"Data Science Masters\"\n",
    "course_name.split(\" \") # \" \" works as a separator"
   ]
  },
  {
   "cell_type": "code",
   "execution_count": 11,
   "id": "925b0063-8961-407a-8961-a03f02fbd001",
   "metadata": {},
   "outputs": [
    {
     "data": {
      "text/plain": [
       "['Data ', 'cience Masters']"
      ]
     },
     "execution_count": 11,
     "metadata": {},
     "output_type": "execute_result"
    }
   ],
   "source": [
    "course_name.split(\"S\")"
   ]
  },
  {
   "cell_type": "code",
   "execution_count": 12,
   "id": "e7e82afd-354f-43cf-88fe-1c294202fbc6",
   "metadata": {},
   "outputs": [
    {
     "data": {
      "text/plain": [
       "('Data ', 'S', 'cience Masters')"
      ]
     },
     "execution_count": 12,
     "metadata": {},
     "output_type": "execute_result"
    }
   ],
   "source": [
    "course_name.partition(\"S\") # separates and displays the separator as well"
   ]
  },
  {
   "cell_type": "code",
   "execution_count": 13,
   "id": "f5e6f2f5-466f-4f99-aeaa-0b7b415ac46e",
   "metadata": {},
   "outputs": [],
   "source": [
    "# STRING UPPER AND LOWER CASES\n",
    "\n",
    "word = \"Web Development Course\""
   ]
  },
  {
   "cell_type": "code",
   "execution_count": 14,
   "id": "d7c7fad4-67b3-4635-b717-aa503bbae816",
   "metadata": {},
   "outputs": [
    {
     "data": {
      "text/plain": [
       "'WEB DEVELOPMENT COURSE'"
      ]
     },
     "execution_count": 14,
     "metadata": {},
     "output_type": "execute_result"
    }
   ],
   "source": [
    "word.upper() # converts to upper case"
   ]
  },
  {
   "cell_type": "code",
   "execution_count": 15,
   "id": "1d6b7d18-ba4b-4143-87aa-c700b0ffd71e",
   "metadata": {},
   "outputs": [
    {
     "data": {
      "text/plain": [
       "'web development course'"
      ]
     },
     "execution_count": 15,
     "metadata": {},
     "output_type": "execute_result"
    }
   ],
   "source": [
    "word.lower() # converts to lower case"
   ]
  },
  {
   "cell_type": "code",
   "execution_count": 16,
   "id": "20d8987b-207e-4007-889a-af5b0c642b40",
   "metadata": {},
   "outputs": [
    {
     "data": {
      "text/plain": [
       "'wEB dEVELOPMENT cOURSE'"
      ]
     },
     "execution_count": 16,
     "metadata": {},
     "output_type": "execute_result"
    }
   ],
   "source": [
    "word.swapcase() # swaps cases"
   ]
  },
  {
   "cell_type": "code",
   "execution_count": 17,
   "id": "eb285095-cb90-4767-936d-ec3d45e9d322",
   "metadata": {},
   "outputs": [
    {
     "data": {
      "text/plain": [
       "'Anshuman Rath'"
      ]
     },
     "execution_count": 17,
     "metadata": {},
     "output_type": "execute_result"
    }
   ],
   "source": [
    "name = \"anshuman rath\"\n",
    "name.title() # makes first letter of each word to upper case"
   ]
  }
 ],
 "metadata": {
  "kernelspec": {
   "display_name": "Python 3 (ipykernel)",
   "language": "python",
   "name": "python3"
  },
  "language_info": {
   "codemirror_mode": {
    "name": "ipython",
    "version": 3
   },
   "file_extension": ".py",
   "mimetype": "text/x-python",
   "name": "python",
   "nbconvert_exporter": "python",
   "pygments_lexer": "ipython3",
   "version": "3.10.8"
  }
 },
 "nbformat": 4,
 "nbformat_minor": 5
}
