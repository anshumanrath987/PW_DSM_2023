{
 "cells": [
  {
   "cell_type": "markdown",
   "id": "00c33eff-6add-4272-a817-459b9a53bd8e",
   "metadata": {},
   "source": [
    "# DSM Class 4th Feb, 2023\n",
    "## Quick Coding Notes\n",
    "### Written by: Anshuman Rath"
   ]
  },
  {
   "cell_type": "markdown",
   "id": "ffcb89d0-4a49-4d00-ac15-bcc0a92e943d",
   "metadata": {},
   "source": [
    "# LAMBDA FUNCTIONS"
   ]
  },
  {
   "cell_type": "code",
   "execution_count": 2,
   "id": "f0860458-f31d-4bf8-a205-0b843998e696",
   "metadata": {},
   "outputs": [],
   "source": [
    "def test(n,p):\n",
    "    return n**p"
   ]
  },
  {
   "cell_type": "code",
   "execution_count": 3,
   "id": "ba928dd0-97ed-4d27-b0d6-e79afc85b257",
   "metadata": {},
   "outputs": [
    {
     "data": {
      "text/plain": [
       "9"
      ]
     },
     "execution_count": 3,
     "metadata": {},
     "output_type": "execute_result"
    }
   ],
   "source": [
    "test(3,2)"
   ]
  },
  {
   "cell_type": "code",
   "execution_count": 17,
   "id": "6953cb1d-999a-4582-9126-92a1792b8fd8",
   "metadata": {},
   "outputs": [],
   "source": [
    "# lambda function is a short hand of the function\n",
    "a = lambda n,p : n**p"
   ]
  },
  {
   "cell_type": "code",
   "execution_count": 8,
   "id": "0eb59466-f3e4-44a4-af7c-eeaaa2cbff9a",
   "metadata": {},
   "outputs": [
    {
     "data": {
      "text/plain": [
       "9"
      ]
     },
     "execution_count": 8,
     "metadata": {},
     "output_type": "execute_result"
    }
   ],
   "source": [
    "a(3,2)"
   ]
  },
  {
   "cell_type": "code",
   "execution_count": 9,
   "id": "ebda4861-5a4c-4ef3-a6f9-3039f91f8778",
   "metadata": {},
   "outputs": [],
   "source": [
    "add = lambda x,y : x+y"
   ]
  },
  {
   "cell_type": "code",
   "execution_count": 10,
   "id": "b99f723c-e74f-4074-bd96-2e2223123a9d",
   "metadata": {},
   "outputs": [
    {
     "data": {
      "text/plain": [
       "15"
      ]
     },
     "execution_count": 10,
     "metadata": {},
     "output_type": "execute_result"
    }
   ],
   "source": [
    "add(5,10)"
   ]
  },
  {
   "cell_type": "code",
   "execution_count": 11,
   "id": "fa2c2af4-fb9d-407d-94af-39f5cf977fd0",
   "metadata": {},
   "outputs": [],
   "source": [
    "celcius_to_farenheit = lambda c : (9/5)*c+32"
   ]
  },
  {
   "cell_type": "code",
   "execution_count": 12,
   "id": "0c47dadc-49ab-4fc5-8763-b35819405f24",
   "metadata": {},
   "outputs": [
    {
     "data": {
      "text/plain": [
       "212.0"
      ]
     },
     "execution_count": 12,
     "metadata": {},
     "output_type": "execute_result"
    }
   ],
   "source": [
    "celcius_to_farenheit(100)"
   ]
  },
  {
   "cell_type": "code",
   "execution_count": 14,
   "id": "42da6812-5fdc-4119-8d0c-945a81114a05",
   "metadata": {},
   "outputs": [],
   "source": [
    "max_two = lambda x,y : x if x>y else y"
   ]
  },
  {
   "cell_type": "code",
   "execution_count": 15,
   "id": "7cdbdfe9-faac-4457-a42f-f084f0b55f1d",
   "metadata": {},
   "outputs": [
    {
     "data": {
      "text/plain": [
       "7"
      ]
     },
     "execution_count": 15,
     "metadata": {},
     "output_type": "execute_result"
    }
   ],
   "source": [
    "max_two(3,7)"
   ]
  },
  {
   "cell_type": "code",
   "execution_count": 18,
   "id": "8e951b71-f73d-4c41-bdb6-a30192fe01d6",
   "metadata": {},
   "outputs": [
    {
     "data": {
      "text/plain": [
       "102"
      ]
     },
     "execution_count": 18,
     "metadata": {},
     "output_type": "execute_result"
    }
   ],
   "source": [
    "max_two(100,102)"
   ]
  },
  {
   "cell_type": "markdown",
   "id": "3fb2711d-f98a-4d23-af22-d8687f44ad3c",
   "metadata": {},
   "source": [
    "# MAP, REDUCE, FILTER FUNCTIONS"
   ]
  },
  {
   "cell_type": "code",
   "execution_count": 22,
   "id": "29550ee8-c2f5-4d66-a848-c095bc86e5b8",
   "metadata": {},
   "outputs": [],
   "source": [
    "# create a function that takes list as an input and produces the list of squares as output\n",
    "\n",
    "def list_sq(lst):\n",
    "    return [i**2 for i in lst] "
   ]
  },
  {
   "cell_type": "code",
   "execution_count": 23,
   "id": "89d4e4c5-329a-464c-8e95-9ce0aa7a4bff",
   "metadata": {},
   "outputs": [
    {
     "name": "stdout",
     "output_type": "stream",
     "text": [
      "[4, 16, 36]\n"
     ]
    }
   ],
   "source": [
    "print(list_sq([2,4,6]))"
   ]
  },
  {
   "cell_type": "markdown",
   "id": "27c41bcf-b90d-4a03-89a7-9af22fc1a680",
   "metadata": {},
   "source": [
    "## MAP FUNCTION"
   ]
  },
  {
   "cell_type": "code",
   "execution_count": 36,
   "id": "300a2da6-e96b-470f-95ee-a3addbb5509f",
   "metadata": {},
   "outputs": [],
   "source": [
    "# Map function makes an iterator that computes the function using arguments from each of the iterables.  \n",
    "# It stops when the shortest iterable is exhausted.\n",
    "# MAP Function is a short hand function."
   ]
  },
  {
   "cell_type": "code",
   "execution_count": 26,
   "id": "b34a9d12-dde6-4ebf-a571-35f2a4301ae5",
   "metadata": {},
   "outputs": [
    {
     "data": {
      "text/plain": [
       "<map at 0x7f9efc1b19c0>"
      ]
     },
     "execution_count": 26,
     "metadata": {},
     "output_type": "execute_result"
    }
   ],
   "source": [
    "lst = [1,2,3,4]\n",
    "def square_num(x):\n",
    "    return x ** 2\n",
    "\n",
    "map (square_num, lst)"
   ]
  },
  {
   "cell_type": "code",
   "execution_count": 28,
   "id": "327331ef-1cb5-49eb-ae54-50b50b40b094",
   "metadata": {},
   "outputs": [
    {
     "data": {
      "text/plain": [
       "[1, 4, 9, 16]"
      ]
     },
     "execution_count": 28,
     "metadata": {},
     "output_type": "execute_result"
    }
   ],
   "source": [
    "# To get data from map function\n",
    "list(map(square_num, lst))"
   ]
  },
  {
   "cell_type": "code",
   "execution_count": 29,
   "id": "329ccef0-c43c-482f-a669-4d3bd9974bc7",
   "metadata": {},
   "outputs": [
    {
     "data": {
      "text/plain": [
       "[1, 4, 9, 16]"
      ]
     },
     "execution_count": 29,
     "metadata": {},
     "output_type": "execute_result"
    }
   ],
   "source": [
    "'''\n",
    "def square_num(x):\n",
    "    return x ** 2\n",
    "\n",
    "map (square_num, lst)\n",
    "\n",
    "CAN ALSO BE SHORTENED USING LAMBDA FUNCTION\n",
    "'''\n",
    "\n",
    "lst = [1,2,3,4]\n",
    "list(map(lambda x : x**2, lst))"
   ]
  },
  {
   "cell_type": "code",
   "execution_count": 30,
   "id": "50c555cd-2235-48df-9cf2-ee5a515cc750",
   "metadata": {},
   "outputs": [
    {
     "data": {
      "text/plain": [
       "[6, 8, 10, 12]"
      ]
     },
     "execution_count": 30,
     "metadata": {},
     "output_type": "execute_result"
    }
   ],
   "source": [
    "# Given two lists - [1,2,3,4] [6,7,8,9]\n",
    "# Add elements with same indexes\n",
    "\n",
    "list1 = [1,2,3,4]\n",
    "list2 = [5,6,7,8]\n",
    "list(map(lambda x,y :x+y, list1, list2))"
   ]
  },
  {
   "cell_type": "code",
   "execution_count": 31,
   "id": "b36019c4-be01-421f-bff3-2a2692fa0acd",
   "metadata": {},
   "outputs": [
    {
     "data": {
      "text/plain": [
       "[6, 8, 10, 12]"
      ]
     },
     "execution_count": 31,
     "metadata": {},
     "output_type": "execute_result"
    }
   ],
   "source": [
    "# Also you can declare lambda function with a variable and call the variable in the map()\n",
    "\n",
    "f = lambda x,y : x+y\n",
    "list(map(f, list1, list2))"
   ]
  },
  {
   "cell_type": "code",
   "execution_count": 32,
   "id": "15724ec4-e3a3-44b5-b8a1-8ff3a497ba07",
   "metadata": {},
   "outputs": [
    {
     "data": {
      "text/plain": [
       "['H', 'E', 'L', 'L', 'O']"
      ]
     },
     "execution_count": 32,
     "metadata": {},
     "output_type": "execute_result"
    }
   ],
   "source": [
    "# Accept a string and return the characters (in upper case) in a list\n",
    "\n",
    "string = \"hello\"\n",
    "list(map(lambda uc : uc.upper(), string))"
   ]
  },
  {
   "cell_type": "markdown",
   "id": "5104147a-31ce-4d2e-8ea3-f884e18f6742",
   "metadata": {},
   "source": [
    "## REDUCE FUNCTION"
   ]
  },
  {
   "cell_type": "code",
   "execution_count": 33,
   "id": "ea958f97-202d-4e22-b90f-8c603c6bb6fa",
   "metadata": {},
   "outputs": [],
   "source": [
    "# you will need to import reduce function\n",
    "from functools import reduce"
   ]
  },
  {
   "cell_type": "code",
   "execution_count": 51,
   "id": "6c3ad1d4-8f46-4828-adca-4bb36f81ad4b",
   "metadata": {},
   "outputs": [
    {
     "data": {
      "text/plain": [
       "15"
      ]
     },
     "execution_count": 51,
     "metadata": {},
     "output_type": "execute_result"
    }
   ],
   "source": [
    "lst = [1,2,3,4,5]\n",
    "# find summation of the list\n",
    "\n",
    "'''\n",
    "Reduce function -  \n",
    "Applies a function of two arguments cumulatively to the items of a sequence\n",
    "or iterable, from left to right, so as to reduce the iterable to a single\n",
    "value.  For example, reduce(lambda x, y: x+y, [1, 2, 3, 4, 5]) calculates\n",
    "((((1+2)+3)+4)+5).  If initial is present, it is placed before the items\n",
    "of the iterable in the calculation, and serves as a default when the\n",
    "iterable is empty.\n",
    "'''\n",
    "\n",
    "reduce(lambda x,y : x+y, lst)"
   ]
  },
  {
   "cell_type": "code",
   "execution_count": 52,
   "id": "8049bf05-3152-4bf7-ace7-3bf72a3becbc",
   "metadata": {},
   "outputs": [
    {
     "data": {
      "text/plain": [
       "10"
      ]
     },
     "execution_count": 52,
     "metadata": {},
     "output_type": "execute_result"
    }
   ],
   "source": [
    "lst = [1,4,7,3,10,9]\n",
    "# find maximum from the list\n",
    "\n",
    "reduce(lambda x,y : x if x>y else y, lst)"
   ]
  },
  {
   "cell_type": "markdown",
   "id": "0c8a5f88-41b1-4366-84f6-17f1dc18723f",
   "metadata": {},
   "source": [
    "## FILTER FUNCTION"
   ]
  },
  {
   "cell_type": "code",
   "execution_count": 59,
   "id": "63a27bd3-566f-4b2d-86a5-4693d21db147",
   "metadata": {},
   "outputs": [],
   "source": [
    "# Filter function returns an iterator yielding those items of iterable for which function(item) is true"
   ]
  },
  {
   "cell_type": "code",
   "execution_count": 60,
   "id": "664eb083-9d4f-42c4-8506-4139efe5a8ff",
   "metadata": {},
   "outputs": [
    {
     "data": {
      "text/plain": [
       "[2, 4]"
      ]
     },
     "execution_count": 60,
     "metadata": {},
     "output_type": "execute_result"
    }
   ],
   "source": [
    "lst = [1,2,3,4,5]\n",
    "# filter out even numbers\n",
    "\n",
    "list(filter(lambda x : x%2 ==0, lst))"
   ]
  },
  {
   "cell_type": "code",
   "execution_count": 61,
   "id": "daf50133-f116-4aeb-9414-f75c351acc52",
   "metadata": {},
   "outputs": [
    {
     "data": {
      "text/plain": [
       "[1, 3, 5]"
      ]
     },
     "execution_count": 61,
     "metadata": {},
     "output_type": "execute_result"
    }
   ],
   "source": [
    "# filter out odd numbers\n",
    "\n",
    "list(filter(lambda x : x%2 != 0, lst))"
   ]
  },
  {
   "cell_type": "code",
   "execution_count": 62,
   "id": "9713fe7d-5af5-4b13-914d-0c3d697b0041",
   "metadata": {},
   "outputs": [
    {
     "data": {
      "text/plain": [
       "[1, 2, 3, 7]"
      ]
     },
     "execution_count": 62,
     "metadata": {},
     "output_type": "execute_result"
    }
   ],
   "source": [
    "lst1 = [1,2,3,-9,-8,7]\n",
    "# filter out positive numbers\n",
    "\n",
    "list(filter(lambda x : x > 0, lst1))"
   ]
  },
  {
   "cell_type": "code",
   "execution_count": 63,
   "id": "ada5e36c-ede3-4e81-8667-5484ddcaff42",
   "metadata": {},
   "outputs": [
    {
     "data": {
      "text/plain": [
       "[-9, -8]"
      ]
     },
     "execution_count": 63,
     "metadata": {},
     "output_type": "execute_result"
    }
   ],
   "source": [
    "# filter out negative numbers\n",
    "\n",
    "list(filter(lambda x : x < 0, lst1))"
   ]
  },
  {
   "cell_type": "code",
   "execution_count": 65,
   "id": "88e618b1-cfef-4326-afd1-df68cb0bb4c2",
   "metadata": {},
   "outputs": [
    {
     "data": {
      "text/plain": [
       "['Rath', 'India', 'DSM']"
      ]
     },
     "execution_count": 65,
     "metadata": {},
     "output_type": "execute_result"
    }
   ],
   "source": [
    "lst2 = [\"Anshuman\", \"Rath\", \"India\", \"DSM\"]\n",
    "# filter out those strings having length < 6\n",
    "\n",
    "list(filter(lambda x : len(x) < 6, lst2))"
   ]
  }
 ],
 "metadata": {
  "kernelspec": {
   "display_name": "Python 3 (ipykernel)",
   "language": "python",
   "name": "python3"
  },
  "language_info": {
   "codemirror_mode": {
    "name": "ipython",
    "version": 3
   },
   "file_extension": ".py",
   "mimetype": "text/x-python",
   "name": "python",
   "nbconvert_exporter": "python",
   "pygments_lexer": "ipython3",
   "version": "3.10.8"
  }
 },
 "nbformat": 4,
 "nbformat_minor": 5
}
