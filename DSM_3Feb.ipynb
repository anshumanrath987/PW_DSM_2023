{
 "cells": [
  {
   "cell_type": "markdown",
   "id": "5d9922bf-8f0c-4365-a5bb-83ce09cbe035",
   "metadata": {},
   "source": [
    "# DSM Class 3rd Feb, 2023\n",
    "## Quick Coding Notes\n",
    "### Written by: Anshuman Rath"
   ]
  },
  {
   "cell_type": "markdown",
   "id": "31ccc5b9-fcf7-4ec0-a736-15481752a237",
   "metadata": {},
   "source": [
    "# FUNCTIONS"
   ]
  },
  {
   "cell_type": "code",
   "execution_count": 13,
   "id": "b9b4c4cd-1e49-42f5-8c13-0b03357b34d6",
   "metadata": {},
   "outputs": [],
   "source": [
    "def test():  # creates (defines) a function\n",
    "    print(\"Hello\")"
   ]
  },
  {
   "cell_type": "code",
   "execution_count": 7,
   "id": "560884e7-a2cc-417c-96dc-fc7d9a8e69b4",
   "metadata": {},
   "outputs": [
    {
     "name": "stdout",
     "output_type": "stream",
     "text": [
      "Hello all\n"
     ]
    }
   ],
   "source": [
    "test()  # when you call the function it executes whatever you have written with it"
   ]
  },
  {
   "cell_type": "code",
   "execution_count": 14,
   "id": "88084ba9-3309-4e04-84de-e55caee97e6e",
   "metadata": {},
   "outputs": [
    {
     "name": "stdout",
     "output_type": "stream",
     "text": [
      "Hello\n"
     ]
    },
    {
     "ename": "TypeError",
     "evalue": "unsupported operand type(s) for +: 'NoneType' and 'str'",
     "output_type": "error",
     "traceback": [
      "\u001b[0;31m---------------------------------------------------------------------------\u001b[0m",
      "\u001b[0;31mTypeError\u001b[0m                                 Traceback (most recent call last)",
      "Cell \u001b[0;32mIn[14], line 1\u001b[0m\n\u001b[0;32m----> 1\u001b[0m \u001b[43mtest\u001b[49m\u001b[43m(\u001b[49m\u001b[43m)\u001b[49m\u001b[43m \u001b[49m\u001b[38;5;241;43m+\u001b[39;49m\u001b[43m \u001b[49m\u001b[38;5;124;43m\"\u001b[39;49m\u001b[38;5;124;43m Anshuman\u001b[39;49m\u001b[38;5;124;43m\"\u001b[39;49m  \u001b[38;5;66;03m# gives an error, signifying that you can't concatenate this function with a string\u001b[39;00m\n\u001b[1;32m      2\u001b[0m \u001b[38;5;66;03m# this is because we have only written print() command with the function, and print() returns NoneType\u001b[39;00m\n\u001b[1;32m      3\u001b[0m \u001b[38;5;66;03m# NoneType and string concatenation is not possible\u001b[39;00m\n",
      "\u001b[0;31mTypeError\u001b[0m: unsupported operand type(s) for +: 'NoneType' and 'str'"
     ]
    }
   ],
   "source": [
    "test() + \" Anshuman\"  # gives an error, signifying that you can't concatenate this function with a string\n",
    "# this is because we have only written print() command with the function, and print() returns NoneType\n",
    "# NoneType and string concatenation is not possible"
   ]
  },
  {
   "cell_type": "code",
   "execution_count": 15,
   "id": "2f8cfac1-cad6-4592-a9db-e43486f6984d",
   "metadata": {},
   "outputs": [],
   "source": [
    "def test2():\n",
    "    return \"Hello\""
   ]
  },
  {
   "cell_type": "code",
   "execution_count": 17,
   "id": "ca9c1850-583f-4c0b-9ed8-c1590392f212",
   "metadata": {},
   "outputs": [
    {
     "data": {
      "text/plain": [
       "'Hello Anshuman '"
      ]
     },
     "execution_count": 17,
     "metadata": {},
     "output_type": "execute_result"
    }
   ],
   "source": [
    "test2() + \" Anshuman \"  # this time it will work because the function we created returns a string value"
   ]
  },
  {
   "cell_type": "code",
   "execution_count": 18,
   "id": "59005bd4-1bca-426f-81fc-69b8c196129e",
   "metadata": {},
   "outputs": [],
   "source": [
    "def test3():\n",
    "    return 1, 2, \"PW Skills\", 3.5"
   ]
  },
  {
   "cell_type": "code",
   "execution_count": 20,
   "id": "11c3c0f7-d6cf-4d97-b7c9-b5dce059a624",
   "metadata": {},
   "outputs": [
    {
     "data": {
      "text/plain": [
       "tuple"
      ]
     },
     "execution_count": 20,
     "metadata": {},
     "output_type": "execute_result"
    }
   ],
   "source": [
    "type(test3())  # the function returns a tuple"
   ]
  },
  {
   "cell_type": "code",
   "execution_count": 23,
   "id": "a336531f-de6f-4a29-b317-a8b0996d4f88",
   "metadata": {},
   "outputs": [
    {
     "name": "stdout",
     "output_type": "stream",
     "text": [
      "a = 1\n",
      "b = Hello\n",
      "c = 2.5\n",
      "d = True\n"
     ]
    }
   ],
   "source": [
    "# You can also assign values to variables in the following way -\n",
    "a,b,c,d = 1,\"Hello\",2.5,True\n",
    "print(f\"a = {a}\")\n",
    "print(f\"b = {b}\")\n",
    "print(f\"c = {c}\")\n",
    "print(f\"d = {d}\")"
   ]
  },
  {
   "cell_type": "code",
   "execution_count": 24,
   "id": "2c750afa-4b25-4af1-aa66-2f38a3d9b4c1",
   "metadata": {},
   "outputs": [],
   "source": [
    "def test3():\n",
    "    return 1, 2, \"PW Skills\", 3.5"
   ]
  },
  {
   "cell_type": "code",
   "execution_count": 25,
   "id": "3e7fda9c-1399-40b2-ae49-aa08bc9abc24",
   "metadata": {},
   "outputs": [
    {
     "data": {
      "text/plain": [
       "1"
      ]
     },
     "execution_count": 25,
     "metadata": {},
     "output_type": "execute_result"
    }
   ],
   "source": [
    "# Since test3() will return a tuple, we can do everything to this function like we do for a tuple\n",
    "# For example -\n",
    "test3()[0]  # to assess element at 0th index"
   ]
  },
  {
   "cell_type": "code",
   "execution_count": 26,
   "id": "799b1625-1413-4932-b6bb-4d9889b4ce07",
   "metadata": {},
   "outputs": [
    {
     "name": "stdout",
     "output_type": "stream",
     "text": [
      "a = 1\n",
      "b = 2\n",
      "c = PW Skills\n",
      "d = 3.5\n"
     ]
    }
   ],
   "source": [
    "a,b,c,d = test3()  # the variables will hold values in sequential manner\n",
    "print(f\"a = {a}\")\n",
    "print(f\"b = {b}\")\n",
    "print(f\"c = {c}\")\n",
    "print(f\"d = {d}\")"
   ]
  },
  {
   "cell_type": "code",
   "execution_count": 27,
   "id": "51447e72-de06-4681-a247-070dc3e75641",
   "metadata": {},
   "outputs": [],
   "source": [
    "def test4():\n",
    "    a = 3*4+5\n",
    "    return a"
   ]
  },
  {
   "cell_type": "code",
   "execution_count": 28,
   "id": "28f3ba70-4b89-4c84-9222-13bd482c2c57",
   "metadata": {},
   "outputs": [
    {
     "data": {
      "text/plain": [
       "17"
      ]
     },
     "execution_count": 28,
     "metadata": {},
     "output_type": "execute_result"
    }
   ],
   "source": [
    "test4()"
   ]
  },
  {
   "cell_type": "code",
   "execution_count": 29,
   "id": "2b03e0ee-ce8e-4a73-9136-6fb7db9d8f75",
   "metadata": {},
   "outputs": [
    {
     "data": {
      "text/plain": [
       "int"
      ]
     },
     "execution_count": 29,
     "metadata": {},
     "output_type": "execute_result"
    }
   ],
   "source": [
    "type(test4())"
   ]
  },
  {
   "cell_type": "code",
   "execution_count": 30,
   "id": "b8dac3f9-74aa-49f6-8a93-858e1d205b6e",
   "metadata": {},
   "outputs": [],
   "source": [
    "def test5(a,b):  # to pass data to this function\n",
    "    c = a+b;\n",
    "    return c"
   ]
  },
  {
   "cell_type": "code",
   "execution_count": 31,
   "id": "5eb6bb7b-a8aa-46ba-bc13-12f0f1d9aedd",
   "metadata": {},
   "outputs": [
    {
     "data": {
      "text/plain": [
       "12"
      ]
     },
     "execution_count": 31,
     "metadata": {},
     "output_type": "execute_result"
    }
   ],
   "source": [
    "test5(5,7)"
   ]
  },
  {
   "cell_type": "code",
   "execution_count": 35,
   "id": "0c148eba-d4d7-4a4b-86ce-7a3ff5624593",
   "metadata": {},
   "outputs": [
    {
     "data": {
      "text/plain": [
       "'AnshumanRath'"
      ]
     },
     "execution_count": 35,
     "metadata": {},
     "output_type": "execute_result"
    }
   ],
   "source": [
    "test5(\"Anshuman\",\"Rath\")"
   ]
  },
  {
   "cell_type": "code",
   "execution_count": 39,
   "id": "f1dcce55-1e9e-458d-a2a7-5e98b669da47",
   "metadata": {},
   "outputs": [
    {
     "data": {
      "text/plain": [
       "'AnshumanRath'"
      ]
     },
     "execution_count": 39,
     "metadata": {},
     "output_type": "execute_result"
    }
   ],
   "source": [
    "test5(b = \"Rath\", a = \"Anshuman\")"
   ]
  },
  {
   "cell_type": "code",
   "execution_count": 41,
   "id": "b17f198d-3fd1-47aa-b11c-89750da4a0bd",
   "metadata": {},
   "outputs": [],
   "source": [
    "# Create a function that filters out only numeric values (from the list given as input)\n",
    "\n",
    "def test6(a):\n",
    "    n = []\n",
    "    for i in a:\n",
    "        if type(i) == int or type (i) == float:\n",
    "            n.append(i)\n",
    "    return n"
   ]
  },
  {
   "cell_type": "code",
   "execution_count": 42,
   "id": "0c08951b-94a8-4e26-94de-71aeefde4be6",
   "metadata": {},
   "outputs": [
    {
     "data": {
      "text/plain": [
       "[1, 2, 3.5]"
      ]
     },
     "execution_count": 42,
     "metadata": {},
     "output_type": "execute_result"
    }
   ],
   "source": [
    "test6([1,2,\"Anshuman\",3.5,\"Rath\"])"
   ]
  },
  {
   "cell_type": "code",
   "execution_count": 52,
   "id": "4d7c23d4-ba76-49f5-85f2-2b01cd65d258",
   "metadata": {},
   "outputs": [],
   "source": [
    "# Create a function that filters out numeric values from list containing another list\n",
    "# Example list = [1,2,3,4,\"Anshuman\",\"Rath\",[5,6,7,8, \"Hello\", 9], 10.5]\n",
    "\n",
    "def test7(a):\n",
    "    n = []\n",
    "    for i in a:\n",
    "        if type(i) == list:\n",
    "            for j in i:\n",
    "                if type(j) == int or type(j) == float:\n",
    "                    n.append(j)\n",
    "        else:\n",
    "            if type(i) == int or type(i) == float:\n",
    "                n.append(i)\n",
    "    return n"
   ]
  },
  {
   "cell_type": "code",
   "execution_count": 53,
   "id": "a0233b45-a269-4873-afa1-009d24071f57",
   "metadata": {},
   "outputs": [
    {
     "data": {
      "text/plain": [
       "[1, 2, 3, 4, 5, 6, 7, 8, 9, 10.5]"
      ]
     },
     "execution_count": 53,
     "metadata": {},
     "output_type": "execute_result"
    }
   ],
   "source": [
    "test7([1,2,3,4,\"Anshuman\",\"Rath\",[5,6,7,8, \"Hello\", 9], 10.5])"
   ]
  },
  {
   "cell_type": "code",
   "execution_count": 61,
   "id": "8abdc9b9-079b-4329-a712-370fd7c21dff",
   "metadata": {},
   "outputs": [],
   "source": [
    "def test1(*args):  # allows you to pass any number and any type of arguments\n",
    "    return args"
   ]
  },
  {
   "cell_type": "code",
   "execution_count": 55,
   "id": "70a9385e-49d5-444c-8921-c91f49398f40",
   "metadata": {},
   "outputs": [
    {
     "data": {
      "text/plain": [
       "(2,)"
      ]
     },
     "execution_count": 55,
     "metadata": {},
     "output_type": "execute_result"
    }
   ],
   "source": [
    "test1(2)"
   ]
  },
  {
   "cell_type": "code",
   "execution_count": 57,
   "id": "355888e4-5967-479e-9791-780adeaf641f",
   "metadata": {},
   "outputs": [
    {
     "data": {
      "text/plain": [
       "(3, 4, 5, 6)"
      ]
     },
     "execution_count": 57,
     "metadata": {},
     "output_type": "execute_result"
    }
   ],
   "source": [
    "test1(3,4,5,6)"
   ]
  },
  {
   "cell_type": "code",
   "execution_count": 59,
   "id": "6bdeb113-9285-4f69-9caa-c88970b2249d",
   "metadata": {},
   "outputs": [
    {
     "data": {
      "text/plain": [
       "('Anshuman',)"
      ]
     },
     "execution_count": 59,
     "metadata": {},
     "output_type": "execute_result"
    }
   ],
   "source": [
    "test1(\"Anshuman\")"
   ]
  },
  {
   "cell_type": "code",
   "execution_count": 60,
   "id": "33a0a739-ca55-43d4-8b24-94d3a8c3323e",
   "metadata": {},
   "outputs": [
    {
     "data": {
      "text/plain": [
       "([1, 2, 3, 4], (5, 6, 7, 8), {9, 10, 11, 12}, 'Hello', 13, 14, 15.5)"
      ]
     },
     "execution_count": 60,
     "metadata": {},
     "output_type": "execute_result"
    }
   ],
   "source": [
    "test1([1,2,3,4],(5,6,7,8),{9,10,11,12},\"Hello\",13,14,15.5)"
   ]
  },
  {
   "cell_type": "code",
   "execution_count": 63,
   "id": "004c528c-39af-44d4-b4de-76e850ba21df",
   "metadata": {},
   "outputs": [],
   "source": [
    "# However args isn't a keyword\n",
    "# Hence you are free to write anything instead of args\n",
    "\n",
    "def test2(*anshuman):\n",
    "    return anshuman"
   ]
  },
  {
   "cell_type": "code",
   "execution_count": 64,
   "id": "3fb13c51-5663-400b-ae28-1fde6da10fc3",
   "metadata": {},
   "outputs": [
    {
     "data": {
      "text/plain": [
       "(3, 4, 5)"
      ]
     },
     "execution_count": 64,
     "metadata": {},
     "output_type": "execute_result"
    }
   ],
   "source": [
    "test2(3,4,5)"
   ]
  },
  {
   "cell_type": "code",
   "execution_count": 65,
   "id": "ad093b2c-2399-472f-9d53-11b24d617887",
   "metadata": {},
   "outputs": [],
   "source": [
    "def test3(*args,a):\n",
    "    return args,a"
   ]
  },
  {
   "cell_type": "code",
   "execution_count": 67,
   "id": "d0baa50f-0384-4dcb-a1ee-a65085082682",
   "metadata": {},
   "outputs": [
    {
     "data": {
      "text/plain": [
       "((1, 2, 3, 4), 'hello')"
      ]
     },
     "execution_count": 67,
     "metadata": {},
     "output_type": "execute_result"
    }
   ],
   "source": [
    "test3(1,2,3,4, a = \"hello\")  # to pass input to a"
   ]
  },
  {
   "cell_type": "code",
   "execution_count": 69,
   "id": "6eb39d8b-6b01-4ed0-ae6b-7c41fb5541d2",
   "metadata": {},
   "outputs": [],
   "source": [
    "# Define a function which accepts any kind of input but returns only list (from the data)\n",
    "\n",
    "def test4(*args):\n",
    "    l = []\n",
    "    for i in args:\n",
    "        if type(i) == list:\n",
    "            l.append(i)\n",
    "    return l"
   ]
  },
  {
   "cell_type": "code",
   "execution_count": 70,
   "id": "abb69420-f209-4579-adea-2a93b32edecf",
   "metadata": {},
   "outputs": [
    {
     "data": {
      "text/plain": [
       "[[4, 5, 6]]"
      ]
     },
     "execution_count": 70,
     "metadata": {},
     "output_type": "execute_result"
    }
   ],
   "source": [
    "test4(1,2,3, [4,5,6], (7,8,9), {10,11,12}, \"Hello\")"
   ]
  },
  {
   "cell_type": "code",
   "execution_count": 71,
   "id": "bbd227d8-3021-4322-8f54-d6038b4b2c4d",
   "metadata": {},
   "outputs": [],
   "source": [
    "def test5(**kvargs): # to accept key value arguments\n",
    "    return kvargs"
   ]
  },
  {
   "cell_type": "code",
   "execution_count": 74,
   "id": "15cedefa-ea10-4fa7-8928-ee8c450cd527",
   "metadata": {},
   "outputs": [
    {
     "data": {
      "text/plain": [
       "{'a': 10, 'b': 20, 'c': {1, 2, 3, 4}, 'd': {'Everyone', 'Hello'}}"
      ]
     },
     "execution_count": 74,
     "metadata": {},
     "output_type": "execute_result"
    }
   ],
   "source": [
    "test5(a = 10, b = 20, c = {1,2,3,4}, d = {\"Hello\", \"Everyone\"})\n",
    "# will return the above data in the form of a dictionary"
   ]
  },
  {
   "cell_type": "code",
   "execution_count": 79,
   "id": "015661dc-77c1-453c-9575-b802074e574f",
   "metadata": {},
   "outputs": [],
   "source": [
    "# Define a function that accepts key value pairs and returns only those key value pairs where value is a list\n",
    "\n",
    "def test6(**kvargs):\n",
    "    for i in kvargs.keys():\n",
    "        if type(kvargs[i]) == list:\n",
    "            return i, kvargs[i]"
   ]
  },
  {
   "cell_type": "code",
   "execution_count": 81,
   "id": "764fdf38-20cd-4ab0-8ab6-ae9874ea5a6d",
   "metadata": {},
   "outputs": [
    {
     "data": {
      "text/plain": [
       "('c', [30, 40, 50])"
      ]
     },
     "execution_count": 81,
     "metadata": {},
     "output_type": "execute_result"
    }
   ],
   "source": [
    "test6(a = 10, b = 20, c = [30,40,50], d = (\"Data Science\", \"Web Development\"))"
   ]
  },
  {
   "cell_type": "code",
   "execution_count": 83,
   "id": "7ce8747a-f8a8-4539-85da-aadf070d20c0",
   "metadata": {},
   "outputs": [],
   "source": [
    "def test7(*args, **kvargs):\n",
    "    return args , kvargs "
   ]
  },
  {
   "cell_type": "code",
   "execution_count": 84,
   "id": "841ebcd1-94b1-4d99-9e01-60d595b3c543",
   "metadata": {},
   "outputs": [
    {
     "data": {
      "text/plain": [
       "((1, 2, 3, 4), {'a': 10, 'b': 20})"
      ]
     },
     "execution_count": 84,
     "metadata": {},
     "output_type": "execute_result"
    }
   ],
   "source": [
    "test7(1,2,3,4, a = 10, b = 20)"
   ]
  },
  {
   "cell_type": "markdown",
   "id": "181cdbae-6242-4dd0-9f50-2748b91466a7",
   "metadata": {},
   "source": [
    "# GENERATOR FUNCTIONS"
   ]
  },
  {
   "cell_type": "code",
   "execution_count": 88,
   "id": "c9181a9d-8af0-4ff9-a64b-524ca3e4703e",
   "metadata": {},
   "outputs": [],
   "source": [
    "# yield helps to create generator functions\n",
    "# A generator is a function that returns an iterator that produces a sequence of values when iterated over. \n",
    "# Generators are useful when we want to produce a large sequence of values, but we don't want to store all of them in memory at once."
   ]
  },
  {
   "cell_type": "code",
   "execution_count": 117,
   "id": "d1c4dee9-fafd-44c4-80cb-6e79a25203be",
   "metadata": {},
   "outputs": [],
   "source": [
    "# define a generator function that generates fibonacci series\n",
    "\n",
    "def test_fib(n):\n",
    "    a = 0\n",
    "    b = 1\n",
    "    for i in range(n):\n",
    "        yield a\n",
    "        a,b = b,a+b"
   ]
  },
  {
   "cell_type": "code",
   "execution_count": 118,
   "id": "0afd40b8-056f-4917-9dcf-c67bafdcfb2c",
   "metadata": {},
   "outputs": [
    {
     "data": {
      "text/plain": [
       "<generator object test_fib at 0x7f2a067a9690>"
      ]
     },
     "execution_count": 118,
     "metadata": {},
     "output_type": "execute_result"
    }
   ],
   "source": [
    "test_fib(10)\n",
    "# when we call this function, it retuns generator object"
   ]
  },
  {
   "cell_type": "code",
   "execution_count": 119,
   "id": "cd04904e-9c11-41ba-b34f-7265fd4d866f",
   "metadata": {},
   "outputs": [
    {
     "name": "stdout",
     "output_type": "stream",
     "text": [
      "0\n",
      "1\n",
      "1\n",
      "2\n",
      "3\n",
      "5\n",
      "8\n",
      "13\n",
      "21\n",
      "34\n"
     ]
    }
   ],
   "source": [
    "# to take out data from generator function, use for loop\n",
    "for i in test_fib(10):\n",
    "    print(i)"
   ]
  }
 ],
 "metadata": {
  "kernelspec": {
   "display_name": "Python 3 (ipykernel)",
   "language": "python",
   "name": "python3"
  },
  "language_info": {
   "codemirror_mode": {
    "name": "ipython",
    "version": 3
   },
   "file_extension": ".py",
   "mimetype": "text/x-python",
   "name": "python",
   "nbconvert_exporter": "python",
   "pygments_lexer": "ipython3",
   "version": "3.10.8"
  }
 },
 "nbformat": 4,
 "nbformat_minor": 5
}
