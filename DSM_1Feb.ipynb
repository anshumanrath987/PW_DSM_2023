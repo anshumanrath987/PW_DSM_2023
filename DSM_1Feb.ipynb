{
 "cells": [
  {
   "cell_type": "markdown",
   "id": "67931600-e968-4f73-9675-0c69862343e6",
   "metadata": {},
   "source": [
    "# DSM Class 1st Feb, 2023\n",
    "## Quick Coding Notes\n",
    "### Written by: Anshuman Rath# DSM_1st Feb"
   ]
  },
  {
   "cell_type": "code",
   "execution_count": 1,
   "id": "2b2cc283-2c36-4b99-92ca-fb075f3da021",
   "metadata": {},
   "outputs": [
    {
     "data": {
      "text/plain": [
       "'dATA SCIENCE MASTERS'"
      ]
     },
     "execution_count": 1,
     "metadata": {},
     "output_type": "execute_result"
    }
   ],
   "source": [
    "name = \"Data science masters\"\n",
    "name.swapcase() # swaps case"
   ]
  },
  {
   "cell_type": "code",
   "execution_count": 2,
   "id": "28312963-c6e0-46d4-9cb0-4478fdf34aa0",
   "metadata": {},
   "outputs": [
    {
     "data": {
      "text/plain": [
       "'Data Science Masters'"
      ]
     },
     "execution_count": 2,
     "metadata": {},
     "output_type": "execute_result"
    }
   ],
   "source": [
    "name.title() # changes first letter of each word to Upper Case"
   ]
  },
  {
   "cell_type": "code",
   "execution_count": 3,
   "id": "357a1318-0912-457b-ac27-889ae8080ac4",
   "metadata": {},
   "outputs": [
    {
     "data": {
      "text/plain": [
       "'Hello everyone'"
      ]
     },
     "execution_count": 3,
     "metadata": {},
     "output_type": "execute_result"
    }
   ],
   "source": [
    "msg = \"hello Everyone\"\n",
    "msg.capitalize() # makes only first letter capital"
   ]
  },
  {
   "cell_type": "code",
   "execution_count": 4,
   "id": "1e81fec3-5a07-46af-aba8-97ea578503a9",
   "metadata": {},
   "outputs": [
    {
     "data": {
      "text/plain": [
       "<reversed at 0x7f406419a770>"
      ]
     },
     "execution_count": 4,
     "metadata": {},
     "output_type": "execute_result"
    }
   ],
   "source": [
    "msg = \"hello\"\n",
    "reversed(msg) # reverses the string and displays the address where it stores the reversed string"
   ]
  },
  {
   "cell_type": "code",
   "execution_count": 8,
   "id": "3353f1b9-956e-44fb-a9dc-50da53de67e3",
   "metadata": {},
   "outputs": [
    {
     "data": {
      "text/plain": [
       "'olleh'"
      ]
     },
     "execution_count": 8,
     "metadata": {},
     "output_type": "execute_result"
    }
   ],
   "source": [
    "\"\".join(reversed(msg)) # to display the stored reversed string"
   ]
  },
  {
   "cell_type": "code",
   "execution_count": 13,
   "id": "75922a7e-b1ab-4c7e-b095-0d676024e9d8",
   "metadata": {},
   "outputs": [
    {
     "data": {
      "text/plain": [
       "'NKrishaKrishiKrishk'"
      ]
     },
     "execution_count": 13,
     "metadata": {},
     "output_type": "execute_result"
    }
   ],
   "source": [
    "\"Krish\".join(\"Naik\") # takes all items in an iterable and joins them into one string\n",
    "# every character of \"Naik\" is tryng to get concatenated with \"Krish\" "
   ]
  },
  {
   "cell_type": "code",
   "execution_count": 10,
   "id": "632305be-04fe-4ff9-9b4e-da7b1512e875",
   "metadata": {},
   "outputs": [
    {
     "data": {
      "text/plain": [
       "'a b c d'"
      ]
     },
     "execution_count": 10,
     "metadata": {},
     "output_type": "execute_result"
    }
   ],
   "source": [
    "\" \".join(\"abcd\")"
   ]
  },
  {
   "cell_type": "code",
   "execution_count": 12,
   "id": "db76a66b-c5a2-472e-87b5-607ddb48ebf0",
   "metadata": {},
   "outputs": [
    {
     "data": {
      "text/plain": [
       "'t n a'"
      ]
     },
     "execution_count": 12,
     "metadata": {},
     "output_type": "execute_result"
    }
   ],
   "source": [
    "\" \".join(reversed(\"ant\")) \n",
    "# \"ant\" will get reversed to \"tna\" and every character of \"tna\" will concatenate with \" \" "
   ]
  },
  {
   "cell_type": "code",
   "execution_count": 15,
   "id": "1081ffc1-97ad-46fa-9adf-82fab457a9e2",
   "metadata": {},
   "outputs": [
    {
     "data": {
      "text/plain": [
       "'t PWSkills n PWSkills a'"
      ]
     },
     "execution_count": 15,
     "metadata": {},
     "output_type": "execute_result"
    }
   ],
   "source": [
    "\" PWSkills \".join(reversed(\"ant\"))"
   ]
  },
  {
   "cell_type": "code",
   "execution_count": 17,
   "id": "db637aec-ef88-4d06-86b2-a584b43eaab5",
   "metadata": {},
   "outputs": [
    {
     "data": {
      "text/plain": [
       "['t', 'n', 'a']"
      ]
     },
     "execution_count": 17,
     "metadata": {},
     "output_type": "execute_result"
    }
   ],
   "source": [
    "list(reversed(\"ant\")) # an example of typecasting\n",
    "# generates list of characters in reverse order"
   ]
  },
  {
   "cell_type": "code",
   "execution_count": 18,
   "id": "1b8d172f-eb17-4c29-ac97-724650e5d3c8",
   "metadata": {},
   "outputs": [],
   "source": [
    "# REMOVING CHARACTERS FROM THE END OF THE STRING"
   ]
  },
  {
   "cell_type": "code",
   "execution_count": 30,
   "id": "6de0bb07-674a-4c38-9195-ace0dd013493",
   "metadata": {},
   "outputs": [
    {
     "data": {
      "text/plain": [
       "'pw skills'"
      ]
     },
     "execution_count": 30,
     "metadata": {},
     "output_type": "execute_result"
    }
   ],
   "source": [
    "string_a = \" pw skills \"\n",
    "string_a.strip() # remove the whitespace from the beginning and at the end of the string"
   ]
  },
  {
   "cell_type": "code",
   "execution_count": 25,
   "id": "f7fe753e-5c03-409f-8632-e592977e7c59",
   "metadata": {},
   "outputs": [
    {
     "data": {
      "text/plain": [
       "'hello'"
      ]
     },
     "execution_count": 25,
     "metadata": {},
     "output_type": "execute_result"
    }
   ],
   "source": [
    "string_b = \"chelloc\"\n",
    "string_b.strip(\"c\") \n",
    "# can also remove the given characters from the beginning and the end of the original string"
   ]
  },
  {
   "cell_type": "code",
   "execution_count": 29,
   "id": "ece620b2-19db-49a9-98dc-9d15a18ac0d0",
   "metadata": {},
   "outputs": [
    {
     "data": {
      "text/plain": [
       "'Hello everyone '"
      ]
     },
     "execution_count": 29,
     "metadata": {},
     "output_type": "execute_result"
    }
   ],
   "source": [
    "string_c = \"  Hello everyone \"\n",
    "string_c.lstrip() # removes leading (left) white spaces"
   ]
  },
  {
   "cell_type": "code",
   "execution_count": 28,
   "id": "6f7345f3-2dae-43d0-842c-9ceb233c5f6e",
   "metadata": {},
   "outputs": [
    {
     "data": {
      "text/plain": [
       "'  Hello everyone'"
      ]
     },
     "execution_count": 28,
     "metadata": {},
     "output_type": "execute_result"
    }
   ],
   "source": [
    "string_c = \"  Hello everyone \"\n",
    "string_c.rstrip() # removes trailing (right) white spaces"
   ]
  },
  {
   "cell_type": "code",
   "execution_count": 31,
   "id": "c112c9fb-7845-4a3f-bc53-e54aa52e02ec",
   "metadata": {},
   "outputs": [
    {
     "data": {
      "text/plain": [
       "'Greeting from PW Skill'"
      ]
     },
     "execution_count": 31,
     "metadata": {},
     "output_type": "execute_result"
    }
   ],
   "source": [
    "string_n = \"Greeting to PW Skill\"\n",
    "string_n.replace(\"to\",\"from\")\n",
    "# replaces one String (specified initially) with another String (specified later)"
   ]
  },
  {
   "cell_type": "code",
   "execution_count": 32,
   "id": "c7f2f5b8-43d7-45ae-96ba-3ecfc4c5b3fe",
   "metadata": {},
   "outputs": [
    {
     "data": {
      "text/plain": [
       "'hello \\t world'"
      ]
     },
     "execution_count": 32,
     "metadata": {},
     "output_type": "execute_result"
    }
   ],
   "source": [
    "\"hello \\t world\" # \\t is considered as a part of the String"
   ]
  },
  {
   "cell_type": "code",
   "execution_count": 33,
   "id": "c7fc92ed-561c-47af-9b99-5f3894bbbbf1",
   "metadata": {},
   "outputs": [
    {
     "data": {
      "text/plain": [
       "'hello    world'"
      ]
     },
     "execution_count": 33,
     "metadata": {},
     "output_type": "execute_result"
    }
   ],
   "source": [
    "\"hello \\t world\".expandtabs() # \\t is considered as tab space"
   ]
  },
  {
   "cell_type": "code",
   "execution_count": 35,
   "id": "50e01978-0907-48c0-a89c-5d3972061ed2",
   "metadata": {},
   "outputs": [
    {
     "data": {
      "text/plain": [
       "'Welcome to pwskills.Welcome to Data Science Masters'"
      ]
     },
     "execution_count": 35,
     "metadata": {},
     "output_type": "execute_result"
    }
   ],
   "source": [
    "str1 = \"Welcome to pwskills.Welcome to Dat cience Masters\"\n",
    "# Replace Dat with Data and cience with Science\n",
    "# Answer -\n",
    "str1.replace(\"Dat\",\"Data\").replace(\"cience\",\"Science\") "
   ]
  },
  {
   "cell_type": "code",
   "execution_count": 1,
   "id": "204c6ab1-7af8-41a7-89b3-c819f0929b09",
   "metadata": {},
   "outputs": [
    {
     "data": {
      "text/plain": [
       "False"
      ]
     },
     "execution_count": 1,
     "metadata": {},
     "output_type": "execute_result"
    }
   ],
   "source": [
    "str1 = \"Cars\"\n",
    "str1.isupper() # returns True if String is in Upper Case"
   ]
  },
  {
   "cell_type": "code",
   "execution_count": 2,
   "id": "dcc31f92-f10f-4494-bb84-d04d65376c73",
   "metadata": {},
   "outputs": [
    {
     "data": {
      "text/plain": [
       "True"
      ]
     },
     "execution_count": 2,
     "metadata": {},
     "output_type": "execute_result"
    }
   ],
   "source": [
    "str2 = \"BUS\"\n",
    "str2.isupper()"
   ]
  },
  {
   "cell_type": "code",
   "execution_count": 3,
   "id": "4a059915-e592-4413-9e29-17d58a643873",
   "metadata": {},
   "outputs": [
    {
     "data": {
      "text/plain": [
       "True"
      ]
     },
     "execution_count": 3,
     "metadata": {},
     "output_type": "execute_result"
    }
   ],
   "source": [
    "str3 = \"hello\"\n",
    "str3.islower() # returns True if String is in Lower Case"
   ]
  },
  {
   "cell_type": "code",
   "execution_count": 5,
   "id": "f6adf187-0a6f-465d-9d59-020d4af0aee3",
   "metadata": {},
   "outputs": [
    {
     "data": {
      "text/plain": [
       "False"
      ]
     },
     "execution_count": 5,
     "metadata": {},
     "output_type": "execute_result"
    }
   ],
   "source": [
    "str4 = \" Hi everyone \"\n",
    "str4.isspace() # returns True if String has spaces only"
   ]
  },
  {
   "cell_type": "code",
   "execution_count": 6,
   "id": "5613c418-eaa0-404a-8c04-95a5e533408d",
   "metadata": {},
   "outputs": [
    {
     "data": {
      "text/plain": [
       "True"
      ]
     },
     "execution_count": 6,
     "metadata": {},
     "output_type": "execute_result"
    }
   ],
   "source": [
    "str5 = \"   \"\n",
    "str5.isspace()"
   ]
  },
  {
   "cell_type": "code",
   "execution_count": 7,
   "id": "99c5614c-af63-4e3b-a88d-2d037020b5b4",
   "metadata": {},
   "outputs": [
    {
     "data": {
      "text/plain": [
       "True"
      ]
     },
     "execution_count": 7,
     "metadata": {},
     "output_type": "execute_result"
    }
   ],
   "source": [
    "str6 = \"Anshuman\"\n",
    "str6.endswith(\"n\") # returns True if String ends with specified character"
   ]
  },
  {
   "cell_type": "code",
   "execution_count": 8,
   "id": "8a8dd1a1-954c-4c47-b054-cb49fdafd072",
   "metadata": {},
   "outputs": [
    {
     "data": {
      "text/plain": [
       "True"
      ]
     },
     "execution_count": 8,
     "metadata": {},
     "output_type": "execute_result"
    }
   ],
   "source": [
    "a = \"abcd1234\"\n",
    "a.isalnum() # returns True if String has alphanumeric characters"
   ]
  },
  {
   "cell_type": "code",
   "execution_count": 10,
   "id": "7c2f81f3-a162-4aad-b09f-c65197255257",
   "metadata": {},
   "outputs": [
    {
     "name": "stdout",
     "output_type": "stream",
     "text": [
      "5\n"
     ]
    }
   ],
   "source": [
    "# To count number of characters in a String using For Loop\n",
    "\n",
    "string = \"hello\"\n",
    "count = 0\n",
    "for i in string:\n",
    "    count=count+1\n",
    "print(count)"
   ]
  },
  {
   "cell_type": "code",
   "execution_count": 11,
   "id": "b23e0bf4-9e0c-406d-8574-7f82f5bf49b7",
   "metadata": {},
   "outputs": [
    {
     "name": "stdout",
     "output_type": "stream",
     "text": [
      "h\n",
      "e\n",
      "l\n",
      "l\n",
      "o\n"
     ]
    }
   ],
   "source": [
    "# To display all letters in a String\n",
    "\n",
    "string = \"hello\"\n",
    "for i in string:\n",
    "    print(i)"
   ]
  },
  {
   "cell_type": "code",
   "execution_count": 14,
   "id": "acba8272-cb43-47ed-9556-3d931bf8a1e6",
   "metadata": {},
   "outputs": [
    {
     "name": "stdout",
     "output_type": "stream",
     "text": [
      "0 = h\n",
      "1 = e\n",
      "2 = l\n",
      "3 = l\n",
      "4 = o\n"
     ]
    }
   ],
   "source": [
    "# To display all letters in a String w.r.t. indices\n",
    "\n",
    "string = \"hello\"\n",
    "for i in range(len(string)):\n",
    "    print(i,\"=\",string[i])"
   ]
  },
  {
   "cell_type": "code",
   "execution_count": 18,
   "id": "fdbd0918-6a71-4fb1-8e04-241b3d954442",
   "metadata": {},
   "outputs": [
    {
     "name": "stdout",
     "output_type": "stream",
     "text": [
      "o\n",
      "l\n",
      "l\n",
      "e\n",
      "h\n"
     ]
    }
   ],
   "source": [
    "# To display all letters in a String in reverse\n",
    "\n",
    "string = \"hello\"\n",
    "for i in range(len(string)-1,-1,-1): # last index (len(string)-1) to -1 in reverse order (-1 = stepsize)\n",
    "    print(string[i])"
   ]
  },
  {
   "cell_type": "code",
   "execution_count": 17,
   "id": "a6b65edf-289f-4a29-8205-17034b70473c",
   "metadata": {},
   "outputs": [
    {
     "name": "stdout",
     "output_type": "stream",
     "text": [
      "o\n",
      "l\n",
      "l\n",
      "e\n",
      "h\n"
     ]
    }
   ],
   "source": [
    "# To display all letters in a String in reverse using while loop\n",
    "\n",
    "ch = len(string)-1\n",
    "while ch >=0:\n",
    "    print(string[ch])\n",
    "    ch=ch-1"
   ]
  },
  {
   "cell_type": "code",
   "execution_count": 19,
   "id": "7cd17565-9e58-4b5e-9100-a9b06fbce9a1",
   "metadata": {},
   "outputs": [
    {
     "name": "stdout",
     "output_type": "stream",
     "text": [
      "o\n",
      "l\n",
      "l\n",
      "e\n",
      "h\n"
     ]
    }
   ],
   "source": [
    "# To display all letters in a String in reverse (another solution)\n",
    "\n",
    "for i in range(len(string)):\n",
    "    print(string[len(string)-(i+1)])"
   ]
  },
  {
   "cell_type": "code",
   "execution_count": 21,
   "id": "90f8ad48-172e-4e7e-97a5-c8088e1646bc",
   "metadata": {},
   "outputs": [
    {
     "name": "stdout",
     "output_type": "stream",
     "text": [
      "p is not a vowel\n",
      "w is not a vowel\n",
      "s is not a vowel\n",
      "k is not a vowel\n",
      "i is a vowel\n",
      "l is not a vowel\n",
      "l is not a vowel\n",
      "s is not a vowel\n"
     ]
    }
   ],
   "source": [
    "# Check if characters in String name are vowels or not\n",
    "\n",
    "name = \"pwskills\"\n",
    "vowels = \"AaEeIiOoUu\"\n",
    "for ch in name:\n",
    "    if ch in vowels:\n",
    "        print(f\"{ch} is a vowel\")\n",
    "    else:\n",
    "        print(f\"{ch} is not a vowel\")"
   ]
  },
  {
   "cell_type": "markdown",
   "id": "c76ff678-4607-4456-a285-451b183b9531",
   "metadata": {},
   "source": [
    "# LISTS"
   ]
  },
  {
   "cell_type": "code",
   "execution_count": 22,
   "id": "8aab092b-fb4f-4e24-a7a2-fe78955212a4",
   "metadata": {},
   "outputs": [
    {
     "data": {
      "text/plain": [
       "list"
      ]
     },
     "execution_count": 22,
     "metadata": {},
     "output_type": "execute_result"
    }
   ],
   "source": [
    "a = [\"Krish\", \"Naik\", 2, 3]\n",
    "type (a)"
   ]
  },
  {
   "cell_type": "code",
   "execution_count": 23,
   "id": "55707459-6acb-4146-942e-beff81acbf43",
   "metadata": {},
   "outputs": [
    {
     "data": {
      "text/plain": [
       "['h', 'e', 'l', 'l', 'o']"
      ]
     },
     "execution_count": 23,
     "metadata": {},
     "output_type": "execute_result"
    }
   ],
   "source": [
    "str1 = \"hello\"\n",
    "list(str1) # since list is iterable, here it will display all characters in the String"
   ]
  },
  {
   "cell_type": "code",
   "execution_count": 25,
   "id": "b7997e26-79ea-4f2c-be86-7636ecf0b213",
   "metadata": {},
   "outputs": [
    {
     "data": {
      "text/plain": [
       "['PW', 'Skills', 'Data', 'Science', 'Masters', 'Class']"
      ]
     },
     "execution_count": 25,
     "metadata": {},
     "output_type": "execute_result"
    }
   ],
   "source": [
    "str2 = \"PW Skills Data Science Masters Class\"\n",
    "list(str2.split(\" \")) # will remove (split) the specified characters (\" \")"
   ]
  },
  {
   "cell_type": "code",
   "execution_count": 26,
   "id": "3741c41c-83c8-4645-8724-d8a029953ddc",
   "metadata": {},
   "outputs": [
    {
     "data": {
      "text/plain": [
       "['PW', 'Skills', 'Data', 'Science', 'Masters', 'Class']"
      ]
     },
     "execution_count": 26,
     "metadata": {},
     "output_type": "execute_result"
    }
   ],
   "source": [
    "str2.split(\" \") # will also give the same output as the above (in List)\n",
    "# this means the return type of split() is also list"
   ]
  },
  {
   "cell_type": "code",
   "execution_count": 28,
   "id": "4cd81c36-22cc-426b-9495-351194cb8d1c",
   "metadata": {},
   "outputs": [
    {
     "data": {
      "text/plain": [
       "'pw'"
      ]
     },
     "execution_count": 28,
     "metadata": {},
     "output_type": "execute_result"
    }
   ],
   "source": [
    "list1 = [\"pw\",\"skills\",\"data\",\"science\",1,2]\n",
    "list1[0] # to access the element in list present in specified index"
   ]
  },
  {
   "cell_type": "code",
   "execution_count": 41,
   "id": "e1f5743f-efeb-404c-aba5-7de2773b0212",
   "metadata": {},
   "outputs": [
    {
     "data": {
      "text/plain": [
       "['masters', 'data', 'pw']"
      ]
     },
     "execution_count": 41,
     "metadata": {},
     "output_type": "execute_result"
    }
   ],
   "source": [
    "lst1 = [\"pw\",\"skills\",\"data\",\"science\",\"masters\"]\n",
    "lst1[::-2] # same functionality as string, this returns every 2nd element starting from last index in reverse"
   ]
  },
  {
   "cell_type": "code",
   "execution_count": 34,
   "id": "70f90cb2-e730-4bb0-8e74-a768286659a4",
   "metadata": {},
   "outputs": [
    {
     "data": {
      "text/plain": [
       "['data', 'pw']"
      ]
     },
     "execution_count": 34,
     "metadata": {},
     "output_type": "execute_result"
    }
   ],
   "source": [
    "lst1 = [\"pw\",\"skills\",\"data\",\"science\",\"masters\"]\n",
    "lst1[-3::-2] # returns every 2nd element starting from -3 index (\"data\") in reverse"
   ]
  },
  {
   "cell_type": "code",
   "execution_count": 40,
   "id": "442e4eb5-7a2d-402d-ad92-9b299699da2f",
   "metadata": {},
   "outputs": [
    {
     "data": {
      "text/plain": [
       "['science']"
      ]
     },
     "execution_count": 40,
     "metadata": {},
     "output_type": "execute_result"
    }
   ],
   "source": [
    "lst1 = [\"pw\",\"skills\",\"data\",\"science\",\"masters\"]\n",
    "lst1[-2:-4:-2] # returns every 2nd element starting from -3 index (\"data\") to index -4 (excluding index -4)"
   ]
  },
  {
   "cell_type": "code",
   "execution_count": 42,
   "id": "2b6aea8e-1885-42e3-b5ff-c4c1a85f5384",
   "metadata": {},
   "outputs": [],
   "source": [
    "# CONCATENATION OF LISTS"
   ]
  },
  {
   "cell_type": "code",
   "execution_count": 43,
   "id": "b29b2f4b-c3ef-48aa-b5ea-ab9b3a704c84",
   "metadata": {},
   "outputs": [
    {
     "data": {
      "text/plain": [
       "['pw', 'skills', 'data', 'science', 'masters', 'class', 23]"
      ]
     },
     "execution_count": 43,
     "metadata": {},
     "output_type": "execute_result"
    }
   ],
   "source": [
    "lst1 = [\"pw\",\"skills\",\"data\",\"science\",\"masters\"]\n",
    "lst1 + [\"class\",23]"
   ]
  },
  {
   "cell_type": "code",
   "execution_count": 45,
   "id": "55d3eec3-a87d-4cd8-b7ec-e0f4818ae242",
   "metadata": {},
   "outputs": [
    {
     "data": {
      "text/plain": [
       "['pw', 'skills', 'data', 'science', 'masters', ['class', 23]]"
      ]
     },
     "execution_count": 45,
     "metadata": {},
     "output_type": "execute_result"
    }
   ],
   "source": [
    "lst1 = [\"pw\",\"skills\",\"data\",\"science\",\"masters\"]\n",
    "lst1 + [[\"class\",23]]  # multi nested list (double sq brackets) - list within a list"
   ]
  },
  {
   "cell_type": "code",
   "execution_count": 48,
   "id": "68bab977-3538-46f9-876c-ee8de2c0d5f6",
   "metadata": {},
   "outputs": [
    {
     "name": "stdout",
     "output_type": "stream",
     "text": [
      "['pw', 'skills', 'data', 'science', 'masters', ['class', 23]]\n"
     ]
    }
   ],
   "source": [
    "lst1 = [\"pw\",\"skills\",\"data\",\"science\",\"masters\"]\n",
    "lst2 = lst1 + [[\"class\",23]]\n",
    "print(lst2)"
   ]
  },
  {
   "cell_type": "code",
   "execution_count": 52,
   "id": "3affa847-31ed-4771-8810-812178015e3e",
   "metadata": {},
   "outputs": [
    {
     "name": "stdout",
     "output_type": "stream",
     "text": [
      "['class', 23]\n"
     ]
    }
   ],
   "source": [
    "# Suppose I want to print ['class', 23] from lst2\n",
    "\n",
    "print(lst2[5])"
   ]
  },
  {
   "cell_type": "code",
   "execution_count": 53,
   "id": "b9c10c6b-4615-4ce5-a379-fd4a8d60534c",
   "metadata": {},
   "outputs": [
    {
     "name": "stdout",
     "output_type": "stream",
     "text": [
      "class\n"
     ]
    }
   ],
   "source": [
    "# Suppose I want to print only ['class'] from lst2\n",
    "\n",
    "print(lst2[5][0]) # class is in the 0th index of the multi nested list - [\"class\",2]"
   ]
  },
  {
   "cell_type": "code",
   "execution_count": 55,
   "id": "e7b6a97b-774f-44b6-bb62-fefaca92c808",
   "metadata": {},
   "outputs": [
    {
     "name": "stdout",
     "output_type": "stream",
     "text": [
      "['pw', 'skills', 'data', 'science', 'masters', ['class', 23], 'pw', 'skills', 'data', 'science', 'masters', ['class', 23]]\n"
     ]
    }
   ],
   "source": [
    "print(lst2*2) # repeats list for 2 times"
   ]
  },
  {
   "cell_type": "code",
   "execution_count": 56,
   "id": "bef1f4f2-ee04-4393-ad00-5d8331e04538",
   "metadata": {},
   "outputs": [
    {
     "name": "stdout",
     "output_type": "stream",
     "text": [
      "pw\n",
      "skills\n",
      "data\n",
      "science\n",
      "masters\n"
     ]
    }
   ],
   "source": [
    "lst1 = [\"pw\",\"skills\",\"data\",\"science\",\"masters\"]\n",
    "for element in lst1:\n",
    "    print(element)"
   ]
  },
  {
   "cell_type": "code",
   "execution_count": 57,
   "id": "c8e7396c-d1e7-4ce7-85f4-e2ebea9185a0",
   "metadata": {},
   "outputs": [
    {
     "name": "stdout",
     "output_type": "stream",
     "text": [
      "Present\n"
     ]
    }
   ],
   "source": [
    "# check if science is present in lst1\n",
    "\n",
    "if \"science\" in lst1:\n",
    "    print(\"Present\")"
   ]
  },
  {
   "cell_type": "code",
   "execution_count": 60,
   "id": "82429201-5a73-4372-8d64-2b0bf9e45dff",
   "metadata": {},
   "outputs": [
    {
     "name": "stdout",
     "output_type": "stream",
     "text": [
      "True\n",
      "False\n"
     ]
    }
   ],
   "source": [
    "# check elements in a list\n",
    "\n",
    "lst = [1,2,3,4]\n",
    "print(4 in lst) # returns True\n",
    "print(5 in lst) # returns False"
   ]
  },
  {
   "cell_type": "code",
   "execution_count": 66,
   "id": "63f76530-88a0-4bb9-8486-f87534ef8b19",
   "metadata": {},
   "outputs": [
    {
     "name": "stdout",
     "output_type": "stream",
     "text": [
      "Zebra\n",
      "Donkey\n"
     ]
    }
   ],
   "source": [
    "lst1 = [\"Monkey\", \"Zebra\", \"Donkey\", \"Lion\"]\n",
    "print(max(lst1))  # returns and prints the alphabetically highest value (using the concept of ASCII)\n",
    "print(min(lst1))  # returns and prints the alphabetically lowest value (using the concept of ASCII)"
   ]
  },
  {
   "cell_type": "code",
   "execution_count": 67,
   "id": "8d5c4b43-4acc-41a6-8a59-56c4466ef695",
   "metadata": {},
   "outputs": [
    {
     "name": "stdout",
     "output_type": "stream",
     "text": [
      "9\n",
      "1\n"
     ]
    }
   ],
   "source": [
    "lst2 = [1,3,2,9,8,6]\n",
    "print(max(lst2)) # returns and print the max value\n",
    "print(min(lst2)) # returns and print the min value"
   ]
  },
  {
   "cell_type": "code",
   "execution_count": 68,
   "id": "09b4d053-cfd0-493d-a114-1031fd6a676a",
   "metadata": {},
   "outputs": [],
   "source": [
    "## APPEND FUNCTION"
   ]
  },
  {
   "cell_type": "code",
   "execution_count": 75,
   "id": "58d76698-b72f-4772-8982-eb660008935c",
   "metadata": {},
   "outputs": [
    {
     "name": "stdout",
     "output_type": "stream",
     "text": [
      "['Data', 'Science', 'Masters']\n"
     ]
    }
   ],
   "source": [
    "lst = [\"Data\",\"Science\"]\n",
    "lst.append(\"Masters\") # adds the element and updates the list (in place operation)\n",
    "print(lst)"
   ]
  },
  {
   "cell_type": "code",
   "execution_count": 74,
   "id": "a3b0ce58-492b-47aa-b741-eb26b37dad89",
   "metadata": {},
   "outputs": [
    {
     "name": "stdout",
     "output_type": "stream",
     "text": [
      "['Data', 'Science']\n"
     ]
    }
   ],
   "source": [
    "lst = [\"Data\",\"Science\",\"Masters\"]\n",
    "lst.pop() # removes the last element and updates the list (in place operation)\n",
    "print(lst)"
   ]
  },
  {
   "cell_type": "code",
   "execution_count": 76,
   "id": "768ad997-9a35-495a-a327-1585657b37de",
   "metadata": {},
   "outputs": [
    {
     "name": "stdout",
     "output_type": "stream",
     "text": [
      "['Data', 'Masters']\n"
     ]
    }
   ],
   "source": [
    "lst = [\"Data\",\"Science\",\"Masters\"]\n",
    "lst.pop(1) # removes the element at index 1 and updates the list\n",
    "print(lst)"
   ]
  },
  {
   "cell_type": "code",
   "execution_count": 78,
   "id": "2d223e48-b802-4fe9-9764-35171c312e8b",
   "metadata": {},
   "outputs": [
    {
     "name": "stdout",
     "output_type": "stream",
     "text": [
      "Data\n"
     ]
    }
   ],
   "source": [
    "lst = [\"Data\",\"Science\",\"Masters\"]\n",
    "removed_element = lst.pop(0) # returns removed element\n",
    "print(removed_element)"
   ]
  },
  {
   "cell_type": "code",
   "execution_count": 80,
   "id": "cfbff1ac-522e-42ec-8d76-fe4a38f2bc66",
   "metadata": {},
   "outputs": [
    {
     "ename": "IndexError",
     "evalue": "list index out of range",
     "output_type": "error",
     "traceback": [
      "\u001b[0;31m---------------------------------------------------------------------------\u001b[0m",
      "\u001b[0;31mIndexError\u001b[0m                                Traceback (most recent call last)",
      "Cell \u001b[0;32mIn[80], line 2\u001b[0m\n\u001b[1;32m      1\u001b[0m lst \u001b[38;5;241m=\u001b[39m [\u001b[38;5;124m\"\u001b[39m\u001b[38;5;124mData\u001b[39m\u001b[38;5;124m\"\u001b[39m,\u001b[38;5;124m\"\u001b[39m\u001b[38;5;124mScience\u001b[39m\u001b[38;5;124m\"\u001b[39m,\u001b[38;5;124m\"\u001b[39m\u001b[38;5;124mMasters\u001b[39m\u001b[38;5;124m\"\u001b[39m]\n\u001b[0;32m----> 2\u001b[0m \u001b[43mlst\u001b[49m\u001b[43m[\u001b[49m\u001b[38;5;241;43m100\u001b[39;49m\u001b[43m]\u001b[49m \u001b[38;5;66;03m# will give Index Error\u001b[39;00m\n",
      "\u001b[0;31mIndexError\u001b[0m: list index out of range"
     ]
    }
   ],
   "source": [
    "lst = [\"Data\",\"Science\",\"Masters\"]\n",
    "lst[100] # will give Index Error"
   ]
  },
  {
   "cell_type": "code",
   "execution_count": 82,
   "id": "b2cf17cc-903b-4ad0-bd72-709332c6674f",
   "metadata": {},
   "outputs": [
    {
     "data": {
      "text/plain": [
       "['u', 't', 's', 'f', 'e', 'q']"
      ]
     },
     "execution_count": 82,
     "metadata": {},
     "output_type": "execute_result"
    }
   ],
   "source": [
    "lst = [\"q\",\"e\",\"f\",\"s\",\"t\",\"u\"]\n",
    "lst[::-1] # reverses the list       "
   ]
  },
  {
   "cell_type": "code",
   "execution_count": 83,
   "id": "9431ef40-d969-4a10-bef0-5a78441edbdc",
   "metadata": {},
   "outputs": [
    {
     "name": "stdout",
     "output_type": "stream",
     "text": [
      "['u', 't', 's', 'f', 'e', 'q']\n"
     ]
    }
   ],
   "source": [
    "lst = [\"q\",\"e\",\"f\",\"s\",\"t\",\"u\"]\n",
    "lst.reverse() # reverses the list and updates it (in place operation)\n",
    "print(lst)"
   ]
  },
  {
   "cell_type": "code",
   "execution_count": 85,
   "id": "c1ee57b0-65bd-4ef0-9891-91984427926d",
   "metadata": {},
   "outputs": [
    {
     "name": "stdout",
     "output_type": "stream",
     "text": [
      "['e', 'f', 'q', 's', 't', 'u']\n"
     ]
    }
   ],
   "source": [
    "lst = [\"q\",\"e\",\"f\",\"s\",\"t\",\"u\"]\n",
    "lst.sort() # sorts (ascending order) the list and updates it (in place operation)\n",
    "print(lst)"
   ]
  },
  {
   "cell_type": "code",
   "execution_count": 90,
   "id": "0cee6b34-b855-48ca-a27a-ee7461836dbc",
   "metadata": {},
   "outputs": [
    {
     "name": "stdout",
     "output_type": "stream",
     "text": [
      "['u', 't', 's', 'q', 'f', 'e']\n"
     ]
    }
   ],
   "source": [
    "lst = [\"q\",\"e\",\"f\",\"s\",\"t\",\"u\"]\n",
    "lst.sort(reverse = True) # sorts (descending order) the list and updates it (in place operation)\n",
    "print(lst)"
   ]
  },
  {
   "cell_type": "code",
   "execution_count": 88,
   "id": "fb88790b-acdd-48b6-acf8-7ead5ccbd544",
   "metadata": {},
   "outputs": [
    {
     "name": "stdout",
     "output_type": "stream",
     "text": [
      "['Data', 'Science', ['Masters', 'Class']]\n"
     ]
    }
   ],
   "source": [
    "# To add multi nested list to a list, use append\n",
    "lst = [\"Data\", \"Science\"]\n",
    "lst.append([\"Masters\", \"Class\"])\n",
    "print(lst)"
   ]
  },
  {
   "cell_type": "code",
   "execution_count": 89,
   "id": "d828a9e3-aabb-46e2-9aac-af89d6bd4b14",
   "metadata": {},
   "outputs": [
    {
     "name": "stdout",
     "output_type": "stream",
     "text": [
      "['Data', 'Science', 'Masters', 'Class']\n"
     ]
    }
   ],
   "source": [
    "# To add more than one element to a list (without multi nesting), use extend\n",
    "lst = [\"Data\", \"Science\"]\n",
    "lst.extend([\"Masters\", \"Class\"])\n",
    "print(lst)"
   ]
  },
  {
   "cell_type": "markdown",
   "id": "2ea4cd21-64d2-44a0-bfd6-2a8fea7462ea",
   "metadata": {},
   "source": [
    "# NESTED LIST"
   ]
  },
  {
   "cell_type": "code",
   "execution_count": 91,
   "id": "242fe608-4087-4cba-abfe-52dd72de3798",
   "metadata": {},
   "outputs": [
    {
     "name": "stdout",
     "output_type": "stream",
     "text": [
      "[[1, 2, 3], [4, 5, 6], [7, 8, 9]]\n"
     ]
    }
   ],
   "source": [
    "lst1 = [1,2,3]\n",
    "lst2 = [4,5,6]\n",
    "lst3 = [7,8,9]\n",
    "\n",
    "# Make a list of list to form a matrix\n",
    "matrix = [lst1,lst2,lst3]\n",
    "print(matrix)"
   ]
  },
  {
   "cell_type": "code",
   "execution_count": 92,
   "id": "201afb69-c2f5-4e17-87ad-2b115f40e789",
   "metadata": {},
   "outputs": [
    {
     "data": {
      "text/plain": [
       "6"
      ]
     },
     "execution_count": 92,
     "metadata": {},
     "output_type": "execute_result"
    }
   ],
   "source": [
    "# return 6 from the created matrix\n",
    "matrix [1][2] # matrix[1] = [4,5,6] and [2] of it contains 6"
   ]
  },
  {
   "cell_type": "code",
   "execution_count": 93,
   "id": "4f70d23d-22e5-4209-ade6-48c57d134772",
   "metadata": {},
   "outputs": [
    {
     "data": {
      "text/plain": [
       "[8, 9]"
      ]
     },
     "execution_count": 93,
     "metadata": {},
     "output_type": "execute_result"
    }
   ],
   "source": [
    "# return 8 and 9 from matrix\n",
    "matrix [2][1:]"
   ]
  },
  {
   "cell_type": "markdown",
   "id": "7302e105-d95f-420a-9515-84c86f1b05a2",
   "metadata": {},
   "source": [
    "# List Comprehension"
   ]
  },
  {
   "cell_type": "code",
   "execution_count": 101,
   "id": "fcedf0dc-7eae-45cc-a23e-2ea18d8a91a6",
   "metadata": {},
   "outputs": [
    {
     "data": {
      "text/plain": [
       "[0, 1, 2, 3, 4, 5, 6, 7, 8, 9, 10, 11, 12, 13, 14, 15, 16, 17, 18, 19]"
      ]
     },
     "execution_count": 101,
     "metadata": {},
     "output_type": "execute_result"
    }
   ],
   "source": [
    "[i for i in range(20)] # creates a list having numbers from 0 to 20-1 (19)"
   ]
  },
  {
   "cell_type": "code",
   "execution_count": 100,
   "id": "754813bc-0dab-4130-a465-1328b860d2bf",
   "metadata": {},
   "outputs": [
    {
     "data": {
      "text/plain": [
       "[2, 3, 4, 5, 6, 7, 8, 9, 10, 11, 12, 13, 14, 15, 16, 17, 18, 19]"
      ]
     },
     "execution_count": 100,
     "metadata": {},
     "output_type": "execute_result"
    }
   ],
   "source": [
    "[i for i in range (2,20)] # creates a list having numbers from 2 to 20-1 (19)"
   ]
  },
  {
   "cell_type": "code",
   "execution_count": 104,
   "id": "8acb7ae1-ab1c-46f1-8d86-ea9d206615cf",
   "metadata": {},
   "outputs": [
    {
     "data": {
      "text/plain": [
       "[' ', 2, ' ', 4, ' ', 6, ' ', 8, ' ']"
      ]
     },
     "execution_count": 104,
     "metadata": {},
     "output_type": "execute_result"
    }
   ],
   "source": [
    "# To print even numbers from 1 to 9 and blank space for odd numbers\n",
    "[i if i%2 == 0 else \" \" for i in range(1,10)]"
   ]
  },
  {
   "cell_type": "code",
   "execution_count": 106,
   "id": "042335b7-2fc6-4ad1-bd2d-a20d3cb47555",
   "metadata": {},
   "outputs": [
    {
     "name": "stdout",
     "output_type": "stream",
     "text": [
      "Sum of even numbers = 20\n",
      "Sum of even numbers = 16\n"
     ]
    }
   ],
   "source": [
    "lst = [1,2,3,4,5,6,7,8]\n",
    "# Find sum of even numbers and even numbers from the above list\n",
    "\n",
    "sum_even = 0\n",
    "sum_odd = 0\n",
    "for i in lst:\n",
    "    if (i%2==0):\n",
    "        sum_even = sum_even+i\n",
    "    else:\n",
    "        sum_odd = sum_odd+i\n",
    "print(f\"Sum of even numbers = {sum_even}\")\n",
    "print(f\"Sum of even numbers = {sum_odd}\")"
   ]
  },
  {
   "cell_type": "code",
   "execution_count": 108,
   "id": "fe368ea8-0536-4064-8ebb-2eed6b0ea2e1",
   "metadata": {},
   "outputs": [
    {
     "name": "stdout",
     "output_type": "stream",
     "text": [
      "Sum of even numbers = 20\n",
      "Sum of even numbers = 16\n"
     ]
    }
   ],
   "source": [
    "lst = [1,2,3,4,5,6,7,8]\n",
    "# Find sum of even numbers and even numbers from the above list using List Comprehension\n",
    "\n",
    "sum_even = sum([num for num in lst if num%2 == 0]) # sum() finds sum\n",
    "sum_odd = sum([num for num in lst if num%2 !=0])\n",
    "print(f\"Sum of even numbers = {sum_even}\")\n",
    "print(f\"Sum of even numbers = {sum_odd}\")"
   ]
  },
  {
   "cell_type": "code",
   "execution_count": 111,
   "id": "a11def4f-1a23-42bf-93cc-7dc41f4408dd",
   "metadata": {},
   "outputs": [
    {
     "data": {
      "text/plain": [
       "[1, 4, 9, 16, 25, 36, 49, 64, 81, 100]"
      ]
     },
     "execution_count": 111,
     "metadata": {},
     "output_type": "execute_result"
    }
   ],
   "source": [
    "lst = [1,2,3,4,5,6,7,8,9,10]\n",
    "# Find squares of all the numbers using List Comprehension\n",
    "\n",
    "[num**2 for num in lst] # **2 means number to the power of 2"
   ]
  },
  {
   "cell_type": "code",
   "execution_count": 112,
   "id": "65ead646-7413-447e-aac3-68bcfd776890",
   "metadata": {},
   "outputs": [
    {
     "data": {
      "text/plain": [
       "[1, 2, 3, 4]"
      ]
     },
     "execution_count": 112,
     "metadata": {},
     "output_type": "execute_result"
    }
   ],
   "source": [
    "lst = [-2,-1,0,1,2,3,4]\n",
    "# Create a list of positive numbers from the list\n",
    "\n",
    "[num for num in lst if num>0]"
   ]
  },
  {
   "cell_type": "code",
   "execution_count": 113,
   "id": "de00b773-eb10-4de7-9803-13d5ba7afdff",
   "metadata": {},
   "outputs": [
    {
     "data": {
      "text/plain": [
       "['a', 'b', 'c', 'd']"
      ]
     },
     "execution_count": 113,
     "metadata": {},
     "output_type": "execute_result"
    }
   ],
   "source": [
    "lst = [\"apple\",\"banana\",\"cherry\",\"date\"]\n",
    "# Create a list of only first letters of the words in the list\n",
    "\n",
    "[word[0] for word in lst]"
   ]
  },
  {
   "cell_type": "code",
   "execution_count": 115,
   "id": "01c599a0-093c-4d84-9495-94a1105203ff",
   "metadata": {},
   "outputs": [
    {
     "data": {
      "text/plain": [
       "[32.0, 50.0, 68.0, 86.0, 104.0, 122.0]"
      ]
     },
     "execution_count": 115,
     "metadata": {},
     "output_type": "execute_result"
    }
   ],
   "source": [
    "temp_celcius = [0,10,20,30,40,50]\n",
    "# Convert the temperatures in celcius given in list to farenheit\n",
    "\n",
    "[(temp_farenheit*9/5)+32 for temp_farenheit in temp_celcius]"
   ]
  },
  {
   "cell_type": "code",
   "execution_count": 117,
   "id": "260377c8-99e6-4708-b4c9-f499bcda14e9",
   "metadata": {},
   "outputs": [
    {
     "data": {
      "text/plain": [
       "[1, 2, 3, 4, 5, 6, 7, 8, 9]"
      ]
     },
     "execution_count": 117,
     "metadata": {},
     "output_type": "execute_result"
    }
   ],
   "source": [
    "lst = [[1, 2, 3], [4, 5, 6], [7, 8, 9]]\n",
    "# flatten the above list of lists into a single list\n",
    "\n",
    "[num for sublist in lst for num in sublist]"
   ]
  },
  {
   "cell_type": "code",
   "execution_count": 135,
   "id": "c8ca0b80-18a3-4267-b029-4a8801e327c3",
   "metadata": {},
   "outputs": [],
   "source": [
    "# ASSIGNMENT 1\n",
    "# Given numbers = [1,2,3,4,5,6,7,8,9,10]\n",
    "# Create a list of all prime numbers from the list (using Code and List Comprehension)"
   ]
  },
  {
   "cell_type": "code",
   "execution_count": 134,
   "id": "99b1b572-1376-4f67-9f14-b34360fcc013",
   "metadata": {},
   "outputs": [
    {
     "name": "stdout",
     "output_type": "stream",
     "text": [
      "[2, 3, 5, 7]\n"
     ]
    }
   ],
   "source": [
    "# ANSWER TO ASSIGNMENT 1 (USING CODE) -\n",
    "\n",
    "numbers = [1,2,3,4,5,6,7,8,9,10]\n",
    "prime_list = []\n",
    "for prime in numbers:\n",
    "    if (prime > 1 and all(prime % y !=0 for y in range(2,prime))):\n",
    "        prime_list=prime_list+[prime]\n",
    "print(prime_list)    "
   ]
  },
  {
   "cell_type": "code",
   "execution_count": 130,
   "id": "0df4d490-0b03-4a7c-b620-9c90da653bdf",
   "metadata": {},
   "outputs": [
    {
     "name": "stdout",
     "output_type": "stream",
     "text": [
      "[2, 3, 5, 7]\n"
     ]
    }
   ],
   "source": [
    "# ANSWER TO ASSIGNMENT 1 (USING LIST COMPREHENSION) -\n",
    "\n",
    "numbers = [1,2,3,4,5,6,7,8,9,10]\n",
    "prime_list = [prime for prime in numbers if prime !=1 and all(prime % y !=0 for y in range(2,prime))]\n",
    "print(prime_list)"
   ]
  },
  {
   "cell_type": "code",
   "execution_count": 137,
   "id": "ca729c70-a9d9-474f-b762-0a0b9106d65d",
   "metadata": {},
   "outputs": [],
   "source": [
    "# ASSIGNMENT 2\n",
    "# Given numbers = [1,2,3,5,]\n",
    "# Create a list of all the possible combinations of 2 elements from the list (using Code and List Comprehension)"
   ]
  },
  {
   "cell_type": "code",
   "execution_count": 151,
   "id": "fb8b7d32-1404-4f58-902c-0c596cda2779",
   "metadata": {},
   "outputs": [
    {
     "name": "stdout",
     "output_type": "stream",
     "text": [
      "[[1, 2], [1, 3], [1, 4], [1, 5], [2, 3], [2, 4], [2, 5], [3, 4], [3, 5], [4, 5]]\n"
     ]
    }
   ],
   "source": [
    "# ANSWER TO ASSIGNMENT 2 (USING CODE) -\n",
    "\n",
    "numbers = [1,2,3,4,5]\n",
    "combinations = []\n",
    "for a in range(1,len(numbers)):\n",
    "    for b in range(a+1,len(numbers)+1):\n",
    "        combinations.append([a,b])\n",
    "print(combinations)    "
   ]
  },
  {
   "cell_type": "code",
   "execution_count": 150,
   "id": "c3c35515-f910-4879-bff3-dec8018d9760",
   "metadata": {},
   "outputs": [
    {
     "name": "stdout",
     "output_type": "stream",
     "text": [
      "[[1, 2], [1, 3], [1, 4], [1, 5], [2, 3], [2, 4], [2, 5], [3, 4], [3, 5], [4, 5]]\n"
     ]
    }
   ],
   "source": [
    "# ANSWER TO ASSIGNMENT 2 (USING LIST COMPREHENSION) -\n",
    "\n",
    "numbers = [1,2,3,4,5]\n",
    "combinations = [[a,b] for a in range(1,len(numbers)) for b in range(a+1,len(numbers)+1)]\n",
    "print(combinations)"
   ]
  }
 ],
 "metadata": {
  "kernelspec": {
   "display_name": "Python 3 (ipykernel)",
   "language": "python",
   "name": "python3"
  },
  "language_info": {
   "codemirror_mode": {
    "name": "ipython",
    "version": 3
   },
   "file_extension": ".py",
   "mimetype": "text/x-python",
   "name": "python",
   "nbconvert_exporter": "python",
   "pygments_lexer": "ipython3",
   "version": "3.10.8"
  }
 },
 "nbformat": 4,
 "nbformat_minor": 5
}
