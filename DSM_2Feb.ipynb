{
 "cells": [
  {
   "cell_type": "markdown",
   "id": "b0dfa8fe-a60d-4013-bb2c-d910d43d2b47",
   "metadata": {},
   "source": [
    "# DSM Class 2nd Feb, 2023\n",
    "## Quick Coding Notes\n",
    "### Written by: Anshuman Rath"
   ]
  },
  {
   "cell_type": "markdown",
   "id": "ad0f7068-80d5-499b-91b3-cfc6edf95d49",
   "metadata": {},
   "source": [
    "# TUPLE"
   ]
  },
  {
   "cell_type": "code",
   "execution_count": 3,
   "id": "c10d07d6-b0c2-47d0-bcc9-e354f53a55ad",
   "metadata": {},
   "outputs": [
    {
     "data": {
      "text/plain": [
       "tuple"
      ]
     },
     "execution_count": 3,
     "metadata": {},
     "output_type": "execute_result"
    }
   ],
   "source": [
    "t = (1,2,3,4,5+6j,\"Anshu\",True) # Tuple is enclosed within round brackets\n",
    "type(t) # returns type of t"
   ]
  },
  {
   "cell_type": "code",
   "execution_count": 4,
   "id": "af310430-2226-4ea6-b0bf-bdd4743718b8",
   "metadata": {},
   "outputs": [
    {
     "data": {
      "text/plain": [
       "1"
      ]
     },
     "execution_count": 4,
     "metadata": {},
     "output_type": "execute_result"
    }
   ],
   "source": [
    "t = (1,2,3,4,5+6j,\"Anshu\",True)\n",
    "t[0] # extracts the element in the specified index"
   ]
  },
  {
   "cell_type": "code",
   "execution_count": 5,
   "id": "33a220fe-4fc0-4930-aacd-0f6224afb694",
   "metadata": {},
   "outputs": [
    {
     "data": {
      "text/plain": [
       "(True, 'Anshu', (5+6j), 4, 3, 2, 1)"
      ]
     },
     "execution_count": 5,
     "metadata": {},
     "output_type": "execute_result"
    }
   ],
   "source": [
    "t = (1,2,3,4,5+6j,\"Anshu\",True)\n",
    "t[::-1] # extracts elements in reverse"
   ]
  },
  {
   "cell_type": "code",
   "execution_count": 7,
   "id": "0ada547f-760a-4d01-89f6-d12a38158c5c",
   "metadata": {},
   "outputs": [
    {
     "data": {
      "text/plain": [
       "(True, 'Anshu', (5+6j))"
      ]
     },
     "execution_count": 7,
     "metadata": {},
     "output_type": "execute_result"
    }
   ],
   "source": [
    "t = (True, 'Anshu', (5+6j), 4, 3, 2, 1)\n",
    "# extract elements from True till (5+6j)\n",
    "t[0:3:1]"
   ]
  },
  {
   "cell_type": "code",
   "execution_count": 8,
   "id": "ad03ef1e-beb0-460d-aa48-231fb6c54f3a",
   "metadata": {},
   "outputs": [
    {
     "data": {
      "text/plain": [
       "3"
      ]
     },
     "execution_count": 8,
     "metadata": {},
     "output_type": "execute_result"
    }
   ],
   "source": [
    "t = (True, 'Anshu', (5+6j), 4, 4, 3, 4, 2, 3, 1)\n",
    "t.count(4) # Returns number of occurrences of value"
   ]
  },
  {
   "cell_type": "code",
   "execution_count": 11,
   "id": "dddcaa30-d316-4a2d-8b66-d4654e059332",
   "metadata": {},
   "outputs": [
    {
     "data": {
      "text/plain": [
       "3"
      ]
     },
     "execution_count": 11,
     "metadata": {},
     "output_type": "execute_result"
    }
   ],
   "source": [
    "t = (True, 'Anshu', (5+6j), 4, 4, 3, 4, 2, 3, 1)\n",
    "t.index(4) # Returns first index of value"
   ]
  },
  {
   "cell_type": "code",
   "execution_count": 12,
   "id": "bb58cbb3-b27f-4681-8add-de3fc3c6c50a",
   "metadata": {},
   "outputs": [
    {
     "data": {
      "text/plain": [
       "0"
      ]
     },
     "execution_count": 12,
     "metadata": {},
     "output_type": "execute_result"
    }
   ],
   "source": [
    "t = (True, 'Anshu', (5+6j), 4, 4, 3, 4, 2, 3, 1)\n",
    "t.index(1) # Returns first index of value and here it considers 1 = True"
   ]
  },
  {
   "cell_type": "code",
   "execution_count": 14,
   "id": "d64c77e7-19ac-4927-a988-8da74a268eaf",
   "metadata": {},
   "outputs": [
    {
     "data": {
      "text/plain": [
       "2"
      ]
     },
     "execution_count": 14,
     "metadata": {},
     "output_type": "execute_result"
    }
   ],
   "source": [
    "t = (True, 'Anshu', (5+6j), 4, 4, 3, 4, 2, 3, 1)\n",
    "t.count(1) # Returns number of occurrences of value and here it considers even True as 1"
   ]
  },
  {
   "cell_type": "code",
   "execution_count": 17,
   "id": "d4865c5c-5ff8-44ad-91f8-00e60fa8a295",
   "metadata": {},
   "outputs": [],
   "source": [
    "lst = [1,2,3,4]\n",
    "tup = (1,2,3,4)"
   ]
  },
  {
   "cell_type": "code",
   "execution_count": 19,
   "id": "e09da385-f075-47ee-bd37-c10155c4395d",
   "metadata": {},
   "outputs": [
    {
     "name": "stdout",
     "output_type": "stream",
     "text": [
      "[5, 2, 3, 4]\n"
     ]
    }
   ],
   "source": [
    "# if we want to replace element at Index 0 of lst (which is 1) with 5\n",
    "lst[0] = 5\n",
    "print (lst)\n",
    "# Since lists are mutable, this is achievable"
   ]
  },
  {
   "cell_type": "code",
   "execution_count": 20,
   "id": "3d74a363-8657-404d-b579-97956052db9c",
   "metadata": {},
   "outputs": [
    {
     "ename": "TypeError",
     "evalue": "'tuple' object does not support item assignment",
     "output_type": "error",
     "traceback": [
      "\u001b[0;31m---------------------------------------------------------------------------\u001b[0m",
      "\u001b[0;31mTypeError\u001b[0m                                 Traceback (most recent call last)",
      "Cell \u001b[0;32mIn[20], line 2\u001b[0m\n\u001b[1;32m      1\u001b[0m \u001b[38;5;66;03m# if we want to replace element at Index 0 of tup (which is 1) with 5\u001b[39;00m\n\u001b[0;32m----> 2\u001b[0m \u001b[43mtup\u001b[49m\u001b[43m[\u001b[49m\u001b[38;5;241;43m0\u001b[39;49m\u001b[43m]\u001b[49m \u001b[38;5;241m=\u001b[39m \u001b[38;5;241m5\u001b[39m\n\u001b[1;32m      3\u001b[0m \u001b[38;5;28mprint\u001b[39m(tup)\n\u001b[1;32m      4\u001b[0m \u001b[38;5;66;03m# Since tuples are immutable, this will give an error\u001b[39;00m\n",
      "\u001b[0;31mTypeError\u001b[0m: 'tuple' object does not support item assignment"
     ]
    }
   ],
   "source": [
    "# if we want to replace element at Index 0 of tup (which is 1) with 5\n",
    "tup[0] = 5\n",
    "print(tup)\n",
    "# Since tuples are immutable, this will give an error"
   ]
  },
  {
   "cell_type": "code",
   "execution_count": 21,
   "id": "cf040327-2843-4df6-a84e-6ec94dde35de",
   "metadata": {},
   "outputs": [],
   "source": [
    "# Lists are mutable while Tuples are not mutable"
   ]
  },
  {
   "cell_type": "code",
   "execution_count": 1,
   "id": "0007ca30-e50e-424a-b652-0a17634d15a3",
   "metadata": {},
   "outputs": [
    {
     "name": "stdout",
     "output_type": "stream",
     "text": [
      "1\n",
      "2\n",
      "3\n",
      "4\n"
     ]
    }
   ],
   "source": [
    "# Iterating through tuples\n",
    "\n",
    "tup = (1,2,3,4)\n",
    "for i in tup:\n",
    "    print(i)"
   ]
  },
  {
   "cell_type": "code",
   "execution_count": 3,
   "id": "bb044b2c-4b61-4272-84ba-376263bba7d8",
   "metadata": {},
   "outputs": [
    {
     "data": {
      "text/plain": [
       "(1, 2, 3, 4, 1, 2, 3, 4, 1, 2, 3, 4)"
      ]
     },
     "execution_count": 3,
     "metadata": {},
     "output_type": "execute_result"
    }
   ],
   "source": [
    "t2 = (1,2,3,4)\n",
    "t2 * 3 # repeats the tuple for 3 times"
   ]
  },
  {
   "cell_type": "code",
   "execution_count": 4,
   "id": "4d8208eb-1bb6-4c36-8c1c-254be518688d",
   "metadata": {},
   "outputs": [
    {
     "data": {
      "text/plain": [
       "1"
      ]
     },
     "execution_count": 4,
     "metadata": {},
     "output_type": "execute_result"
    }
   ],
   "source": [
    "min(t2) # returns minimum value"
   ]
  },
  {
   "cell_type": "code",
   "execution_count": 5,
   "id": "d7584c8e-67df-4b82-9e9a-a191176df324",
   "metadata": {},
   "outputs": [
    {
     "data": {
      "text/plain": [
       "4"
      ]
     },
     "execution_count": 5,
     "metadata": {},
     "output_type": "execute_result"
    }
   ],
   "source": [
    "max(t2) # returns maximum value"
   ]
  },
  {
   "cell_type": "code",
   "execution_count": 7,
   "id": "acf3b98b-da4c-473f-961c-c14ba2843de4",
   "metadata": {},
   "outputs": [
    {
     "name": "stdout",
     "output_type": "stream",
     "text": [
      "(1, 2, 3, 4, 5, 6, 7, 8)\n"
     ]
    }
   ],
   "source": [
    "t1 = (1,2,3,4)\n",
    "t2 = (5,6,7,8)\n",
    "t3 = t1+t2 # creates tuples inside a tuple\n",
    "print(t3)"
   ]
  },
  {
   "cell_type": "code",
   "execution_count": 8,
   "id": "a29e4b1f-83e5-4621-b161-a6968ad76cf9",
   "metadata": {},
   "outputs": [
    {
     "name": "stdout",
     "output_type": "stream",
     "text": [
      "((1, 2, 3), [4, 5, 6])\n"
     ]
    }
   ],
   "source": [
    "# A tuple can have lists as well\n",
    "# Example ->\n",
    "t4 = ((1,2,3),[4,5,6])\n",
    "print(t4)"
   ]
  },
  {
   "cell_type": "code",
   "execution_count": 9,
   "id": "2d5eac43-b50b-41cf-9bf5-0c07237c0b3b",
   "metadata": {},
   "outputs": [
    {
     "ename": "NameError",
     "evalue": "name 't4' is not defined",
     "output_type": "error",
     "traceback": [
      "\u001b[0;31m---------------------------------------------------------------------------\u001b[0m",
      "\u001b[0;31mNameError\u001b[0m                                 Traceback (most recent call last)",
      "Cell \u001b[0;32mIn[9], line 2\u001b[0m\n\u001b[1;32m      1\u001b[0m \u001b[38;5;28;01mdel\u001b[39;00m t4 \u001b[38;5;66;03m# deletes the tuple\u001b[39;00m\n\u001b[0;32m----> 2\u001b[0m \u001b[38;5;28mprint\u001b[39m(\u001b[43mt4\u001b[49m) \u001b[38;5;66;03m# produces an error as you have deleted t4 above\u001b[39;00m\n",
      "\u001b[0;31mNameError\u001b[0m: name 't4' is not defined"
     ]
    }
   ],
   "source": [
    "del t4 # deletes the tuple\n",
    "print(t4) # produces an error as you have deleted t4 above"
   ]
  },
  {
   "cell_type": "code",
   "execution_count": 10,
   "id": "6a06d816-f53c-4f49-9db3-b05ae830cf5a",
   "metadata": {},
   "outputs": [
    {
     "data": {
      "text/plain": [
       "4"
      ]
     },
     "execution_count": 10,
     "metadata": {},
     "output_type": "execute_result"
    }
   ],
   "source": [
    "t1 = (1,2,3,4)\n",
    "len (t1) # gives number of elements inside a tuple"
   ]
  },
  {
   "cell_type": "code",
   "execution_count": 11,
   "id": "dd0bc936-6b32-4fea-80cc-a26d860dfb0b",
   "metadata": {},
   "outputs": [
    {
     "data": {
      "text/plain": [
       "True"
      ]
     },
     "execution_count": 11,
     "metadata": {},
     "output_type": "execute_result"
    }
   ],
   "source": [
    "t1 = (1,2,3,4,5,6)\n",
    "1 in t1  # checks whether the specified element exists inside the tuple or not"
   ]
  },
  {
   "cell_type": "code",
   "execution_count": 12,
   "id": "a342eb24-b4dc-4609-b90f-d69ce14c23ca",
   "metadata": {},
   "outputs": [
    {
     "data": {
      "text/plain": [
       "False"
      ]
     },
     "execution_count": 12,
     "metadata": {},
     "output_type": "execute_result"
    }
   ],
   "source": [
    "7 in t1"
   ]
  },
  {
   "cell_type": "markdown",
   "id": "6be376c7-46ba-4732-8128-9b75721a8f74",
   "metadata": {},
   "source": [
    "# SET"
   ]
  },
  {
   "cell_type": "code",
   "execution_count": 20,
   "id": "0b84e9f0-5707-4507-a41f-7f99706b58a3",
   "metadata": {},
   "outputs": [
    {
     "data": {
      "text/plain": [
       "set"
      ]
     },
     "execution_count": 20,
     "metadata": {},
     "output_type": "execute_result"
    }
   ],
   "source": [
    "s = {1,2,3,4}   # Sets are enclosed within curly braces\n",
    "type (s)"
   ]
  },
  {
   "cell_type": "code",
   "execution_count": 16,
   "id": "783f7d78-5e24-4bc3-aff4-0cf7cab10cfb",
   "metadata": {},
   "outputs": [
    {
     "name": "stdout",
     "output_type": "stream",
     "text": [
      "{1, 3, 4, 5, 6, 12}\n"
     ]
    }
   ],
   "source": [
    "s2 = {1,1,12,3,3,4,5,5,5,6}\n",
    "print (s2) # removes duplicates while displaying the set"
   ]
  },
  {
   "cell_type": "code",
   "execution_count": 17,
   "id": "c8609efa-872e-46da-bc19-690314ab314b",
   "metadata": {},
   "outputs": [
    {
     "data": {
      "text/plain": [
       "[1, 3, 4, 5, 6, 12]"
      ]
     },
     "execution_count": 17,
     "metadata": {},
     "output_type": "execute_result"
    }
   ],
   "source": [
    "list(s2)  # converts the set into list"
   ]
  },
  {
   "cell_type": "code",
   "execution_count": 18,
   "id": "47ca1994-2376-4cda-ae81-cd67feedafea",
   "metadata": {},
   "outputs": [
    {
     "data": {
      "text/plain": [
       "(1, 3, 4, 5, 6, 12)"
      ]
     },
     "execution_count": 18,
     "metadata": {},
     "output_type": "execute_result"
    }
   ],
   "source": [
    "tuple (s2)  # converts the set into tuple"
   ]
  },
  {
   "cell_type": "code",
   "execution_count": 19,
   "id": "d7608aed-c78f-4e2a-bb69-14de2432eda4",
   "metadata": {},
   "outputs": [
    {
     "name": "stdout",
     "output_type": "stream",
     "text": [
      "{1, 2, 3, 4}\n"
     ]
    }
   ],
   "source": [
    "list1 = [1,2,3,4]\n",
    "set1 = set(list1) # converts the list into set\n",
    "print(set1)"
   ]
  },
  {
   "cell_type": "code",
   "execution_count": 22,
   "id": "f8a036d9-a9fc-4342-810d-8f0554859112",
   "metadata": {},
   "outputs": [
    {
     "ename": "TypeError",
     "evalue": "unhashable type: 'list'",
     "output_type": "error",
     "traceback": [
      "\u001b[0;31m---------------------------------------------------------------------------\u001b[0m",
      "\u001b[0;31mTypeError\u001b[0m                                 Traceback (most recent call last)",
      "Cell \u001b[0;32mIn[22], line 1\u001b[0m\n\u001b[0;32m----> 1\u001b[0m set1 \u001b[38;5;241m=\u001b[39m {\u001b[38;5;241m1\u001b[39m,\u001b[38;5;241m2\u001b[39m,\u001b[38;5;241m3\u001b[39m,\u001b[38;5;241m4\u001b[39m,[\u001b[38;5;241m1\u001b[39m,\u001b[38;5;241m2\u001b[39m,\u001b[38;5;241m3\u001b[39m,\u001b[38;5;241m4\u001b[39m]}\n\u001b[1;32m      2\u001b[0m \u001b[38;5;28mprint\u001b[39m(set1)\n\u001b[1;32m      3\u001b[0m \u001b[38;5;66;03m# a set cannot store a list\u001b[39;00m\n",
      "\u001b[0;31mTypeError\u001b[0m: unhashable type: 'list'"
     ]
    }
   ],
   "source": [
    "set1 = {1,2,3,4,[1,2,3,4]}\n",
    "print(set1)\n",
    "# a set cannot store a list"
   ]
  },
  {
   "cell_type": "code",
   "execution_count": 24,
   "id": "49dc3b68-3483-45fd-b1aa-56bb43bca327",
   "metadata": {},
   "outputs": [
    {
     "name": "stdout",
     "output_type": "stream",
     "text": [
      "{(1, 2, 3, 4), 1, 2, 3, 4}\n"
     ]
    }
   ],
   "source": [
    "set1 = {1,2,3,4,(1,2,3,4)}\n",
    "print(set1)\n",
    "# a set can store a tuple"
   ]
  },
  {
   "cell_type": "code",
   "execution_count": 26,
   "id": "d3b1196f-aed0-45c5-a4bc-b88698f0c9cc",
   "metadata": {},
   "outputs": [
    {
     "ename": "TypeError",
     "evalue": "'set' object is not subscriptable",
     "output_type": "error",
     "traceback": [
      "\u001b[0;31m---------------------------------------------------------------------------\u001b[0m",
      "\u001b[0;31mTypeError\u001b[0m                                 Traceback (most recent call last)",
      "Cell \u001b[0;32mIn[26], line 2\u001b[0m\n\u001b[1;32m      1\u001b[0m set2 \u001b[38;5;241m=\u001b[39m {\u001b[38;5;241m1\u001b[39m,\u001b[38;5;241m2\u001b[39m,\u001b[38;5;241m3\u001b[39m,\u001b[38;5;241m4\u001b[39m}\n\u001b[0;32m----> 2\u001b[0m \u001b[43mset2\u001b[49m\u001b[43m[\u001b[49m\u001b[38;5;241;43m1\u001b[39;49m\u001b[43m]\u001b[49m  \u001b[38;5;66;03m# indexing doesn't work with sets\u001b[39;00m\n",
      "\u001b[0;31mTypeError\u001b[0m: 'set' object is not subscriptable"
     ]
    }
   ],
   "source": [
    "set2 = {1,2,3,4}\n",
    "set2[1]  # indexing doesn't work with sets"
   ]
  },
  {
   "cell_type": "code",
   "execution_count": 27,
   "id": "1f85e81a-fbf1-4ff5-80e3-f8d68635cbfd",
   "metadata": {},
   "outputs": [
    {
     "ename": "TypeError",
     "evalue": "'set' object is not subscriptable",
     "output_type": "error",
     "traceback": [
      "\u001b[0;31m---------------------------------------------------------------------------\u001b[0m",
      "\u001b[0;31mTypeError\u001b[0m                                 Traceback (most recent call last)",
      "Cell \u001b[0;32mIn[27], line 2\u001b[0m\n\u001b[1;32m      1\u001b[0m set2 \u001b[38;5;241m=\u001b[39m {\u001b[38;5;241m1\u001b[39m,\u001b[38;5;241m2\u001b[39m,\u001b[38;5;241m3\u001b[39m,\u001b[38;5;241m4\u001b[39m}\n\u001b[0;32m----> 2\u001b[0m \u001b[43mset2\u001b[49m\u001b[43m[\u001b[49m\u001b[43m:\u001b[49m\u001b[43m:\u001b[49m\u001b[38;5;241;43m-\u001b[39;49m\u001b[38;5;241;43m1\u001b[39;49m\u001b[43m]\u001b[49m\n\u001b[1;32m      3\u001b[0m \u001b[38;5;66;03m# slicing doesn't work with sets\u001b[39;00m\n",
      "\u001b[0;31mTypeError\u001b[0m: 'set' object is not subscriptable"
     ]
    }
   ],
   "source": [
    "set2 = {1,2,3,4}\n",
    "set2[::-1]\n",
    "# slicing doesn't work with sets"
   ]
  },
  {
   "cell_type": "code",
   "execution_count": 33,
   "id": "e034c79e-355b-4566-b9b2-4716335a4d8e",
   "metadata": {},
   "outputs": [
    {
     "name": "stdout",
     "output_type": "stream",
     "text": [
      "1\n",
      "2\n",
      "3\n",
      "4\n"
     ]
    }
   ],
   "source": [
    "set2 = {1,2,3,4}\n",
    "for i in set2:\n",
    "    print(i)  # you can iterate through a set"
   ]
  },
  {
   "cell_type": "code",
   "execution_count": 5,
   "id": "abd5bc45-ea20-4da0-8a75-262d2d6ec70e",
   "metadata": {},
   "outputs": [
    {
     "name": "stdout",
     "output_type": "stream",
     "text": [
      "{1, 2, 3, 4, 34}\n"
     ]
    }
   ],
   "source": [
    "set2 = {1,2,3,4}\n",
    "set2.add(34) # to add elements to the set and update it\n",
    "print(set2)"
   ]
  },
  {
   "cell_type": "code",
   "execution_count": 7,
   "id": "a501f4ab-1f62-45ae-a51a-1a725b4171fd",
   "metadata": {},
   "outputs": [
    {
     "name": "stdout",
     "output_type": "stream",
     "text": [
      "{1, 2, 3, 4, 34}\n"
     ]
    }
   ],
   "source": [
    "set2.add(3)\n",
    "print(set2) # if a set already has the element, specified in add(), it won't add the same element"
   ]
  },
  {
   "cell_type": "code",
   "execution_count": 8,
   "id": "27adc1d2-e360-4d9e-8e85-770f75ee53e0",
   "metadata": {},
   "outputs": [],
   "source": [
    "# SET always tries to maintain a uniqueness of elements"
   ]
  },
  {
   "cell_type": "code",
   "execution_count": 9,
   "id": "ade2f10d-d9ec-4627-af89-882ed41c233a",
   "metadata": {},
   "outputs": [
    {
     "data": {
      "text/plain": [
       "4"
      ]
     },
     "execution_count": 9,
     "metadata": {},
     "output_type": "execute_result"
    }
   ],
   "source": [
    "set2 = {1,2,3,4}\n",
    "len(set2) # counts number of elements in the set"
   ]
  },
  {
   "cell_type": "code",
   "execution_count": 13,
   "id": "7985188f-45ad-486b-b269-cd1094ec11df",
   "metadata": {},
   "outputs": [
    {
     "name": "stdout",
     "output_type": "stream",
     "text": [
      "Removed element = 1\n",
      "Updated set = {2, 3, 4}\n"
     ]
    }
   ],
   "source": [
    "set2 = {1,2,3,4}\n",
    "print(f\"Removed element = {set2.pop()}\") # removes an element from the set and updates it\n",
    "print(f\"Updated set = {set2}\")"
   ]
  },
  {
   "cell_type": "code",
   "execution_count": 14,
   "id": "0409b8f2-7f5e-480a-85ff-5fea81fa2aab",
   "metadata": {},
   "outputs": [
    {
     "name": "stdout",
     "output_type": "stream",
     "text": [
      "set()\n"
     ]
    }
   ],
   "source": [
    "set2 = {1,2,3,4}\n",
    "set2.clear() # removes all elements from the set\n",
    "print(set2)"
   ]
  },
  {
   "cell_type": "code",
   "execution_count": 18,
   "id": "48239046-adde-4651-a40e-a0e6d0f6e60e",
   "metadata": {},
   "outputs": [
    {
     "data": {
      "text/plain": [
       "{4, 6}"
      ]
     },
     "execution_count": 18,
     "metadata": {},
     "output_type": "execute_result"
    }
   ],
   "source": [
    "set2 = {1,2,3,4,6}\n",
    "set3 = {1,2,3,5}\n",
    "set2.difference(set3) # returns the elements present in set2 but missing in set3"
   ]
  },
  {
   "cell_type": "code",
   "execution_count": 19,
   "id": "803f7752-5a0f-4bb9-867d-5e30c62127be",
   "metadata": {},
   "outputs": [
    {
     "data": {
      "text/plain": [
       "{5}"
      ]
     },
     "execution_count": 19,
     "metadata": {},
     "output_type": "execute_result"
    }
   ],
   "source": [
    "set2 = {1,2,3,4,6}\n",
    "set3 = {1,2,3,5}\n",
    "set3.difference(set2) # returns the elements present in set3 but missing in set2"
   ]
  },
  {
   "cell_type": "markdown",
   "id": "ce054fe8-b2b0-4c68-a691-3fac1174fed5",
   "metadata": {},
   "source": [
    "# DICTIONARIES"
   ]
  },
  {
   "cell_type": "code",
   "execution_count": 21,
   "id": "cdc04ab2-ae61-4054-8d38-3b7fee55c157",
   "metadata": {},
   "outputs": [
    {
     "name": "stdout",
     "output_type": "stream",
     "text": [
      "<class 'dict'>\n",
      "{'Name': 'Anshu', 'email': 'xyz@gmail.com', 'Ph No': 1234}\n"
     ]
    }
   ],
   "source": [
    "d = {\"Name\" : \"Anshu\", \"email\" : \"xyz@gmail.com\", \"Ph No\" : 1234}\n",
    "# dictionary contains a key and value (eg. Anshu is the value for the key Name)\n",
    "# key value pair is separated by a comma\n",
    "print(type(d)) # returns the data type\n",
    "print(d)"
   ]
  },
  {
   "cell_type": "code",
   "execution_count": 22,
   "id": "127f2c6a-4983-46a2-8a24-ef06fefb14c1",
   "metadata": {},
   "outputs": [
    {
     "name": "stdout",
     "output_type": "stream",
     "text": [
      "{'Name': 'Anshuman'}\n"
     ]
    }
   ],
   "source": [
    "d2 = {\"Name\" : \"Anshu\", \"Name\" : \"Anshuman\"}\n",
    "# when you use another key with the same name as already used, the key gets updated with the new value\n",
    "print(d2)"
   ]
  },
  {
   "cell_type": "code",
   "execution_count": 29,
   "id": "0c36a873-8e24-4340-a789-41200e6658da",
   "metadata": {},
   "outputs": [],
   "source": [
    "# key/value can be a string, number, decimal, boolean, etc"
   ]
  },
  {
   "cell_type": "code",
   "execution_count": 28,
   "id": "f61dd698-21aa-46bb-b909-28d73cf6ff9f",
   "metadata": {},
   "outputs": [
    {
     "ename": "TypeError",
     "evalue": "unhashable type: 'list'",
     "output_type": "error",
     "traceback": [
      "\u001b[0;31m---------------------------------------------------------------------------\u001b[0m",
      "\u001b[0;31mTypeError\u001b[0m                                 Traceback (most recent call last)",
      "Cell \u001b[0;32mIn[28], line 1\u001b[0m\n\u001b[0;32m----> 1\u001b[0m d \u001b[38;5;241m=\u001b[39m {[\u001b[38;5;241m1\u001b[39m,\u001b[38;5;241m2\u001b[39m,\u001b[38;5;241m3\u001b[39m] : \u001b[38;5;124m\"\u001b[39m\u001b[38;5;124mabc\u001b[39m\u001b[38;5;124m\"\u001b[39m}\n\u001b[1;32m      2\u001b[0m \u001b[38;5;66;03m# key cannot be a list (as list is unhashable)\u001b[39;00m\n\u001b[1;32m      3\u001b[0m \u001b[38;5;28mprint\u001b[39m(d)\n",
      "\u001b[0;31mTypeError\u001b[0m: unhashable type: 'list'"
     ]
    }
   ],
   "source": [
    "d = {[1,2,3] : \"abc\"}\n",
    "# key cannot be a list (as list is unhashable)\n",
    "print(d)"
   ]
  },
  {
   "cell_type": "code",
   "execution_count": 31,
   "id": "c65ac038-98a7-4b1e-a598-0c3661c50538",
   "metadata": {},
   "outputs": [
    {
     "name": "stdout",
     "output_type": "stream",
     "text": [
      "{(1, 2, 3): 'abc'}\n"
     ]
    }
   ],
   "source": [
    "d = {(1,2,3): \"abc\"}\n",
    "# key can be a tuple\n",
    "print(d)"
   ]
  },
  {
   "cell_type": "code",
   "execution_count": 35,
   "id": "03675adc-02de-488b-8e62-c8b7129b5466",
   "metadata": {},
   "outputs": [
    {
     "ename": "TypeError",
     "evalue": "unhashable type: 'set'",
     "output_type": "error",
     "traceback": [
      "\u001b[0;31m---------------------------------------------------------------------------\u001b[0m",
      "\u001b[0;31mTypeError\u001b[0m                                 Traceback (most recent call last)",
      "Cell \u001b[0;32mIn[35], line 1\u001b[0m\n\u001b[0;32m----> 1\u001b[0m d \u001b[38;5;241m=\u001b[39m {{\u001b[38;5;241m1\u001b[39m,\u001b[38;5;241m2\u001b[39m,\u001b[38;5;241m3\u001b[39m}: \u001b[38;5;124m\"\u001b[39m\u001b[38;5;124mabc\u001b[39m\u001b[38;5;124m\"\u001b[39m}\n\u001b[1;32m      2\u001b[0m \u001b[38;5;66;03m# key cannot be a set (as set is unhashable)\u001b[39;00m\n\u001b[1;32m      3\u001b[0m \u001b[38;5;28mprint\u001b[39m(d)\n",
      "\u001b[0;31mTypeError\u001b[0m: unhashable type: 'set'"
     ]
    }
   ],
   "source": [
    "d = {{1,2,3}: \"abc\"}\n",
    "# key cannot be a set (as set is unhashable)\n",
    "print(d)"
   ]
  },
  {
   "cell_type": "code",
   "execution_count": 38,
   "id": "14f660db-0169-49a0-b46d-65d64db135a2",
   "metadata": {},
   "outputs": [
    {
     "ename": "TypeError",
     "evalue": "unhashable type: 'dict'",
     "output_type": "error",
     "traceback": [
      "\u001b[0;31m---------------------------------------------------------------------------\u001b[0m",
      "\u001b[0;31mTypeError\u001b[0m                                 Traceback (most recent call last)",
      "Cell \u001b[0;32mIn[38], line 1\u001b[0m\n\u001b[0;32m----> 1\u001b[0m d \u001b[38;5;241m=\u001b[39m {{\u001b[38;5;124m\"\u001b[39m\u001b[38;5;124mdataset\u001b[39m\u001b[38;5;124m\"\u001b[39m : \u001b[38;5;241m123\u001b[39m} : \u001b[38;5;124m\"\u001b[39m\u001b[38;5;124mabc\u001b[39m\u001b[38;5;124m\"\u001b[39m}\n\u001b[1;32m      2\u001b[0m \u001b[38;5;66;03m# key cannot be a dictionary (as dictionary is unhashable)\u001b[39;00m\n\u001b[1;32m      3\u001b[0m \u001b[38;5;28mprint\u001b[39m(d)\n",
      "\u001b[0;31mTypeError\u001b[0m: unhashable type: 'dict'"
     ]
    }
   ],
   "source": [
    "d = {{\"dataset\" : 123} : \"abc\"}\n",
    "# key cannot be a dictionary (as dictionary is unhashable)\n",
    "print(d)"
   ]
  },
  {
   "cell_type": "code",
   "execution_count": 39,
   "id": "ef87318e-5b41-4091-96e0-2d117949fb1e",
   "metadata": {},
   "outputs": [],
   "source": [
    "# SUMMARIZING -\n",
    "# key can be a tuple\n",
    "# key can NOT be a list, set or dictionary "
   ]
  },
  {
   "cell_type": "code",
   "execution_count": 41,
   "id": "fc5b7444-6c3e-4b58-b3e8-83fb9d73e765",
   "metadata": {},
   "outputs": [
    {
     "name": "stdout",
     "output_type": "stream",
     "text": [
      "{'abc': [1, 2, 3]}\n"
     ]
    }
   ],
   "source": [
    "d = {\"abc\" : [1,2,3]}\n",
    "# however value can be a list\n",
    "print(d)"
   ]
  },
  {
   "cell_type": "code",
   "execution_count": 43,
   "id": "c3a7de09-f5e5-4789-9201-1d57658ce717",
   "metadata": {},
   "outputs": [
    {
     "name": "stdout",
     "output_type": "stream",
     "text": [
      "{'abc': (1, 2, 3)}\n"
     ]
    }
   ],
   "source": [
    "d = {\"abc\" : (1,2,3)}\n",
    "# value can be a tuple\n",
    "print(d)"
   ]
  },
  {
   "cell_type": "code",
   "execution_count": 44,
   "id": "694e3f9b-87ed-49b3-b1a9-0834c99fff9b",
   "metadata": {},
   "outputs": [
    {
     "name": "stdout",
     "output_type": "stream",
     "text": [
      "{'abc': {1, 2, 3}}\n"
     ]
    }
   ],
   "source": [
    "d = {\"abc\" : {1,2,3}}\n",
    "# value can be a set\n",
    "print(d)"
   ]
  },
  {
   "cell_type": "code",
   "execution_count": 61,
   "id": "0117cfae-860f-4339-81d2-e9f8fe28c997",
   "metadata": {},
   "outputs": [
    {
     "name": "stdout",
     "output_type": "stream",
     "text": [
      "{'abc': {'numbers': 123}}\n"
     ]
    }
   ],
   "source": [
    "d = {\"abc\" : {\"numbers\" : 123}}\n",
    "# value can be a dictionary\n",
    "print(d)"
   ]
  },
  {
   "cell_type": "code",
   "execution_count": 47,
   "id": "793bc1ad-f8c1-4cc1-93a1-b8b835e3c142",
   "metadata": {},
   "outputs": [],
   "source": [
    "# SUMMARIZING -\n",
    "# value can be a list, set or dictionary "
   ]
  },
  {
   "cell_type": "code",
   "execution_count": 51,
   "id": "8d25f902-375a-42b5-8c22-c2d906509f05",
   "metadata": {},
   "outputs": [
    {
     "name": "stdout",
     "output_type": "stream",
     "text": [
      "{'Name': 'Anshu', 'email': 'xyz@gmail.com', 'Ph No': 1234, 'Country': 'India'}\n"
     ]
    }
   ],
   "source": [
    "d = {\"Name\" : \"Anshu\", \"email\" : \"xyz@gmail.com\", \"Ph No\" : 1234}\n",
    "d[\"Country\"] = \"India\"  # to add new entry and update the dictionary\n",
    "print(d)"
   ]
  },
  {
   "cell_type": "code",
   "execution_count": 53,
   "id": "b4ac5114-7ab6-42d6-a6c0-07f6c61506ac",
   "metadata": {},
   "outputs": [
    {
     "data": {
      "text/plain": [
       "'Anshu'"
      ]
     },
     "execution_count": 53,
     "metadata": {},
     "output_type": "execute_result"
    }
   ],
   "source": [
    "d = {\"Name\" : \"Anshu\", \"email\" : \"xyz@gmail.com\", \"Ph No\" : 1234}\n",
    "d[\"Name\"]  # returns the value stored with the specified key"
   ]
  },
  {
   "cell_type": "code",
   "execution_count": 54,
   "id": "c0847193-e38f-44be-ad7b-dfb1b1cb24e1",
   "metadata": {},
   "outputs": [
    {
     "data": {
      "text/plain": [
       "'xyz@gmail.com'"
      ]
     },
     "execution_count": 54,
     "metadata": {},
     "output_type": "execute_result"
    }
   ],
   "source": [
    "d[\"email\"]"
   ]
  },
  {
   "cell_type": "code",
   "execution_count": 57,
   "id": "b5242db7-9ca4-4680-9a0d-2cd415d11d99",
   "metadata": {},
   "outputs": [
    {
     "ename": "KeyError",
     "evalue": "'State'",
     "output_type": "error",
     "traceback": [
      "\u001b[0;31m---------------------------------------------------------------------------\u001b[0m",
      "\u001b[0;31mKeyError\u001b[0m                                  Traceback (most recent call last)",
      "Cell \u001b[0;32mIn[57], line 1\u001b[0m\n\u001b[0;32m----> 1\u001b[0m \u001b[43md\u001b[49m\u001b[43m[\u001b[49m\u001b[38;5;124;43m\"\u001b[39;49m\u001b[38;5;124;43mState\u001b[39;49m\u001b[38;5;124;43m\"\u001b[39;49m\u001b[43m]\u001b[49m\n\u001b[1;32m      2\u001b[0m \u001b[38;5;66;03m# produces an error since the specified key is missing in the dictionary\u001b[39;00m\n",
      "\u001b[0;31mKeyError\u001b[0m: 'State'"
     ]
    }
   ],
   "source": [
    "d[\"State\"]\n",
    "# produces an error since the specified key is missing in the dictionary"
   ]
  },
  {
   "cell_type": "code",
   "execution_count": 60,
   "id": "a697bdde-4f14-4937-a8e3-953f0fedf0fb",
   "metadata": {},
   "outputs": [
    {
     "data": {
      "text/plain": [
       "'ANSHU'"
      ]
     },
     "execution_count": 60,
     "metadata": {},
     "output_type": "execute_result"
    }
   ],
   "source": [
    "d[\"Name\"].upper()  # returns the value stored in the key and converts it to Upper Case"
   ]
  },
  {
   "cell_type": "code",
   "execution_count": 64,
   "id": "bfc097f6-d6c8-4ebb-a070-2a7ec14d7812",
   "metadata": {},
   "outputs": [
    {
     "data": {
      "text/plain": [
       "456"
      ]
     },
     "execution_count": 64,
     "metadata": {},
     "output_type": "execute_result"
    }
   ],
   "source": [
    "d = {\"abc\" : {\"num_1\" : 123, \"num_2\" : 456}}\n",
    "d[\"abc\"][\"num_2\"] # accessing value stored in a dictionary within a dictionary"
   ]
  },
  {
   "cell_type": "code",
   "execution_count": 65,
   "id": "521466e2-8a86-4eb7-aef7-f1de963d5e1a",
   "metadata": {},
   "outputs": [
    {
     "name": "stdout",
     "output_type": "stream",
     "text": [
      "{'Name': 'Anshu', 'email': 'xyz@gmail.com'}\n"
     ]
    }
   ],
   "source": [
    "d = {\"Name\" : \"Anshu\", \"email\" : \"xyz@gmail.com\", \"Ph No\" : 1234}\n",
    "del d[\"Ph No\"] # deletes the key value pair and updates it\n",
    "print(d)"
   ]
  },
  {
   "cell_type": "code",
   "execution_count": 66,
   "id": "9e2b5a90-0534-4c9c-8d94-6492e1d488e8",
   "metadata": {},
   "outputs": [
    {
     "name": "stdout",
     "output_type": "stream",
     "text": [
      "{}\n"
     ]
    }
   ],
   "source": [
    "d = {\"Name\" : \"Anshu\", \"email\" : \"xyz@gmail.com\", \"Ph No\" : 1234}\n",
    "d.clear() # clears out the entire dictionary\n",
    "print(d)"
   ]
  },
  {
   "cell_type": "code",
   "execution_count": 68,
   "id": "89b970c7-3a0b-4533-88a1-c16eb7180d0d",
   "metadata": {},
   "outputs": [
    {
     "data": {
      "text/plain": [
       "3"
      ]
     },
     "execution_count": 68,
     "metadata": {},
     "output_type": "execute_result"
    }
   ],
   "source": [
    "d = {\"Name\" : \"Anshu\", \"email\" : \"xyz@gmail.com\", \"Ph No\" : 1234}\n",
    "len (d) # returns no. of key value pairs"
   ]
  },
  {
   "cell_type": "code",
   "execution_count": 69,
   "id": "3d093074-8578-4944-be01-86b19732e05b",
   "metadata": {},
   "outputs": [
    {
     "data": {
      "text/plain": [
       "dict_keys(['Name', 'email', 'Ph No'])"
      ]
     },
     "execution_count": 69,
     "metadata": {},
     "output_type": "execute_result"
    }
   ],
   "source": [
    "d = {\"Name\" : \"Anshu\", \"email\" : \"xyz@gmail.com\", \"Ph No\" : 1234}\n",
    "d.keys()  # to return available values keys"
   ]
  },
  {
   "cell_type": "code",
   "execution_count": 70,
   "id": "836353ad-6096-4a8b-b900-291f12ab7f16",
   "metadata": {},
   "outputs": [
    {
     "data": {
      "text/plain": [
       "dict_values(['Anshu', 'xyz@gmail.com', 1234])"
      ]
     },
     "execution_count": 70,
     "metadata": {},
     "output_type": "execute_result"
    }
   ],
   "source": [
    "d.values()  # to return avaialble values"
   ]
  },
  {
   "cell_type": "code",
   "execution_count": 72,
   "id": "d7a5ecd1-3211-4e79-bfc2-43b7163ba76a",
   "metadata": {},
   "outputs": [
    {
     "data": {
      "text/plain": [
       "['Anshu', 'xyz@gmail.com', 1234]"
      ]
     },
     "execution_count": 72,
     "metadata": {},
     "output_type": "execute_result"
    }
   ],
   "source": [
    "list(d.values())  # to return values in a list"
   ]
  },
  {
   "cell_type": "code",
   "execution_count": 73,
   "id": "7d8f4d61-470f-403c-a566-6d136ee74cff",
   "metadata": {},
   "outputs": [
    {
     "data": {
      "text/plain": [
       "['Name', 'email', 'Ph No']"
      ]
     },
     "execution_count": 73,
     "metadata": {},
     "output_type": "execute_result"
    }
   ],
   "source": [
    "list(d.keys())  # to return keys in a list"
   ]
  },
  {
   "cell_type": "code",
   "execution_count": 75,
   "id": "d4a47d89-da27-401d-8ff8-46381503a2d8",
   "metadata": {},
   "outputs": [
    {
     "data": {
      "text/plain": [
       "dict_items([('Name', 'Anshu'), ('email', 'xyz@gmail.com'), ('Ph No', 1234)])"
      ]
     },
     "execution_count": 75,
     "metadata": {},
     "output_type": "execute_result"
    }
   ],
   "source": [
    "d.items() # returns key value pairs"
   ]
  },
  {
   "cell_type": "code",
   "execution_count": 77,
   "id": "65c2f5ae-f8c2-4a0e-8592-27173647a67a",
   "metadata": {},
   "outputs": [
    {
     "name": "stdout",
     "output_type": "stream",
     "text": [
      "{'Name': 'Anshu', 'email': 'xyz@gmail.com', 'Ph No': 1234}\n"
     ]
    }
   ],
   "source": [
    "d = {\"Name\" : \"Anshu\", \"email\" : \"xyz@gmail.com\", \"Ph No\" : 1234}\n",
    "d1 = d.copy()  # copies data (deep copy)\n",
    "print(d1)"
   ]
  },
  {
   "cell_type": "code",
   "execution_count": 79,
   "id": "3e77519e-cf74-475a-94d3-8e27b51cdeed",
   "metadata": {},
   "outputs": [
    {
     "name": "stdout",
     "output_type": "stream",
     "text": [
      "{'Name': 'Anshu', 'email': 'xyz@gmail.com', 'Ph No': 1234}\n"
     ]
    }
   ],
   "source": [
    "d = {\"Name\" : \"Anshu\", \"email\" : \"xyz@gmail.com\", \"Ph No\" : 1234}\n",
    "d1 = d.copy()  # copies data (but not deep copy)\n",
    "print(d1)"
   ]
  },
  {
   "cell_type": "code",
   "execution_count": 83,
   "id": "633fd4d3-7d76-4ee1-9f28-4e3b9af9c911",
   "metadata": {},
   "outputs": [
    {
     "name": "stdout",
     "output_type": "stream",
     "text": [
      "{'Name': 'Anshu', 'email': 'xyz@gmail.com', 'Ph No': 1234}\n",
      "{'Name': 'Anshu', 'email': 'xyz@gmail.com'}\n"
     ]
    }
   ],
   "source": [
    "# Difference between deep copy and shallow copy\n",
    "\n",
    "data = {\"Name\" : \"Anshu\", \"email\" : \"xyz@gmail.com\", \"Ph No\" : 1234}\n",
    "data_copy = data.copy() # deep copy (does not get affected even if original data is changed)\n",
    "data_copy2 = data  # shallow copy (gets affected if original data is changed)\n",
    "\n",
    "del data[\"Ph No\"]\n",
    "print(data_copy)  \n",
    "print(data_copy2)  # since original data is changed, it will return the changed data"
   ]
  },
  {
   "cell_type": "code",
   "execution_count": 82,
   "id": "c5ef1bf2-f9a0-45a3-9460-4eb9a8dfe1b4",
   "metadata": {},
   "outputs": [],
   "source": [
    "# Deep copy reserves a new space hence it doesn't get affected even when the original data is modified later"
   ]
  },
  {
   "cell_type": "code",
   "execution_count": 84,
   "id": "7934d1ad-cadd-4450-b2fd-3220ceb9eca1",
   "metadata": {},
   "outputs": [
    {
     "data": {
      "text/plain": [
       "'xyz@gmail.com'"
      ]
     },
     "execution_count": 84,
     "metadata": {},
     "output_type": "execute_result"
    }
   ],
   "source": [
    "data = {\"Name\" : \"Anshu\", \"email\" : \"xyz@gmail.com\", \"Ph No\" : 1234}\n",
    "data.pop(\"email\")  # removes specified key and return the corresponding value"
   ]
  },
  {
   "cell_type": "code",
   "execution_count": 85,
   "id": "d4fdea07-c79f-4d3c-b633-8f824e6d7703",
   "metadata": {},
   "outputs": [
    {
     "name": "stdout",
     "output_type": "stream",
     "text": [
      "{'Name': 'Anshu', 'Ph No': 1234}\n"
     ]
    }
   ],
   "source": [
    "print(data)"
   ]
  },
  {
   "cell_type": "code",
   "execution_count": 90,
   "id": "5b63a34d-0bb6-4870-9ef3-a2fbbff8c35d",
   "metadata": {},
   "outputs": [
    {
     "data": {
      "text/plain": [
       "{1: ('a', 'b', 'c'), 2: ('a', 'b', 'c'), 3: ('a', 'b', 'c')}"
      ]
     },
     "execution_count": 90,
     "metadata": {},
     "output_type": "execute_result"
    }
   ],
   "source": [
    "data.fromkeys((1,2,3) , (\"a\",\"b\",\"c\")) # Creates a new dictionary with keys from iterable and values set to value"
   ]
  },
  {
   "cell_type": "code",
   "execution_count": 91,
   "id": "9d64716d-4d09-41c2-a26c-e6dcdd4b8c76",
   "metadata": {},
   "outputs": [
    {
     "name": "stdout",
     "output_type": "stream",
     "text": [
      "({'Name': 'Anshu', 'email': 'xyz@gmail.com'}, {'Ph No': 1234, 'Country': 'India'})\n"
     ]
    }
   ],
   "source": [
    "data1 = {\"Name\" : \"Anshu\", \"email\" : \"xyz@gmail.com\"}\n",
    "data2 = {\"Ph No\" : 1234, \"Country\" : \"India\"}\n",
    "print((data1,data2))  # dictionaries can be placed inside a Tuple"
   ]
  },
  {
   "cell_type": "code",
   "execution_count": 92,
   "id": "bc0b54cd-11e0-42bb-91e7-7afcceaf398d",
   "metadata": {},
   "outputs": [
    {
     "name": "stdout",
     "output_type": "stream",
     "text": [
      "{'Name': 'Anshu', 'email': 'xyz@gmail.com', 'Ph No': 1234, 'Country': 'India'}\n",
      "{'Ph No': 1234, 'Country': 'India'}\n"
     ]
    }
   ],
   "source": [
    "data1 = {\"Name\" : \"Anshu\", \"email\" : \"xyz@gmail.com\"}\n",
    "data2 = {\"Ph No\" : 1234, \"Country\" : \"India\"}\n",
    "data1.update(data2)  # updates data1 by adding entries from data2\n",
    "print(data1)\n",
    "print(data2)"
   ]
  },
  {
   "cell_type": "code",
   "execution_count": 94,
   "id": "c11297a0-28ad-4a02-a0b9-46bbb4cb8587",
   "metadata": {},
   "outputs": [
    {
     "data": {
      "text/plain": [
       "'xyz@gmail.com'"
      ]
     },
     "execution_count": 94,
     "metadata": {},
     "output_type": "execute_result"
    }
   ],
   "source": [
    "data = {'Name': 'Anshu', 'email': 'xyz@gmail.com', 'Ph No': 1234, 'Country': 'India'}\n",
    "data.get(\"email\")  # returns value of the specified key"
   ]
  },
  {
   "cell_type": "markdown",
   "id": "1502c9e7-6cd9-488b-a2f2-62e71039b075",
   "metadata": {},
   "source": [
    "# DICTIONARY COMPREHENSIONS"
   ]
  },
  {
   "cell_type": "code",
   "execution_count": 99,
   "id": "ffac109b-c6dd-41be-9ad8-33ed3362903b",
   "metadata": {},
   "outputs": [
    {
     "data": {
      "text/plain": [
       "{1: 1, 2: 4, 3: 9, 4: 16, 5: 25, 6: 36, 7: 49, 8: 64, 9: 81, 10: 100}"
      ]
     },
     "execution_count": 99,
     "metadata": {},
     "output_type": "execute_result"
    }
   ],
   "source": [
    "# Lets create a dictionary having keys 1 to 10 and values as the square of keys\n",
    "\n",
    "{k : k**2 for k in range(1,11)}"
   ]
  },
  {
   "cell_type": "code",
   "execution_count": 100,
   "id": "2ce89e56-6169-40e2-afb8-c3b4fcf6248a",
   "metadata": {},
   "outputs": [
    {
     "data": {
      "text/plain": [
       "{1: 0.0,\n",
       " 2: 0.3010299956639812,\n",
       " 3: 0.47712125471966244,\n",
       " 4: 0.6020599913279624,\n",
       " 5: 0.6989700043360189,\n",
       " 6: 0.7781512503836436,\n",
       " 7: 0.8450980400142568,\n",
       " 8: 0.9030899869919435,\n",
       " 9: 0.9542425094393249,\n",
       " 10: 1.0}"
      ]
     },
     "execution_count": 100,
     "metadata": {},
     "output_type": "execute_result"
    }
   ],
   "source": [
    "# Create a dictionary having keys 1 to 10 and values as log of keys\n",
    "\n",
    "import math\n",
    "{k : math.log10(k) for k in range(1,11)}"
   ]
  },
  {
   "cell_type": "code",
   "execution_count": 103,
   "id": "5b5a2a83-6c1e-4065-ae45-5d855ef04e4e",
   "metadata": {},
   "outputs": [
    {
     "data": {
      "text/plain": [
       "True"
      ]
     },
     "execution_count": 103,
     "metadata": {},
     "output_type": "execute_result"
    }
   ],
   "source": [
    "data = {'Name': 'Anshu', 'email': 'xyz@gmail.com', 'Ph No': 1234, 'Country': 'India'}\n",
    "\"Name\" in data  # checks if the key is present in the dictionary"
   ]
  },
  {
   "cell_type": "code",
   "execution_count": 106,
   "id": "68e7089d-a08b-47aa-8ccb-e5b20771f903",
   "metadata": {},
   "outputs": [
    {
     "name": "stdout",
     "output_type": "stream",
     "text": [
      "0.3010299956639812\n",
      "0.6020599913279624\n",
      "0.7781512503836436\n",
      "0.9030899869919435\n",
      "1.0\n"
     ]
    }
   ],
   "source": [
    "'''\n",
    "Given Data = \n",
    " 1: 0.0,\n",
    " 2: 0.3010299956639812,\n",
    " 3: 0.47712125471966244,\n",
    " 4: 0.6020599913279624,\n",
    " 5: 0.6989700043360189,\n",
    " 6: 0.7781512503836436,\n",
    " 7: 0.8450980400142568,\n",
    " 8: 0.9030899869919435,\n",
    " 9: 0.9542425094393249,\n",
    " 10: 1.0\n",
    "\n",
    "Filter out those values whose keys are in even\n",
    "'''\n",
    "\n",
    "data = {1: 0.0, 2: 0.3010299956639812, 3: 0.47712125471966244, 4: 0.6020599913279624, 5: 0.6989700043360189, 6: 0.7781512503836436, 7: 0.8450980400142568, 8: 0.9030899869919435, 9: 0.9542425094393249, 10: 1.0}\n",
    "for i in data.keys():\n",
    "    if i % 2 == 0:\n",
    "        print(data[i])"
   ]
  }
 ],
 "metadata": {
  "kernelspec": {
   "display_name": "Python 3 (ipykernel)",
   "language": "python",
   "name": "python3"
  },
  "language_info": {
   "codemirror_mode": {
    "name": "ipython",
    "version": 3
   },
   "file_extension": ".py",
   "mimetype": "text/x-python",
   "name": "python",
   "nbconvert_exporter": "python",
   "pygments_lexer": "ipython3",
   "version": "3.10.8"
  }
 },
 "nbformat": 4,
 "nbformat_minor": 5
}
