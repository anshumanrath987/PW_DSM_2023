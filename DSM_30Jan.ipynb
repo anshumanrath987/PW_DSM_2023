{
 "cells": [
  {
   "cell_type": "markdown",
   "id": "b959102a-a79f-4c9d-80db-401e106b4d56",
   "metadata": {
    "tags": []
   },
   "source": [
    "# DSM Class 30th Jan, 2023\n",
    "## Quick Coding Notes\n",
    "### Written by: Anshuman Rath"
   ]
  },
  {
   "cell_type": "code",
   "execution_count": 1,
   "id": "77ecb037-8ee6-4ac5-956d-500f41a64551",
   "metadata": {},
   "outputs": [
    {
     "data": {
      "text/plain": [
       "str"
      ]
     },
     "execution_count": 1,
     "metadata": {},
     "output_type": "execute_result"
    }
   ],
   "source": [
    "'''\n",
    "Dynamic Typing -\n",
    "Dynamic typing means that the type of the variable is determined only during runtime.\n",
    "You don't need to define data type, it is defined automatically by Compiler\n",
    "'''\n",
    "\n",
    "# Characters are stored as strings (str) in Python\n",
    "type ('a')"
   ]
  },
  {
   "cell_type": "markdown",
   "id": "109c3ae0-c8b1-409a-bf68-ff10fd3d8185",
   "metadata": {},
   "source": [
    "## PRINT FUNCTION"
   ]
  },
  {
   "cell_type": "code",
   "execution_count": 6,
   "id": "90fff7cb-bcf1-4845-9a69-9cce20c351f8",
   "metadata": {},
   "outputs": [
    {
     "name": "stdout",
     "output_type": "stream",
     "text": [
      "Hello World\n",
      "Hello World\n",
      "123\n"
     ]
    }
   ],
   "source": [
    "'''\n",
    "Print Statement - \n",
    "Prints the values to a stream, or to sys.stdout by default\n",
    "sys.stdout → output console\n",
    "'''\n",
    "\n",
    "print('Hello World')   # string can be enclosed within single quotes\n",
    "print(\"Hello World\") # string can also be enclosed within double quotes\n",
    "print(123) # numbers need not be enclosed within quotes "
   ]
  },
  {
   "cell_type": "code",
   "execution_count": 11,
   "id": "fe3dee1f-90d4-4e7e-8b98-6e6dc5f78f2b",
   "metadata": {},
   "outputs": [
    {
     "name": "stdout",
     "output_type": "stream",
     "text": [
      "My age is: 23\n"
     ]
    }
   ],
   "source": [
    "age = 23\n",
    "print(\"My age is:\",age)"
   ]
  },
  {
   "cell_type": "code",
   "execution_count": 4,
   "id": "27df17cd-e897-49e5-970b-a4bdb43baf3e",
   "metadata": {},
   "outputs": [
    {
     "name": "stdout",
     "output_type": "stream",
     "text": [
      "My age is: {age}\n"
     ]
    }
   ],
   "source": [
    "print(\"My age is: {age}\")   # {age} is considered as a part of string"
   ]
  },
  {
   "cell_type": "code",
   "execution_count": 9,
   "id": "6eae2173-de25-47ff-b8f8-6af82c2fa5a5",
   "metadata": {},
   "outputs": [
    {
     "name": "stdout",
     "output_type": "stream",
     "text": [
      "My age is: 24\n"
     ]
    }
   ],
   "source": [
    "# f string\n",
    "print(f\"My age is: {age}\")   \n",
    "# f is used for formatting purpose and the value stored in age is printed"
   ]
  },
  {
   "cell_type": "code",
   "execution_count": 10,
   "id": "85ec3180-2d8b-4d5a-bf6e-fd6b781669fb",
   "metadata": {},
   "outputs": [],
   "source": [
    "# In python indexing starts from 0\n",
    "# In R indexing starts from 1"
   ]
  },
  {
   "cell_type": "markdown",
   "id": "c70274eb-f8d0-404d-a80b-d66b110cab54",
   "metadata": {},
   "source": [
    "### FORMAT"
   ]
  },
  {
   "cell_type": "code",
   "execution_count": 15,
   "id": "601b0428-f8fc-4b7d-8ba7-0034bac72829",
   "metadata": {},
   "outputs": [
    {
     "name": "stdout",
     "output_type": "stream",
     "text": [
      "My age is Anshuman and age is 23\n",
      "My name is 23 and age is Anshuman\n"
     ]
    }
   ],
   "source": [
    "# format relaces angular braces with values stored in variables given as input (in sequential manner)\n",
    "name = \"Anshuman\"\n",
    "age = 23\n",
    "print(\"My age is {} and age is {}\".format(name,age))\n",
    "print(\"My name is {} and age is {}\".format(age,name)) #since age is given as input first, value stored in age replaces the first angular brace followed by name"
   ]
  },
  {
   "cell_type": "code",
   "execution_count": 17,
   "id": "b188dee2-6179-4ef9-8bfa-9392c79e7ff0",
   "metadata": {},
   "outputs": [
    {
     "name": "stdout",
     "output_type": "stream",
     "text": [
      "My name is Anshuman and age is 23\n",
      "My name is Anshuman and age is 23\n"
     ]
    }
   ],
   "source": [
    "# Placeholders\n",
    "\n",
    "print(\"My name is {fname} and age is {fage}\".format(fname=name,fage=age))\n",
    "print(\"My name is {fname} and age is {fage}\".format(fage=age,fname=name)) #sequencing isn't followed here as we have declared variables within braces"
   ]
  },
  {
   "cell_type": "code",
   "execution_count": 19,
   "id": "cfcc5cbb-3fa9-40b9-9412-dcc0b602df9e",
   "metadata": {},
   "outputs": [
    {
     "name": "stdout",
     "output_type": "stream",
     "text": [
      "My age is 23 and I am pursuing MBBS with the name of Anshuman\n",
      "My age is 23 and I am pursuing MBBS with the name of Anshuman\n"
     ]
    }
   ],
   "source": [
    "name = \"Anshuman\"\n",
    "age = 23\n",
    "degree = \"MBBS\"\n",
    "\n",
    "# Output should be - My age is 23 and I am pursuing MBBS with the name of Anshuman\n",
    "\n",
    "# Answer -->\n",
    "# Using f format -->\n",
    "print(f\"My age is {age} and I am pursuing {degree} with the name of {name}\")\n",
    "\n",
    "# Using placeholders -->\n",
    "print(\"My age is {fage} and I am pursuing {fdegree} with the name of {fname}\".format(fname=name,fage=age,fdegree=degree))"
   ]
  },
  {
   "cell_type": "markdown",
   "id": "36f4dad1-9230-4d48-a16c-f79df1de3bee",
   "metadata": {},
   "source": [
    "# DECISION MAKING STATEMENTS"
   ]
  },
  {
   "cell_type": "markdown",
   "id": "670cf94a-d5a7-47be-9c1f-3eb362511cbb",
   "metadata": {},
   "source": [
    "## if Statements"
   ]
  },
  {
   "cell_type": "code",
   "execution_count": 20,
   "id": "35a5abf4-d6c7-44c2-b2bd-9baeff688430",
   "metadata": {},
   "outputs": [
    {
     "name": "stdout",
     "output_type": "stream",
     "text": [
      "You are eligible to vote\n"
     ]
    }
   ],
   "source": [
    "age = 18\n",
    "if age>=18:\n",
    "    print(\"You are eligible to vote\")"
   ]
  },
  {
   "cell_type": "code",
   "execution_count": 21,
   "id": "55e25f6b-8970-4bf3-9bb8-a37c4a4ad26a",
   "metadata": {},
   "outputs": [],
   "source": [
    "age = 18\n",
    "if age<18:\n",
    "    print(\"You are eligible to vote\")\n",
    "# nothing will be printed (as condition isn't satisfied)"
   ]
  },
  {
   "cell_type": "code",
   "execution_count": 22,
   "id": "81f4a196-2d2a-4ec7-954f-f8e3f66a58ad",
   "metadata": {},
   "outputs": [
    {
     "name": "stdin",
     "output_type": "stream",
     "text": [
      " Anshuman Rath\n"
     ]
    },
    {
     "data": {
      "text/plain": [
       "'Anshuman Rath'"
      ]
     },
     "execution_count": 22,
     "metadata": {},
     "output_type": "execute_result"
    }
   ],
   "source": [
    "# Giving input during runtime\n",
    "input() # displays a prompt in runtime where you will need to input"
   ]
  },
  {
   "cell_type": "code",
   "execution_count": 24,
   "id": "001027e4-696f-4c12-8a1d-5f70dc73c2e8",
   "metadata": {},
   "outputs": [
    {
     "name": "stdin",
     "output_type": "stream",
     "text": [
      "Enter your name Anshuman\n",
      "Enter your age 23\n"
     ]
    },
    {
     "name": "stdout",
     "output_type": "stream",
     "text": [
      "Your name is Anshuman and your age is 23\n"
     ]
    }
   ],
   "source": [
    "# default data type of input = string\n",
    "name = input(\"Enter your name\")\n",
    "age = int(input(\"Enter your age\")) # typecasting (to convert string to int)\n",
    "print (f\"Your name is {name} and your age is {age}\")"
   ]
  },
  {
   "cell_type": "code",
   "execution_count": 26,
   "id": "a15f3bd3-b06d-4b55-a216-c6d698d3e6cc",
   "metadata": {},
   "outputs": [
    {
     "name": "stdin",
     "output_type": "stream",
     "text": [
      "Enter you age: 23\n"
     ]
    },
    {
     "name": "stdout",
     "output_type": "stream",
     "text": [
      "Young Blood\n"
     ]
    }
   ],
   "source": [
    "'''\n",
    "Task - Take input of age\n",
    "if age >= 18 and age <= 45, display message \"Young Blood\"\n",
    "'''\n",
    "# Answer ->\n",
    "age = int(input(\"Enter you age:\"))\n",
    "if age >=18 and age <=45:\n",
    "    print(\"Young Blood\")"
   ]
  },
  {
   "cell_type": "markdown",
   "id": "82e97aed-a597-435a-bd70-a3532bed90ed",
   "metadata": {},
   "source": [
    "## if else statement"
   ]
  },
  {
   "cell_type": "code",
   "execution_count": 27,
   "id": "ec1653c6-99fa-4a4e-897b-a26b8a77abff",
   "metadata": {},
   "outputs": [
    {
     "name": "stdin",
     "output_type": "stream",
     "text": [
      "Enter you age: 23\n"
     ]
    },
    {
     "name": "stdout",
     "output_type": "stream",
     "text": [
      "You are young blood\n"
     ]
    }
   ],
   "source": [
    "age = int(input(\"Enter you age:\"))\n",
    "if age >=18 and age <=45:\n",
    "    print(\"You are young blood\")\n",
    "else:\n",
    "    print(\"Thank you, we will let you know\")"
   ]
  },
  {
   "cell_type": "code",
   "execution_count": 28,
   "id": "fdb09d8c-42e4-489f-8d4d-e77a18b899ee",
   "metadata": {},
   "outputs": [
    {
     "name": "stdin",
     "output_type": "stream",
     "text": [
      "Enter you age: 50\n"
     ]
    },
    {
     "name": "stdout",
     "output_type": "stream",
     "text": [
      "Thank you, we will let you know\n"
     ]
    }
   ],
   "source": [
    "age = int(input(\"Enter you age:\"))\n",
    "if age >=18 and age <=45:\n",
    "    print(\"You are young blood\")\n",
    "else:\n",
    "    print(\"Thank you, we will let you know\")"
   ]
  },
  {
   "cell_type": "code",
   "execution_count": 37,
   "id": "d2750f1b-3c52-485d-af63-38a74a6d2050",
   "metadata": {},
   "outputs": [
    {
     "name": "stdin",
     "output_type": "stream",
     "text": [
      "Enter product price: 2000\n"
     ]
    },
    {
     "name": "stdout",
     "output_type": "stream",
     "text": [
      "The final product price is Rs. 1600.0\n"
     ]
    }
   ],
   "source": [
    "'''\n",
    "Input product price\n",
    "If product price > 1000 - 20% off\n",
    "If product price <= 1000 - 10% off\n",
    "Print final product price\n",
    "'''\n",
    "# Answer ->\n",
    "prod_price = int(input(\"Enter product price:\"))\n",
    "if prod_price > 1000:\n",
    "    print(\"The final product price is Rs. {}\".format(prod_price*0.80))\n",
    "else:\n",
    "    print(\"The final product price is Rs. {}\".format(prod_price*0.90))"
   ]
  },
  {
   "cell_type": "markdown",
   "id": "e3c54561-6068-46b0-869b-c13c6d1c7bfd",
   "metadata": {},
   "source": [
    "## if elif"
   ]
  },
  {
   "cell_type": "code",
   "execution_count": 47,
   "id": "57c4c73d-8434-45dc-a10c-7e5cf83de3c7",
   "metadata": {},
   "outputs": [
    {
     "name": "stdin",
     "output_type": "stream",
     "text": [
      "Enter product price: 3600\n"
     ]
    },
    {
     "name": "stdout",
     "output_type": "stream",
     "text": [
      "The final product price is Rs. 2880.0\n"
     ]
    }
   ],
   "source": [
    "'''\n",
    "Input product price\n",
    "product price > 3000 - 20% off\n",
    "product price >= 2000 and <=3000 - 30% off\n",
    "product price <2000 - 40% off \n",
    "Print final product price\n",
    "'''\n",
    "\n",
    "# Answer ->\n",
    "prod_price = int(input(\"Enter product price:\"))\n",
    "if prod_price > 3000:\n",
    "    print(\"The final product price is Rs. {}\".format(prod_price*0.80))\n",
    "elif prod_price >=2000 and prod_price <=3000:\n",
    "    print(\"The final product price is Rs. {}\".format(prod_price*0.70))\n",
    "else:\n",
    "    print(\"The final product price is Rs. {}\".format(prod_price*0.60))\n",
    "    \n",
    "\n",
    "# Python will evaluate all three if statements to determine if they are true. \n",
    "# Once a condition in the if elif else statement is true, Python stop evaluating the other conditions. \n",
    "# Because of this, if elif else is faster than three if statements."
   ]
  },
  {
   "cell_type": "code",
   "execution_count": null,
   "id": "f5ca68d0-e75f-47ee-add1-5d9156cc28b5",
   "metadata": {},
   "outputs": [],
   "source": [
    "## Nested If\n",
    "\n",
    "'''\n",
    "Input product price\n",
    "product price > 3000 - 20% off\n",
    "product price = 4000 - Goa Trip\n",
    "product price >= 2000 and <=3000 - 30% off\n",
    "product price <2000 - 40% off \n",
    "Print final product price\n",
    "'''\n",
    "# Answer ->\n",
    "prod_price = int(input(\"Enter product price:\"))\n",
    "if prod_price > 3000:\n",
    "    if prod_price == 4000:  # nested if\n",
    "        print(\"Congratulations for winning a trip to Goa\")\n",
    "    print(\"The final product price is Rs. {}\".format(prod_price*0.80))\n",
    "elif prod_price >=2000 and prod_price <=3000:\n",
    "    print(\"The final product price is Rs. {}\".format(prod_price*0.70))\n",
    "else:\n",
    "    print(\"The final product price is Rs. {}\".format(prod_price*0.60))"
   ]
  },
  {
   "cell_type": "code",
   "execution_count": 51,
   "id": "75a80b2b-f575-42d0-a7d6-296909b60ed0",
   "metadata": {},
   "outputs": [
    {
     "name": "stdin",
     "output_type": "stream",
     "text": [
      "Enter a value: 676\n"
     ]
    },
    {
     "name": "stdout",
     "output_type": "stream",
     "text": [
      "Value is less than 999\n"
     ]
    }
   ],
   "source": [
    "## Single statement suites - if can be used in single line'\n",
    "val = int(input(\"Enter a value:\"))\n",
    "if(val<999):print(\"Value is less than 999\")"
   ]
  },
  {
   "cell_type": "markdown",
   "id": "09269fc3-630d-432d-9f66-2f58707ae5c7",
   "metadata": {},
   "source": [
    "## WHILE LOOP"
   ]
  },
  {
   "cell_type": "code",
   "execution_count": 56,
   "id": "f68a015b-1033-4c5b-9ca8-b2f02f9cf4f0",
   "metadata": {},
   "outputs": [
    {
     "name": "stdout",
     "output_type": "stream",
     "text": [
      "52\n",
      "53\n",
      "54\n",
      "55\n",
      "56\n",
      "57\n",
      "58\n",
      "59\n",
      "60\n",
      "It's time to retire\n"
     ]
    }
   ],
   "source": [
    "joining_age = 52\n",
    "while joining_age<=60:\n",
    "    print(joining_age)\n",
    "    joining_age=joining_age+1\n",
    "else:\n",
    "    print(\"It's time to retire\")"
   ]
  },
  {
   "cell_type": "code",
   "execution_count": 58,
   "id": "d4962f20-dafc-4dcf-81c7-2ca2779c3ae8",
   "metadata": {},
   "outputs": [
    {
     "name": "stdout",
     "output_type": "stream",
     "text": [
      "900\n",
      "800\n",
      "700\n",
      "600\n",
      "500\n",
      "400\n",
      "300\n",
      "200\n",
      "100\n",
      "0\n",
      "ATM Machine needs to be refilled now\n"
     ]
    }
   ],
   "source": [
    "# ATM Machine has Rs. 1000\n",
    "# You withdraw Rs. 100 everytime\n",
    "# Update and print remaining balances\n",
    "\n",
    "total_amt = 1000\n",
    "while total_amt != 0:\n",
    "    total_amt = total_amt-100\n",
    "    print(total_amt)\n",
    "else:\n",
    "    print(\"ATM Machine needs to be refilled now\")"
   ]
  },
  {
   "cell_type": "markdown",
   "id": "6d196568-4677-4f7a-901f-94c2c8717956",
   "metadata": {},
   "source": [
    "### LISTS"
   ]
  },
  {
   "cell_type": "code",
   "execution_count": 62,
   "id": "95e86f6e-33b5-4177-853b-33e5021a6708",
   "metadata": {},
   "outputs": [
    {
     "data": {
      "text/plain": [
       "list"
      ]
     },
     "execution_count": 62,
     "metadata": {},
     "output_type": "execute_result"
    }
   ],
   "source": [
    "lst = [\"car\",\"bus\",1,2,3] # lists are enclosed within square brackets\n",
    "type (lst) # to check data type of lst"
   ]
  },
  {
   "cell_type": "code",
   "execution_count": 63,
   "id": "8405f6b3-9e1c-4015-a98b-ee36c92388bc",
   "metadata": {},
   "outputs": [
    {
     "name": "stdout",
     "output_type": "stream",
     "text": [
      "['car', 'bus', 1, 2, 3]\n"
     ]
    }
   ],
   "source": [
    "print (lst) # to print elements inside a list"
   ]
  },
  {
   "cell_type": "markdown",
   "id": "85533817-4c35-4a98-ad1d-1276c2d98384",
   "metadata": {},
   "source": [
    "## FOR LOOP"
   ]
  },
  {
   "cell_type": "code",
   "execution_count": 64,
   "id": "351feb62-becd-47f9-bca3-2570c50485dd",
   "metadata": {},
   "outputs": [
    {
     "name": "stdout",
     "output_type": "stream",
     "text": [
      "car\n",
      "bus\n",
      "1\n",
      "2\n",
      "3\n"
     ]
    }
   ],
   "source": [
    "for x in lst: # iterating through the collection (elements in the list)\n",
    "    print(x)"
   ]
  },
  {
   "cell_type": "code",
   "execution_count": 65,
   "id": "7b9c951a-fbe5-4771-9477-626eeab8c352",
   "metadata": {},
   "outputs": [
    {
     "name": "stdout",
     "output_type": "stream",
     "text": [
      "Mango\n",
      "Apple\n",
      "Cherry\n",
      "You have reached at Cherry\n",
      "Banana\n"
     ]
    }
   ],
   "source": [
    "fruits = [\"Mango\",\"Apple\",\"Cherry\",\"Banana\"]\n",
    "for a in fruits:\n",
    "    print(a)\n",
    "    if a == \"Cherry\":\n",
    "        print(\"You have reached at Cherry\")"
   ]
  },
  {
   "cell_type": "code",
   "execution_count": 66,
   "id": "825c9558-c037-45aa-ac31-711f25c9b77a",
   "metadata": {},
   "outputs": [
    {
     "name": "stdout",
     "output_type": "stream",
     "text": [
      "m\n",
      "a\n",
      "n\n",
      "g\n",
      "o\n"
     ]
    }
   ],
   "source": [
    "fruit = 'mango' # String = a list of characters\n",
    "for x in fruit:\n",
    "    print(x) # prints characters present in the string"
   ]
  },
  {
   "cell_type": "code",
   "execution_count": 67,
   "id": "12ed5ae1-1c93-4e2c-b3ec-b951c6dcfdaf",
   "metadata": {},
   "outputs": [
    {
     "data": {
      "text/plain": [
       "'n'"
      ]
     },
     "execution_count": 67,
     "metadata": {},
     "output_type": "execute_result"
    }
   ],
   "source": [
    "fruit = 'mango'\n",
    "fruit[2] # character present in the 2nd index position of fruit"
   ]
  },
  {
   "cell_type": "code",
   "execution_count": 70,
   "id": "976ca199-20d3-4466-8484-46a1641b260f",
   "metadata": {},
   "outputs": [
    {
     "name": "stdout",
     "output_type": "stream",
     "text": [
      "m\n",
      "a\n",
      "n\n",
      "g\n",
      "o\n"
     ]
    }
   ],
   "source": [
    "fruit = 'mango'\n",
    "print(fruit [0])\n",
    "print(fruit [1])\n",
    "print(fruit [2])\n",
    "print(fruit [3])\n",
    "print(fruit [4])\n",
    "# Indexing starts from 0\n",
    "# 0th index = m\n",
    "# 1st index = a\n",
    "# 2nd index = n\n",
    "# 3rd index = g\n",
    "# 4th index = 0"
   ]
  },
  {
   "cell_type": "markdown",
   "id": "d0d8d0bb-e21b-44e5-8178-7dbbe332270e",
   "metadata": {},
   "source": [
    "## NESTED LOOPS"
   ]
  },
  {
   "cell_type": "code",
   "execution_count": 72,
   "id": "6f58b056-3977-4d89-ad8d-b80ef8db2652",
   "metadata": {},
   "outputs": [
    {
     "name": "stdout",
     "output_type": "stream",
     "text": [
      "1\n",
      "3\n",
      "5\n"
     ]
    }
   ],
   "source": [
    "# range() - Return an object that produces a sequence of integers from start (inclusive) to stop (exclusive) by step\n",
    "for i in range(1,6,2):\n",
    "    print(i)\n",
    "# includes 1\n",
    "# excludes 6 (goes till 6-1)\n",
    "# jumps (steps) by 2"
   ]
  },
  {
   "cell_type": "code",
   "execution_count": 73,
   "id": "b3fcc666-f201-41df-8efc-4c7f30c4aab6",
   "metadata": {},
   "outputs": [
    {
     "name": "stdout",
     "output_type": "stream",
     "text": [
      "*\n",
      "**\n",
      "***\n",
      "****\n",
      "*****\n",
      "******\n",
      "*******\n"
     ]
    }
   ],
   "source": [
    "n = 7\n",
    "for i in range (0,n):\n",
    "    for j in range(0,i+1):\n",
    "        print(\"*\",end=\"\") # prints in one line\n",
    "    print(\"\\r\") # goes to next line\n",
    "\n",
    "# print(\"/r\") - goes to next line\n",
    "# print(\"/n\") - adds a new line"
   ]
  },
  {
   "cell_type": "code",
   "execution_count": 83,
   "id": "6fc5d52b-7aaf-46c6-b747-7ea01727b9c3",
   "metadata": {},
   "outputs": [
    {
     "name": "stdout",
     "output_type": "stream",
     "text": [
      "      * \n",
      "     * * \n",
      "    * * * \n",
      "   * * * * \n",
      "  * * * * * \n",
      " * * * * * * \n",
      "* * * * * * * \n"
     ]
    }
   ],
   "source": [
    "# Assignment - Print equilateral triangle\n",
    "# Answer -\n",
    "n=6\n",
    "for i in range(1, 8):\n",
    "    print(' '*n, end='') # repet space for n times\n",
    "    print('* '*(i)) # repeat stars for i times\n",
    "    n=n-1"
   ]
  },
  {
   "cell_type": "markdown",
   "id": "cf6a64c6-480e-4540-873f-f9d23ff09a5f",
   "metadata": {},
   "source": [
    "## BREAK, CONTINUE"
   ]
  },
  {
   "cell_type": "code",
   "execution_count": 85,
   "id": "5179ee9d-b30c-485a-87ed-caf2f2df05e0",
   "metadata": {},
   "outputs": [
    {
     "name": "stdout",
     "output_type": "stream",
     "text": [
      "Mango\n",
      "Apple\n",
      "Cherry\n",
      "You have reached at Cherry\n"
     ]
    }
   ],
   "source": [
    "# Given fruit list = Mango,Apple,Cherry,Banana\n",
    "# Print fruit names\n",
    "# Stop printing when you reach Cherry\n",
    "\n",
    "fruits = [\"Mango\",\"Apple\",\"Cherry\",\"Banana\"]\n",
    "for i in fruits:\n",
    "    print(i)\n",
    "    if i == \"Cherry\":\n",
    "        print(\"You have reached at Cherry\")\n",
    "        break  # comes out of loop"
   ]
  },
  {
   "cell_type": "code",
   "execution_count": 87,
   "id": "4f2f2958-0918-4198-a881-51d971f45d02",
   "metadata": {},
   "outputs": [
    {
     "name": "stdout",
     "output_type": "stream",
     "text": [
      "Mango\n",
      "Cherry\n",
      "Banana\n"
     ]
    }
   ],
   "source": [
    "# Given fruit list = Mango,Apple,Cherry,Banana\n",
    "# Print fruit names\n",
    "# Skip Apple\n",
    "\n",
    "fruits = [\"Mango\",\"Apple\",\"Cherry\",\"Banana\"]\n",
    "for i in fruits:\n",
    "    if i == \"Apple\":\n",
    "        continue # skips when condition is satisfied\n",
    "    print(i)"
   ]
  },
  {
   "cell_type": "code",
   "execution_count": 88,
   "id": "ff910897-387e-45bd-abf5-7b5e6c3f2dcc",
   "metadata": {},
   "outputs": [],
   "source": [
    "# Break - stops loop\n",
    "# Continue - skips"
   ]
  },
  {
   "cell_type": "code",
   "execution_count": null,
   "id": "39ac6034-a129-4ac3-a1c7-68bf164568c6",
   "metadata": {},
   "outputs": [],
   "source": []
  }
 ],
 "metadata": {
  "kernelspec": {
   "display_name": "Python 3 (ipykernel)",
   "language": "python",
   "name": "python3"
  },
  "language_info": {
   "codemirror_mode": {
    "name": "ipython",
    "version": 3
   },
   "file_extension": ".py",
   "mimetype": "text/x-python",
   "name": "python",
   "nbconvert_exporter": "python",
   "pygments_lexer": "ipython3",
   "version": "3.10.8"
  }
 },
 "nbformat": 4,
 "nbformat_minor": 5
}
