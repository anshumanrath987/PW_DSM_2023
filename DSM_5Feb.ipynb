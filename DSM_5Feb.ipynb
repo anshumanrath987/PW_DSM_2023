{
 "cells": [
  {
   "cell_type": "markdown",
   "id": "3cc0f426-8ac7-4f90-ab27-d6567736e150",
   "metadata": {},
   "source": [
    "# DSM Class 5th Feb, 2023\n",
    "## Quick Coding Notes\n",
    "### Written by: Anshuman Rath"
   ]
  },
  {
   "cell_type": "markdown",
   "id": "973717d6-7aa0-4f14-bd6c-ef8b195d136c",
   "metadata": {},
   "source": [
    "# OOPS"
   ]
  },
  {
   "cell_type": "raw",
   "id": "dc42543f-f3c4-4d93-aab3-c8725e5bc0dd",
   "metadata": {},
   "source": [
    "OOP = Object Oriented Programming\n",
    "OOPS uses the concept of classes and objects\n",
    "\n",
    "Advantages of Using Classes in Python -\n",
    "(1) Classes provide an easy way of keeping the data members and methods together in one place which helps in keeping the program more organized.\n",
    "(2) Classes also provides another functionality of this object-oriented programming paradigm, that is, inheritance.\n",
    "(3) Classes also help in overriding any standard operator.\n",
    "(4) Classes provides the ability to reuse the code which makes the program more efficient.\n",
    "(5) Grouping related functions and keeping them in one place (inside a class) provides a clean structure to the code which increases the readability of the program."
   ]
  },
  {
   "cell_type": "code",
   "execution_count": 3,
   "id": "0a5b2593-1596-4bd6-929f-6958e0f274ae",
   "metadata": {},
   "outputs": [],
   "source": [
    "# to create a class\n",
    "\n",
    "class test:\n",
    "    pass"
   ]
  },
  {
   "cell_type": "code",
   "execution_count": 6,
   "id": "97348e31-266c-41f7-add1-bbfe6aa0dcf9",
   "metadata": {},
   "outputs": [
    {
     "name": "stdout",
     "output_type": "stream",
     "text": [
      "<class '__main__.test'>\n"
     ]
    }
   ],
   "source": [
    "a = test()  # a is an object (or instance or variable) belonging to class test\n",
    "print(type(a))"
   ]
  },
  {
   "cell_type": "code",
   "execution_count": 8,
   "id": "a5d85ac3-fced-4349-ad14-cf9f3a20ca5d",
   "metadata": {},
   "outputs": [],
   "source": [
    "class PWSkills:\n",
    "    def welcome_msg(self):  # by using the “self” we can access the attributes and methods of the class\n",
    "        print(\"Welcome to PW Skills\")"
   ]
  },
  {
   "cell_type": "code",
   "execution_count": 10,
   "id": "e2129a5f-cd9b-4f73-8a68-5cfb3d94f11e",
   "metadata": {},
   "outputs": [
    {
     "name": "stdout",
     "output_type": "stream",
     "text": [
      "Welcome to PW Skills\n"
     ]
    }
   ],
   "source": [
    "rohan = PWSkills()\n",
    "rohan.welcome_msg()"
   ]
  },
  {
   "cell_type": "code",
   "execution_count": 36,
   "id": "1880c159-e6db-4677-aab1-9510f92a61f4",
   "metadata": {},
   "outputs": [],
   "source": [
    "# Constructor helps a class to take data\n",
    "\n",
    "class pwskills:\n",
    "    def __init__(self, ph_no, email_id, student_id): # __init__() function is called automatically every time the class is being used to create a new object\n",
    "        self.ph_no = ph_no\n",
    "        self.email_id = email_id\n",
    "        self.student_id = student_id\n",
    "    \n",
    "    \n",
    "    def return_student_details(self):\n",
    "        return self.ph_no, self.email_id, self.student_id\n",
    "\n",
    "# however self is not a reserved keyword\n",
    "# you can use anything in place of self\n",
    "# in the line self.ph_no = ph_no class tries to call self.ph_no"
   ]
  },
  {
   "cell_type": "code",
   "execution_count": 27,
   "id": "80572c1a-7802-4ab7-a497-362a258f0423",
   "metadata": {},
   "outputs": [],
   "source": [
    "rohan = pwskills(1234, \"rohan@gmail.com\", 101)"
   ]
  },
  {
   "cell_type": "code",
   "execution_count": 29,
   "id": "a2fe2bde-ad80-4342-ac63-56fd299f51cb",
   "metadata": {},
   "outputs": [
    {
     "data": {
      "text/plain": [
       "1234"
      ]
     },
     "execution_count": 29,
     "metadata": {},
     "output_type": "execute_result"
    }
   ],
   "source": [
    "rohan.ph_no"
   ]
  },
  {
   "cell_type": "code",
   "execution_count": 30,
   "id": "0c3f559b-28e1-484b-bd44-b9cffb4dcb50",
   "metadata": {},
   "outputs": [
    {
     "data": {
      "text/plain": [
       "'rohan@gmail.com'"
      ]
     },
     "execution_count": 30,
     "metadata": {},
     "output_type": "execute_result"
    }
   ],
   "source": [
    "rohan.email_id"
   ]
  },
  {
   "cell_type": "code",
   "execution_count": 37,
   "id": "f666bb5c-dc51-4ffc-b6df-41910480eb00",
   "metadata": {},
   "outputs": [
    {
     "data": {
      "text/plain": [
       "(1234, 'rohan@gmail.com', 101)"
      ]
     },
     "execution_count": 37,
     "metadata": {},
     "output_type": "execute_result"
    }
   ],
   "source": [
    "rohan.return_student_details()"
   ]
  }
 ],
 "metadata": {
  "kernelspec": {
   "display_name": "Python 3 (ipykernel)",
   "language": "python",
   "name": "python3"
  },
  "language_info": {
   "codemirror_mode": {
    "name": "ipython",
    "version": 3
   },
   "file_extension": ".py",
   "mimetype": "text/x-python",
   "name": "python",
   "nbconvert_exporter": "python",
   "pygments_lexer": "ipython3",
   "version": "3.10.8"
  }
 },
 "nbformat": 4,
 "nbformat_minor": 5
}
